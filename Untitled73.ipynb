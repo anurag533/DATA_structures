{
 "cells": [
  {
   "cell_type": "code",
   "execution_count": 84,
   "metadata": {},
   "outputs": [],
   "source": [
    "class Node:\n",
    "    def __init__(self,data):\n",
    "        self.data = data\n",
    "        self.next = None\n",
    "        \n",
    "\n",
    "class linked_list:\n",
    "    def __init__(self):\n",
    "         self.head = None\n",
    "         \n",
    "    def append(self,data):\n",
    "        newnode = Node(data)\n",
    "        if self.head is None:\n",
    "            self.head = newnode\n",
    "            return\n",
    "        lastnode = self.head\n",
    "        while lastnode.next:\n",
    "            lastnode = lastnode.next\n",
    "        lastnode.next = newnode\n",
    "        \n",
    "    def prepend(self,data):\n",
    "        newnode = Node(data)\n",
    "        newnode.next = self.head\n",
    "        self.head = newnode\n",
    "    \n",
    "    def printlist(self):\n",
    "        currentnode = self.head\n",
    "        while currentnode:\n",
    "            print(currentnode.data)\n",
    "            currentnode = currentnode.next\n",
    "    \n",
    "    def insert(self,prevnode,data):\n",
    "        if not prevnode:\n",
    "            print(\"enter the prevnode\")\n",
    "            return\n",
    "        k = Node(data)\n",
    "        k.next = prevnode.next\n",
    "        prevnode.next = k\n",
    "        \n",
    "    def delete(self,key):\n",
    "        currentnode = self.head\n",
    "        if currentnode and currentnode.data == key:\n",
    "            self.head = currentnode.next\n",
    "            currentnode = None\n",
    "            return\n",
    "        \n",
    "        prev = None\n",
    "        while currentnode and currentnode.data != key:\n",
    "            prev = currentnode\n",
    "            currentnode = currentnode.next\n",
    "            \n",
    "        if currentnode is None:\n",
    "            return\n",
    "        \n",
    "        prev.next = currentnode.next\n",
    "        currentnode = Nonea\n",
    "            \n",
    "        "
   ]
  },
  {
   "cell_type": "code",
   "execution_count": 85,
   "metadata": {},
   "outputs": [],
   "source": [
    "k = linked_list()"
   ]
  },
  {
   "cell_type": "code",
   "execution_count": 86,
   "metadata": {},
   "outputs": [],
   "source": [
    "k.append(1)"
   ]
  },
  {
   "cell_type": "code",
   "execution_count": 87,
   "metadata": {},
   "outputs": [
    {
     "name": "stdout",
     "output_type": "stream",
     "text": [
      "1\n"
     ]
    }
   ],
   "source": [
    "k.printlist()"
   ]
  },
  {
   "cell_type": "code",
   "execution_count": 96,
   "metadata": {},
   "outputs": [],
   "source": [
    "k.insert(k.head.next,19020)"
   ]
  },
  {
   "cell_type": "code",
   "execution_count": 97,
   "metadata": {},
   "outputs": [
    {
     "name": "stdout",
     "output_type": "stream",
     "text": [
      "1\n",
      "1020\n",
      "19020\n",
      "10000\n",
      "1020\n",
      "7\n"
     ]
    }
   ],
   "source": [
    "k.printlist()"
   ]
  },
  {
   "cell_type": "code",
   "execution_count": 90,
   "metadata": {},
   "outputs": [],
   "source": [
    "k.insert(k.head.next,7)"
   ]
  },
  {
   "cell_type": "code",
   "execution_count": null,
   "metadata": {},
   "outputs": [],
   "source": [
    "k.pri"
   ]
  },
  {
   "cell_type": "code",
   "execution_count": null,
   "metadata": {},
   "outputs": [],
   "source": []
  },
  {
   "cell_type": "code",
   "execution_count": null,
   "metadata": {},
   "outputs": [],
   "source": []
  },
  {
   "cell_type": "code",
   "execution_count": null,
   "metadata": {},
   "outputs": [],
   "source": []
  },
  {
   "cell_type": "code",
   "execution_count": null,
   "metadata": {},
   "outputs": [],
   "source": []
  },
  {
   "cell_type": "code",
   "execution_count": null,
   "metadata": {},
   "outputs": [],
   "source": []
  },
  {
   "cell_type": "code",
   "execution_count": null,
   "metadata": {},
   "outputs": [],
   "source": []
  },
  {
   "cell_type": "code",
   "execution_count": null,
   "metadata": {},
   "outputs": [],
   "source": []
  },
  {
   "cell_type": "code",
   "execution_count": null,
   "metadata": {},
   "outputs": [],
   "source": []
  },
  {
   "cell_type": "code",
   "execution_count": null,
   "metadata": {},
   "outputs": [],
   "source": []
  },
  {
   "cell_type": "code",
   "execution_count": null,
   "metadata": {},
   "outputs": [],
   "source": []
  },
  {
   "cell_type": "code",
   "execution_count": null,
   "metadata": {},
   "outputs": [],
   "source": []
  }
 ],
 "metadata": {
  "kernelspec": {
   "display_name": "Python 3",
   "language": "python",
   "name": "python3"
  },
  "language_info": {
   "codemirror_mode": {
    "name": "ipython",
    "version": 3
   },
   "file_extension": ".py",
   "mimetype": "text/x-python",
   "name": "python",
   "nbconvert_exporter": "python",
   "pygments_lexer": "ipython3",
   "version": "3.6.0"
  }
 },
 "nbformat": 4,
 "nbformat_minor": 2
}
