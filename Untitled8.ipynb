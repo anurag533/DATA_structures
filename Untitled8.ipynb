{
 "cells": [
  {
   "cell_type": "code",
   "execution_count": 3,
   "metadata": {},
   "outputs": [
    {
     "name": "stdout",
     "output_type": "stream",
     "text": [
      "[-1, -2, -3, -4, -5, -6, -7, -8, -9, -10]\n"
     ]
    }
   ],
   "source": [
    "list_neg=[0-i for i in range(1,11)]\n",
    "print(list_neg)"
   ]
  },
  {
   "cell_type": "code",
   "execution_count": 142,
   "metadata": {},
   "outputs": [
    {
     "name": "stdout",
     "output_type": "stream",
     "text": [
      "k\n"
     ]
    }
   ],
   "source": [
    "l=[\"net\",\"\",\"newrt\",\"newrthth\"]\n",
    "x=l[0]\n",
    "for i in (l):\n",
    "    if len(i)==0:\n",
    "        printn\")\n",
    "        break\n",
    "    else:\n",
    "        for i in x:\n",
    "            if i in y and x.index(i)==y.index(i):\n",
    "                print(i)\n"
   ]
  },
  {
   "cell_type": "code",
   "execution_count": 224,
   "metadata": {},
   "outputs": [
    {
     "name": "stdout",
     "output_type": "stream",
     "text": [
      "n\n",
      "new nwrt\n",
      "e\n",
      "new newrthth\n",
      "w\n",
      "ne\n"
     ]
    }
   ],
   "source": [
    "l=[\"new\",\"nwrt\",\"newrthth\"]\n",
    "z=\"\"\n",
    "x=l[0]\n",
    "for i in (l):\n",
    "    if len(i)==0:\n",
    "        print(\"k\")\n",
    "        break\n",
    "c=0\n",
    "for j in x:\n",
    "    print(j)\n",
    "    m=c\n",
    "    if m==len(l)-1:\n",
    "            break\n",
    "    y=l[m+1]\n",
    "    print(x,y)\n",
    "    if j in y and x.index(j)==y.index(j):\n",
    "        z+=j\n",
    "    if j not in y:\n",
    "        break\n",
    "    c+=1\n",
    "print(z)\n",
    "    "
   ]
  },
  {
   "cell_type": "code",
   "execution_count": 170,
   "metadata": {},
   "outputs": [
    {
     "name": "stdout",
     "output_type": "stream",
     "text": [
      "k\n"
     ]
    }
   ],
   "source": [
    "l=[\"net\",\"newrt\",\"newrthth\"]\n",
    "x=l[0]\n",
    "for j in x:\n",
    "    if len(i)==0:\n",
    "        print(\"k\")\n",
    "        break\n",
    "        m=1\n",
    "    if i==len(l)-1:\n",
    "         break\n",
    "    y=l[m+1]\n",
    "    if j in y and x.index(j)==y.index(j) :\n",
    "                    print(j)\n",
    "    else:\n",
    "               pass"
   ]
  },
  {
   "cell_type": "code",
   "execution_count": null,
   "metadata": {},
   "outputs": [],
   "source": []
  }
 ],
 "metadata": {
  "kernelspec": {
   "display_name": "Python 3",
   "language": "python",
   "name": "python3"
  },
  "language_info": {
   "codemirror_mode": {
    "name": "ipython",
    "version": 3
   },
   "file_extension": ".py",
   "mimetype": "text/x-python",
   "name": "python",
   "nbconvert_exporter": "python",
   "pygments_lexer": "ipython3",
   "version": "3.6.0"
  }
 },
 "nbformat": 4,
 "nbformat_minor": 2
}
