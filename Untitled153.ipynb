{
 "cells": [
  {
   "cell_type": "code",
   "execution_count": 1,
   "metadata": {},
   "outputs": [
    {
     "name": "stdout",
     "output_type": "stream",
     "text": [
      "pygame 1.9.6\n",
      "Hello from the pygame community. https://www.pygame.org/contribute.html\n"
     ]
    }
   ],
   "source": [
    "import pygame\n",
    "pygame.init()\n",
    "win = pygame.display.set_mode((500,480))\n",
    "pygame.display.set_caption('Game')\n",
    "walkRight = [pygame.image.load('R1.png'), pygame.image.load('R2.png'), pygame.image.load('R3.png'), pygame.image.load('R4.png'), pygame.image.load('R5.png'), pygame.image.load('R6.png'), pygame.image.load('R7.png'), pygame.image.load('R8.png'), pygame.image.load('R9.png')]\n",
    "walkLeft = [pygame.image.load('L1.png'), pygame.image.load('L2.png'), pygame.image.load('L3.png'), pygame.image.load('L4.png'), pygame.image.load('L5.png'), pygame.image.load('L6.png'), pygame.image.load('L7.png'), pygame.image.load('L8.png'), pygame.image.load('L9.png')]\n",
    "bg = pygame.image.load('bg.jpg')\n",
    "char = pygame.image.load('standing.png')\n",
    "clock = pygame.time.Clock()\n",
    "x = 50\n",
    "y = 425\n",
    "width = 64\n",
    "height = 64\n",
    "vel = 5\n",
    "isjump = False\n",
    "jumpcount = 10\n",
    "left = False\n",
    "right = False\n",
    "walkcount = 0\n",
    "\n",
    "def redrawgamewindow():\n",
    "    global walkcount\n",
    "    win.blit(bg, (0,0))\n",
    "    if walkcount +1 >= 27:\n",
    "        walkcount = 0\n",
    "    if left:\n",
    "        win.blit(walkLeft[walkcount//3],(x,y))\n",
    "        walkcount += 1\n",
    "    elif right:\n",
    "        win.blit(walkRight[walkcount//3],(x,y))\n",
    "        walkcount += 1\n",
    "    else:\n",
    "        win.blit(char,(x,y))\n",
    "    pygame.display.update()\n",
    "    \n",
    "    \n",
    "    \n",
    "#mainloop\n",
    "run = True\n",
    "while run:\n",
    "    clock.tick(27)\n",
    "    for event in pygame.event.get():\n",
    "        if event.type == pygame.QUIT:\n",
    "             run =  False\n",
    "    keys = pygame.key.get_pressed()\n",
    "    if keys[pygame.K_LEFT] and x > vel :\n",
    "        x -= vel\n",
    "        left = True\n",
    "        right = False\n",
    "    elif keys[pygame.K_RIGHT] and x < 500 - vel - width:\n",
    "        x += vel\n",
    "        left = False\n",
    "        right = True\n",
    "    else:\n",
    "        left = False\n",
    "        right = False\n",
    "        walkcount = 0\n",
    "        \n",
    "    if not (isjump):\n",
    "        isjump = False\n",
    "        left = False\n",
    "        right = False\n",
    "        walkcount = 0\n",
    "        if keys[pygame.K_SPACE] and y > vel:\n",
    "            isjump = True\n",
    "    else:\n",
    "        if jumpcount >= -10:\n",
    "            neg = 1\n",
    "            if jumpcount < 0:\n",
    "                neg = -1\n",
    "            y -= (jumpcount **2 ) * 0.5 * neg\n",
    "            jumpcount -= 1\n",
    "        else:\n",
    "            isjump = False\n",
    "            jumpcount = 10\n",
    "    \n",
    "    redrawgamewindow()\n",
    "    \n",
    "pygame.quit()"
   ]
  },
  {
   "cell_type": "code",
   "execution_count": null,
   "metadata": {},
   "outputs": [],
   "source": []
  }
 ],
 "metadata": {
  "kernelspec": {
   "display_name": "Python 3",
   "language": "python",
   "name": "python3"
  },
  "language_info": {
   "codemirror_mode": {
    "name": "ipython",
    "version": 3
   },
   "file_extension": ".py",
   "mimetype": "text/x-python",
   "name": "python",
   "nbconvert_exporter": "python",
   "pygments_lexer": "ipython3",
   "version": "3.7.6"
  }
 },
 "nbformat": 4,
 "nbformat_minor": 4
}
