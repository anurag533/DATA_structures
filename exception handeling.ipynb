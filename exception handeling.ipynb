{
 "cells": [
  {
   "cell_type": "code",
   "execution_count": 106,
   "metadata": {},
   "outputs": [
    {
     "name": "stdout",
     "output_type": "stream",
     "text": [
      "floowooero flooooooooooooooooo\n",
      "flooooooooooooooooo fl\n"
     ]
    },
    {
     "ename": "IndexError",
     "evalue": "string index out of range",
     "output_type": "error",
     "traceback": [
      "\u001b[1;31m---------------------------------------------------------------------------\u001b[0m",
      "\u001b[1;31mIndexError\u001b[0m                                Traceback (most recent call last)",
      "\u001b[1;32m<ipython-input-106-b39bf316d925>\u001b[0m in \u001b[0;36m<module>\u001b[1;34m\u001b[0m\n\u001b[0;32m     18\u001b[0m     \u001b[1;32mif\u001b[0m \u001b[0mi\u001b[0m \u001b[1;33m>\u001b[0m \u001b[0mlen\u001b[0m\u001b[1;33m(\u001b[0m\u001b[0mb\u001b[0m\u001b[1;33m)\u001b[0m\u001b[1;33m:\u001b[0m\u001b[1;33m\u001b[0m\u001b[0m\n\u001b[0;32m     19\u001b[0m         \u001b[1;32mfor\u001b[0m \u001b[0mi\u001b[0m \u001b[1;32min\u001b[0m \u001b[0mrange\u001b[0m\u001b[1;33m(\u001b[0m\u001b[0mlen\u001b[0m\u001b[1;33m(\u001b[0m\u001b[0ml\u001b[0m\u001b[1;33m[\u001b[0m\u001b[1;36m0\u001b[0m\u001b[1;33m]\u001b[0m\u001b[1;33m)\u001b[0m\u001b[1;33m)\u001b[0m\u001b[1;33m:\u001b[0m\u001b[1;33m\u001b[0m\u001b[0m\n\u001b[1;32m---> 20\u001b[1;33m                 \u001b[1;32mif\u001b[0m \u001b[0ma\u001b[0m\u001b[1;33m[\u001b[0m\u001b[0mi\u001b[0m\u001b[1;33m]\u001b[0m\u001b[1;33m==\u001b[0m\u001b[0mb\u001b[0m\u001b[1;33m[\u001b[0m\u001b[0mi\u001b[0m\u001b[1;33m]\u001b[0m \u001b[1;32mand\u001b[0m \u001b[0ma\u001b[0m\u001b[1;33m.\u001b[0m\u001b[0mindex\u001b[0m\u001b[1;33m(\u001b[0m\u001b[0mb\u001b[0m\u001b[1;33m[\u001b[0m\u001b[0mi\u001b[0m\u001b[1;33m]\u001b[0m\u001b[1;33m)\u001b[0m \u001b[1;33m==\u001b[0m \u001b[0mb\u001b[0m\u001b[1;33m.\u001b[0m\u001b[0mindex\u001b[0m\u001b[1;33m(\u001b[0m\u001b[0ma\u001b[0m\u001b[1;33m[\u001b[0m\u001b[0mi\u001b[0m\u001b[1;33m]\u001b[0m\u001b[1;33m)\u001b[0m\u001b[1;33m:\u001b[0m\u001b[1;33m\u001b[0m\u001b[0m\n\u001b[0m\u001b[0;32m     21\u001b[0m                     \u001b[0mj\u001b[0m\u001b[1;33m+=\u001b[0m\u001b[0mb\u001b[0m\u001b[1;33m[\u001b[0m\u001b[0mi\u001b[0m\u001b[1;33m]\u001b[0m\u001b[1;33m\u001b[0m\u001b[0m\n\u001b[0;32m     22\u001b[0m                 \u001b[1;32melse\u001b[0m\u001b[1;33m:\u001b[0m\u001b[1;33m\u001b[0m\u001b[0m\n",
      "\u001b[1;31mIndexError\u001b[0m: string index out of range"
     ]
    }
   ],
   "source": [
    "\n",
    "l=[\"floowooero\",\"flooooooooooooooooo\",\"fl\",\"f\"]\n",
    "j=\"\"\n",
    "for x in range(len(l)):\n",
    "   \n",
    "    a=l[x]\n",
    "    \n",
    "    if x==(len(l)-1):\n",
    "        break\n",
    "    else:\n",
    "        b=l[x+1]\n",
    "        print(a,b)\n",
    "    if i <len(b):\n",
    "        for i in range(len(l[0])):       \n",
    "                if a[i]==b[i] and a.index(b[i]) == b.index(a[i]):\n",
    "                    j+=a[i]\n",
    "                else:\n",
    "                    pass\n",
    "    if i > len(b):\n",
    "        for i in range(len(l[0])):       \n",
    "                if a[i]==b[i] and a.index(b[i]) == b.index(a[i]):\n",
    "                    j+=b[i]\n",
    "                else:\n",
    "                    break\n",
    "print(j)\n",
    "    "
   ]
  },
  {
   "cell_type": "code",
   "execution_count": 1,
   "metadata": {},
   "outputs": [
    {
     "name": "stdout",
     "output_type": "stream",
     "text": [
      "fl\n"
     ]
    }
   ],
   "source": [
    "a=\"flloe\"\n",
    "b=\"flooooooooo\"\n",
    "z=\"\"\n",
    "if len(a)<len(b):\n",
    "    for i in range(len(a)):\n",
    "            if a[i] == b[i] and b.index(a[i])==a.index(b[i]): \n",
    "                 z+=b[i]\n",
    "            else:\n",
    "                break\n",
    "if len(a) > len(b):\n",
    "    for i in range(len(b)):\n",
    "            if a[i] == b[i] and b.index(a[i])==a.index(b[i]): \n",
    "                z+=b[i]\n",
    "                \n",
    "            else:\n",
    "                break\n",
    "print(z)"
   ]
  },
  {
   "cell_type": "code",
   "execution_count": 136,
   "metadata": {},
   "outputs": [
    {
     "name": "stdout",
     "output_type": "stream",
     "text": [
      "f\n",
      "fo\n",
      "fol\n",
      "folo\n"
     ]
    }
   ],
   "source": [
    "\n",
    "a=\"floowooero\"\n",
    "b=\"folo\"\n",
    "c=\"\"\n",
    "for i in b:\n",
    "    c += i\n",
    "    print(c)"
   ]
  },
  {
   "cell_type": "code",
   "execution_count": null,
   "metadata": {},
   "outputs": [],
   "source": []
  },
  {
   "cell_type": "code",
   "execution_count": null,
   "metadata": {},
   "outputs": [],
   "source": []
  },
  {
   "cell_type": "code",
   "execution_count": null,
   "metadata": {},
   "outputs": [],
   "source": []
  },
  {
   "cell_type": "code",
   "execution_count": null,
   "metadata": {},
   "outputs": [],
   "source": []
  },
  {
   "cell_type": "code",
   "execution_count": null,
   "metadata": {},
   "outputs": [],
   "source": []
  },
  {
   "cell_type": "code",
   "execution_count": 125,
   "metadata": {
    "collapsed": true
   },
   "outputs": [
    {
     "ename": "AttributeError",
     "evalue": "'str' object has no attribute 'append'",
     "output_type": "error",
     "traceback": [
      "\u001b[1;31m---------------------------------------------------------------------------\u001b[0m",
      "\u001b[1;31mAttributeError\u001b[0m                            Traceback (most recent call last)",
      "\u001b[1;32m<ipython-input-125-1c1f06fbbf9a>\u001b[0m in \u001b[0;36m<module>\u001b[1;34m\u001b[0m\n\u001b[0;32m      2\u001b[0m \u001b[0mb\u001b[0m\u001b[1;33m=\u001b[0m\u001b[1;34m\"folo\"\u001b[0m\u001b[1;33m\u001b[0m\u001b[0m\n\u001b[0;32m      3\u001b[0m \u001b[0mc\u001b[0m\u001b[1;33m=\u001b[0m\u001b[1;34m\"\"\u001b[0m\u001b[1;33m\u001b[0m\u001b[0m\n\u001b[1;32m----> 4\u001b[1;33m \u001b[0mprint\u001b[0m\u001b[1;33m(\u001b[0m\u001b[0mc\u001b[0m\u001b[1;33m.\u001b[0m\u001b[0mappend\u001b[0m\u001b[1;33m(\u001b[0m\u001b[0ma\u001b[0m\u001b[1;33m[\u001b[0m\u001b[0mi\u001b[0m\u001b[1;33m]\u001b[0m\u001b[1;33m)\u001b[0m\u001b[1;33m)\u001b[0m\u001b[1;33m\u001b[0m\u001b[0m\n\u001b[0m",
      "\u001b[1;31mAttributeError\u001b[0m: 'str' object has no attribute 'append'"
     ]
    }
   ],
   "source": [
    "a=\"floowooero\"\n",
    "b=\"folo\"\n",
    "c=\"\"\n",
    "print(c.append(a[i]))"
   ]
  },
  {
   "cell_type": "code",
   "execution_count": null,
   "metadata": {},
   "outputs": [],
   "source": []
  },
  {
   "cell_type": "code",
   "execution_count": null,
   "metadata": {},
   "outputs": [],
   "source": []
  },
  {
   "cell_type": "code",
   "execution_count": null,
   "metadata": {},
   "outputs": [],
   "source": []
  },
  {
   "cell_type": "code",
   "execution_count": null,
   "metadata": {},
   "outputs": [],
   "source": []
  },
  {
   "cell_type": "code",
   "execution_count": 25,
   "metadata": {},
   "outputs": [
    {
     "name": "stdout",
     "output_type": "stream",
     "text": [
      "[1, 2, 3, 0, 0, 0]\n",
      "[0, 0, 0, 1, 2, 2, 3, 4, 6]\n",
      "0\n",
      "0\n",
      "1\n",
      "1\n",
      "2\n",
      "3\n",
      "4\n",
      "5\n"
     ]
    },
    {
     "data": {
      "text/plain": [
       "[1, 2, 2, 3, 4, 6]"
      ]
     },
     "execution_count": 25,
     "metadata": {},
     "output_type": "execute_result"
    }
   ],
   "source": [
    "\n",
    "    nums1=[1,2,3,0,0,0]\n",
    "    c=len(nums1)\n",
    "    print(nums1)\n",
    "    nums2=[2,4,6]\n",
    "    nums1=nums1 + nums2\n",
    "    nums1.sort()\n",
    "\n",
    "\n",
    "    print(nums1)\n",
    "    for i in range(c):\n",
    "        print(i)\n",
    "        if nums1[i]==0:\n",
    "            print(i)\n",
    "            x=nums1.pop(i)\n",
    "        else:\n",
    "            pass \n",
    "    if nums1[0]==0:\n",
    "        nums1.pop(0)\n",
    "    return nums1"
   ]
  },
  {
   "cell_type": "code",
   "execution_count": null,
   "metadata": {},
   "outputs": [],
   "source": []
  },
  {
   "cell_type": "code",
   "execution_count": null,
   "metadata": {},
   "outputs": [],
   "source": []
  },
  {
   "cell_type": "code",
   "execution_count": 61,
   "metadata": {},
   "outputs": [
    {
     "name": "stdout",
     "output_type": "stream",
     "text": [
      "[1, 2, 2, 3, 4, 6]\n",
      "[1, 2, 2, 3, 4, 6]\n",
      "[1, 2, 2, 3, 4, 6]\n"
     ]
    }
   ],
   "source": [
    "nums1=[1,2,3,0,0,0]\n",
    "nums2=[2,4,6]\n",
    "c=len(nums1)\n",
    "d=len(nums2)\n",
    "nums1=nums1 + nums2\n",
    "nums1.sort()\n",
    "for i in range(c):\n",
    "    if nums1[i]==0:\n",
    "        nums2.append(nums1[i])\n",
    "        continue\n",
    "    if len(nums2)==2*d:\n",
    "         pass\n",
    "    else:\n",
    "        print(\"not possible\")\n",
    "        break\n",
    "    for i in range(c):\n",
    "        if nums1[i]==0:\n",
    "            x=nums1.pop(i)\n",
    "        else:\n",
    "            pass\n",
    "    if nums1[0]==0:\n",
    "         nums1.pop(0)\n",
    "    print(nums1)"
   ]
  },
  {
   "cell_type": "code",
   "execution_count": 127,
   "metadata": {},
   "outputs": [],
   "source": [
    "def merge( nums1,m,nums2,n) -> None:        \n",
    "        c=len(nums1)\n",
    "        d=len(nums2)\n",
    "        if d==n and (c > m+n or c==m+n):\n",
    "            nums1.sort()\n",
    "            for i in range(m):\n",
    "                 nums1.pop(0)\n",
    "            nums1=nums1 + nums2\n",
    "            nums1.sort()\n",
    "            \n",
    "            for i in range(c):\n",
    "                temp=0\n",
    "                if nums1[i]==0:\n",
    "                    nums2.append(nums1[i])\n",
    "                    temp+=1\n",
    "                    continue\n",
    "                if len(nums2)==2*d:\n",
    "                    pass\n",
    "                else:\n",
    "                    return -1\n",
    "                \n",
    "                if nums1[0]==0:\n",
    "                     nums1.pop(0)\n",
    "                else:\n",
    "                    pass\n",
    "                return nums1\n",
    "            else:\n",
    "                return -1\n",
    "        else:\n",
    "            return -1"
   ]
  },
  {
   "cell_type": "code",
   "execution_count": 128,
   "metadata": {},
   "outputs": [
    {
     "data": {
      "text/plain": [
       "-1"
      ]
     },
     "execution_count": 128,
     "metadata": {},
     "output_type": "execute_result"
    }
   ],
   "source": [
    "merge([1,2,3,0,0,0],3,[2,3,4],3)"
   ]
  },
  {
   "cell_type": "code",
   "execution_count": 124,
   "metadata": {},
   "outputs": [
    {
     "name": "stdout",
     "output_type": "stream",
     "text": [
      "[0, 1, 2, 2, 3, 4, 6]\n"
     ]
    }
   ],
   "source": [
    "n=3\n",
    "m=3\n",
    "nums1=[1,2,3,0,0,0,0]\n",
    "nums2=[2,4,6]\n",
    "c=len(nums1)\n",
    "d=len(nums2)\n",
    "nums1.sort()\n",
    "if d==m:\n",
    "    for i in range(m):\n",
    "        nums1.pop(0)\n",
    "    nums1=nums1 + nums2\n",
    "    nums1.sort()\n",
    "    if c > m+n or c==m+n:\n",
    "        for i in range(c):\n",
    "            if nums1[i]==0:\n",
    "                nums2.append(nums1[i])\n",
    "                continue\n",
    "            if len(nums2)==2*d:\n",
    "                        pass\n",
    "            else:\n",
    "                        break\n",
    "\n",
    "            if nums1[0]==0:\n",
    "                         nums1.pop(0)\n",
    "            else:\n",
    "                        pass\n",
    "    print(nums1)\n",
    "            \n",
    "else:\n",
    "    print(\"-1\")\n",
    "        "
   ]
  },
  {
   "cell_type": "code",
   "execution_count": 114,
   "metadata": {},
   "outputs": [
    {
     "name": "stdout",
     "output_type": "stream",
     "text": [
      "[1, 2, 3]\n"
     ]
    }
   ],
   "source": [
    "n=3\n",
    "m=3\n",
    "nums1=[1,2,3,0,0,0]\n",
    "nums2=[2,4,6]\n",
    "c=len(nums1)\n",
    "d=len(nums2)\n",
    "nums1.sort()\n",
    "if d==m:\n",
    "    for i in range(m):\n",
    "        nums1.pop(0)\n",
    "    print(nums1)\n",
    "    nums1=nums1 + nums2\n",
    "    nums1.sort() \n",
    "else:\n",
    "    print(-1)"
   ]
  },
  {
   "cell_type": "code",
   "execution_count": 1,
   "metadata": {},
   "outputs": [
    {
     "name": "stdout",
     "output_type": "stream",
     "text": [
      "enter your age: 6\n",
      "not eligible to play\n"
     ]
    }
   ],
   "source": [
    "#exception handeling\n",
    "while True:\n",
    "    try:\n",
    "        age=int(input(\"enter your age: \"))\n",
    "        break\n",
    "    except:\n",
    "        print(\"not valid\")\n",
    "if age < 18:\n",
    "    print(\"not eligible to play\")\n",
    "else:\n",
    "    print(\"can play\")"
   ]
  },
  {
   "cell_type": "code",
   "execution_count": 4,
   "metadata": {},
   "outputs": [
    {
     "name": "stdout",
     "output_type": "stream",
     "text": [
      "enter your age: 35\n",
      "can play\n"
     ]
    }
   ],
   "source": [
    "while True:\n",
    "    try:\n",
    "        age=int(input(\"enter your age: \"))\n",
    "        break\n",
    "    except:\n",
    "        print(\"not valid\")\n",
    "if age < 18:\n",
    "    print(\"not eligible to play\")\n",
    "else:\n",
    "    print(\"can play\")"
   ]
  },
  {
   "cell_type": "code",
   "execution_count": null,
   "metadata": {},
   "outputs": [],
   "source": []
  }
 ],
 "metadata": {
  "kernelspec": {
   "display_name": "Python 3",
   "language": "python",
   "name": "python3"
  },
  "language_info": {
   "codemirror_mode": {
    "name": "ipython",
    "version": 3
   },
   "file_extension": ".py",
   "mimetype": "text/x-python",
   "name": "python",
   "nbconvert_exporter": "python",
   "pygments_lexer": "ipython3",
   "version": "3.6.0"
  }
 },
 "nbformat": 4,
 "nbformat_minor": 2
}
