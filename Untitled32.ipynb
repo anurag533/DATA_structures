{
 "cells": [
  {
   "cell_type": "code",
   "execution_count": 11,
   "metadata": {},
   "outputs": [],
   "source": [
    "nums1 = [1,2]\n",
    "nums2 = [1,1]\n",
    "\n",
    "if len(nums2) < len(nums1):\n",
    "    for i in range(len(nums2)):\n",
    "        z=nums2.pop(0)\n",
    "        if z in nums1:\n",
    "            x=nums1.index(z)\n",
    "            nums2.append(z)\n",
    "            nums1.pop(x)\n",
    "            \n",
    "        else:\n",
    "            pass\n",
    "    print(nums2)\n",
    "if len(nums1) < len(nums2):\n",
    "    for i in range(len(nums1)):\n",
    "        z=nums1.pop(0)\n",
    "        if z in nums2:\n",
    "            x=nums2.index(z)\n",
    "            nums1.append(z)\n",
    "            nums2.pop(x)\n",
    "            \n",
    "        else:\n",
    "            pass\n",
    "    print(nums1)\n"
   ]
  },
  {
   "cell_type": "code",
   "execution_count": 10,
   "metadata": {},
   "outputs": [
    {
     "data": {
      "text/plain": [
       "2"
      ]
     },
     "execution_count": 10,
     "metadata": {},
     "output_type": "execute_result"
    }
   ],
   "source": [
    "nums1.index(2)\n",
    "nums1.pop(1)"
   ]
  },
  {
   "cell_type": "code",
   "execution_count": 30,
   "metadata": {},
   "outputs": [
    {
     "name": "stdout",
     "output_type": "stream",
     "text": [
      "3\n",
      "1101\n"
     ]
    }
   ],
   "source": [
    "n=13\n",
    "count=\"\"\n",
    "while n>1:\n",
    "    x=n%2\n",
    "    count += str(x)\n",
    "   \n",
    "    y=n//2\n",
    "    n=y\n",
    "    if y==1:\n",
    "        count += \"1\"\n",
    "count=count[::-1]\n",
    "z=count.count(\"1\")\n",
    "print(z)\n",
    "print(count)"
   ]
  },
  {
   "cell_type": "code",
   "execution_count": null,
   "metadata": {},
   "outputs": [],
   "source": []
  }
 ],
 "metadata": {
  "kernelspec": {
   "display_name": "Python 3",
   "language": "python",
   "name": "python3"
  },
  "language_info": {
   "codemirror_mode": {
    "name": "ipython",
    "version": 3
   },
   "file_extension": ".py",
   "mimetype": "text/x-python",
   "name": "python",
   "nbconvert_exporter": "python",
   "pygments_lexer": "ipython3",
   "version": "3.6.0"
  }
 },
 "nbformat": 4,
 "nbformat_minor": 2
}
