{
 "cells": [
  {
   "cell_type": "code",
   "execution_count": 29,
   "metadata": {},
   "outputs": [],
   "source": [
    "class queue:\n",
    "    def __init__(self):\n",
    "        self.item = []\n",
    "    \n",
    "    def enqueue(self,value):\n",
    "        self.item.insert(0,value)\n",
    "    \n",
    "    def dequeue(self):\n",
    "        if not self.is_empty:\n",
    "            return self.item.pop()\n",
    "        \n",
    "    def is_empty(self):\n",
    "        return len(self.item) == 0\n",
    "    \n",
    "    def peek(self):\n",
    "        if not self.is_empty:\n",
    "            return self.item[-1].value\n",
    "    \n",
    "    def size(self):\n",
    "            return len(self.item)\n",
    "    \n",
    "    def __len__(self):\n",
    "        return len(self.item)\n",
    "    \n",
    "class node:\n",
    "    def __init__(self,value):\n",
    "        self.value = value\n",
    "        self.left  = None\n",
    "        self.right = None\n",
    "            \n",
    "class binarytree:\n",
    "    def __init__(self,root):\n",
    "        self.root = node(root)\n",
    "        \n",
    "    def print_traversal(self,traversal_type):\n",
    "        if traversal_type==\"preorder\":\n",
    "            return self.preorder_traversal(tree.root,\"\")\n",
    "        elif traversal_type==\"levelorder\":\n",
    "            return self.levelorder_traversal(tree.root)\n",
    "    def preorder_traversal(self,start,traversal):\n",
    "#       root -> left -> Right\n",
    "#       1->2->4->5->3->6->7\n",
    "        if start:\n",
    "            traversal += (str(start.value)+\"->\")\n",
    "            traversal = self.preorder_traversal(start.left,traversal)\n",
    "            traversal = self.preorder_traversal(start.right,traversal)\n",
    "        return traversal\n",
    "    \n",
    "    def levelorder_traversal(self,start):\n",
    "        if start is None:\n",
    "            return\n",
    "        q=queue()\n",
    "        q.enqueue(start)\n",
    "        traversal = \"\"\n",
    "        while len(q)>0:\n",
    "            print(len(q))\n",
    "            traversal += str(q.peek())+\"-\"\n",
    "            node = q.dequeue()\n",
    "            print(node)\n",
    "            if node.left:\n",
    "                q.enqueue(node.left)\n",
    "            if node.right:\n",
    "                q.enqueue(node.right)\n",
    "        return traversal\n",
    "            \n",
    "tree = binarytree(1) \n",
    "tree.root.left = node(2)\n",
    "tree.root.right = node(3)\n",
    "tree.root.left.left = node(4)\n",
    "tree.root.left.right = node(5)\n",
    "tree.root.right.left = node(6)\n",
    "tree.root.right.right = node(7)\n"
   ]
  },
  {
   "cell_type": "code",
   "execution_count": 30,
   "metadata": {},
   "outputs": [
    {
     "name": "stdout",
     "output_type": "stream",
     "text": [
      "1\n",
      "None\n"
     ]
    },
    {
     "ename": "AttributeError",
     "evalue": "'NoneType' object has no attribute 'left'",
     "output_type": "error",
     "traceback": [
      "\u001b[1;31m---------------------------------------------------------------------------\u001b[0m",
      "\u001b[1;31mAttributeError\u001b[0m                            Traceback (most recent call last)",
      "\u001b[1;32m<ipython-input-30-65cc42c1717b>\u001b[0m in \u001b[0;36m<module>\u001b[1;34m\u001b[0m\n\u001b[1;32m----> 1\u001b[1;33m \u001b[0mtree\u001b[0m\u001b[1;33m.\u001b[0m\u001b[0mprint_traversal\u001b[0m\u001b[1;33m(\u001b[0m\u001b[1;34m\"levelorder\"\u001b[0m\u001b[1;33m)\u001b[0m\u001b[1;33m\u001b[0m\u001b[0m\n\u001b[0m",
      "\u001b[1;32m<ipython-input-29-cae76f48ea2d>\u001b[0m in \u001b[0;36mprint_traversal\u001b[1;34m(self, traversal_type)\u001b[0m\n\u001b[0;32m     37\u001b[0m             \u001b[1;32mreturn\u001b[0m \u001b[0mself\u001b[0m\u001b[1;33m.\u001b[0m\u001b[0mpreorder_traversal\u001b[0m\u001b[1;33m(\u001b[0m\u001b[0mtree\u001b[0m\u001b[1;33m.\u001b[0m\u001b[0mroot\u001b[0m\u001b[1;33m,\u001b[0m\u001b[1;34m\"\"\u001b[0m\u001b[1;33m)\u001b[0m\u001b[1;33m\u001b[0m\u001b[0m\n\u001b[0;32m     38\u001b[0m         \u001b[1;32melif\u001b[0m \u001b[0mtraversal_type\u001b[0m\u001b[1;33m==\u001b[0m\u001b[1;34m\"levelorder\"\u001b[0m\u001b[1;33m:\u001b[0m\u001b[1;33m\u001b[0m\u001b[0m\n\u001b[1;32m---> 39\u001b[1;33m             \u001b[1;32mreturn\u001b[0m \u001b[0mself\u001b[0m\u001b[1;33m.\u001b[0m\u001b[0mlevelorder_traversal\u001b[0m\u001b[1;33m(\u001b[0m\u001b[0mtree\u001b[0m\u001b[1;33m.\u001b[0m\u001b[0mroot\u001b[0m\u001b[1;33m)\u001b[0m\u001b[1;33m\u001b[0m\u001b[0m\n\u001b[0m\u001b[0;32m     40\u001b[0m     \u001b[1;32mdef\u001b[0m \u001b[0mpreorder_traversal\u001b[0m\u001b[1;33m(\u001b[0m\u001b[0mself\u001b[0m\u001b[1;33m,\u001b[0m\u001b[0mstart\u001b[0m\u001b[1;33m,\u001b[0m\u001b[0mtraversal\u001b[0m\u001b[1;33m)\u001b[0m\u001b[1;33m:\u001b[0m\u001b[1;33m\u001b[0m\u001b[0m\n\u001b[0;32m     41\u001b[0m \u001b[1;31m#       root -> left -> Right\u001b[0m\u001b[1;33m\u001b[0m\u001b[1;33m\u001b[0m\u001b[0m\n",
      "\u001b[1;32m<ipython-input-29-cae76f48ea2d>\u001b[0m in \u001b[0;36mlevelorder_traversal\u001b[1;34m(self, start)\u001b[0m\n\u001b[0;32m     58\u001b[0m             \u001b[0mnode\u001b[0m \u001b[1;33m=\u001b[0m \u001b[0mq\u001b[0m\u001b[1;33m.\u001b[0m\u001b[0mdequeue\u001b[0m\u001b[1;33m(\u001b[0m\u001b[1;33m)\u001b[0m\u001b[1;33m\u001b[0m\u001b[0m\n\u001b[0;32m     59\u001b[0m             \u001b[0mprint\u001b[0m\u001b[1;33m(\u001b[0m\u001b[0mnode\u001b[0m\u001b[1;33m)\u001b[0m\u001b[1;33m\u001b[0m\u001b[0m\n\u001b[1;32m---> 60\u001b[1;33m             \u001b[1;32mif\u001b[0m \u001b[0mnode\u001b[0m\u001b[1;33m.\u001b[0m\u001b[0mleft\u001b[0m\u001b[1;33m:\u001b[0m\u001b[1;33m\u001b[0m\u001b[0m\n\u001b[0m\u001b[0;32m     61\u001b[0m                 \u001b[0mq\u001b[0m\u001b[1;33m.\u001b[0m\u001b[0menqueue\u001b[0m\u001b[1;33m(\u001b[0m\u001b[0mnode\u001b[0m\u001b[1;33m.\u001b[0m\u001b[0mleft\u001b[0m\u001b[1;33m)\u001b[0m\u001b[1;33m\u001b[0m\u001b[0m\n\u001b[0;32m     62\u001b[0m             \u001b[1;32mif\u001b[0m \u001b[0mnode\u001b[0m\u001b[1;33m.\u001b[0m\u001b[0mright\u001b[0m\u001b[1;33m:\u001b[0m\u001b[1;33m\u001b[0m\u001b[0m\n",
      "\u001b[1;31mAttributeError\u001b[0m: 'NoneType' object has no attribute 'left'"
     ]
    }
   ],
   "source": [
    "tree.print_traversal(\"levelorder\")"
   ]
  },
  {
   "cell_type": "code",
   "execution_count": 20,
   "metadata": {},
   "outputs": [],
   "source": [
    "l=queue()"
   ]
  },
  {
   "cell_type": "code",
   "execution_count": 21,
   "metadata": {},
   "outputs": [],
   "source": [
    "l.enqueue(1)"
   ]
  },
  {
   "cell_type": "code",
   "execution_count": 22,
   "metadata": {},
   "outputs": [
    {
     "data": {
      "text/plain": [
       "1"
      ]
     },
     "execution_count": 22,
     "metadata": {},
     "output_type": "execute_result"
    }
   ],
   "source": [
    "len(l)"
   ]
  },
  {
   "cell_type": "code",
   "execution_count": null,
   "metadata": {},
   "outputs": [],
   "source": []
  }
 ],
 "metadata": {
  "kernelspec": {
   "display_name": "Python 3",
   "language": "python",
   "name": "python3"
  },
  "language_info": {
   "codemirror_mode": {
    "name": "ipython",
    "version": 3
   },
   "file_extension": ".py",
   "mimetype": "text/x-python",
   "name": "python",
   "nbconvert_exporter": "python",
   "pygments_lexer": "ipython3",
   "version": "3.6.0"
  }
 },
 "nbformat": 4,
 "nbformat_minor": 2
}
