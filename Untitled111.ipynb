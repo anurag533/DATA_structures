{
 "cells": [
  {
   "cell_type": "code",
   "execution_count": 2,
   "metadata": {},
   "outputs": [],
   "source": [
    "# pre-order\n",
    "# in-order\n",
    "# post-order\n",
    "class Node:\n",
    "    def __init__(self,value):\n",
    "        self.value= value\n",
    "        self.left = None\n",
    "        self.right= None\n",
    "class binary_tree:\n",
    "    def __init__(self,root):\n",
    "        self.root=Node(root)\n",
    "        \n",
    "    def print_tree(self,traversal_type):\n",
    "        if traversal_type == \"preorder_traversal\":\n",
    "            return preorder_traversal(tree.root,\"\")\n",
    "    \n",
    "    def preorder_traversal(self,start,traversal):\n",
    "        if start:\n",
    "            traversal += (str(start.value) + \"-\")\n",
    "            traversal = self.preorder_traversal(start.left,traversal)\n",
    "            traversal = self.preorder_traversal(start.right,traversal)\n",
    "        return traversal\n",
    "tree=binary_tree(1)\n",
    "\n",
    "\n",
    "tree.root.left=Node(2)\n",
    "tree.root.right=Node(3)\n",
    "tree.root.left.left= Node(4)\n",
    "tree.root.left.right = Node(5)\n",
    "tree.root.right.left = Node(6)\n",
    "tree.root.right.right = Node(7)\n",
    "tree.root.left.left.left = Node(8)\n",
    "tree.root.left.left.right= Node(9)\n",
    "tree.root.right.right.left = Node(10)\n",
    "tree.root.right.right.right = Node(11)\n"
   ]
  },
  {
   "cell_type": "code",
   "execution_count": null,
   "metadata": {},
   "outputs": [],
   "source": []
  },
  {
   "cell_type": "code",
   "execution_count": null,
   "metadata": {},
   "outputs": [],
   "source": []
  },
  {
   "cell_type": "code",
   "execution_count": null,
   "metadata": {},
   "outputs": [],
   "source": []
  },
  {
   "cell_type": "code",
   "execution_count": null,
   "metadata": {},
   "outputs": [],
   "source": []
  },
  {
   "cell_type": "code",
   "execution_count": null,
   "metadata": {},
   "outputs": [],
   "source": []
  },
  {
   "cell_type": "code",
   "execution_count": 16,
   "metadata": {},
   "outputs": [],
   "source": [
    "class node:\n",
    "    def __init__(self,value):\n",
    "        self.value=value\n",
    "        self.left = None\n",
    "        self.right = None\n",
    "    \n",
    "class binarytree:\n",
    "    def __init__(self,root):\n",
    "        self.root= node(root)\n",
    "        \n",
    "    def printtraversal(self,traversal_type):\n",
    "        if traversal_type==\"preorder\":\n",
    "            return self.preordertraversal(tree.root,\"\")\n",
    "        else:\n",
    "            return False\n",
    "    def preordertraversal(self,start,traversal):\n",
    "        if start:\n",
    "            traversal += (str(start.value)+\"-\")\n",
    "            traversal = self.preordertraversal(start.left,traversal)\n",
    "            traversal = self.preordertraversal(start.right,traversal)\n",
    "        return traversal"
   ]
  },
  {
   "cell_type": "code",
   "execution_count": 17,
   "metadata": {},
   "outputs": [],
   "source": [
    "tree=binarytree(1)\n",
    "tree.root.left=Node(2)\n",
    "tree.root.right=Node(3)\n",
    "tree.root.left.left= Node(4)\n",
    "tree.root.left.right = Node(5)\n",
    "tree.root.right.left = Node(6)\n",
    "tree.root.right.right = Node(7)\n",
    "tree.root.left.left.left = Node(8)\n",
    "tree.root.left.left.right= Node(9)\n",
    "tree.root.right.right.left = Node(10)\n",
    "tree.root.right.right.right = Node(11)\n"
   ]
  },
  {
   "cell_type": "code",
   "execution_count": 18,
   "metadata": {},
   "outputs": [
    {
     "data": {
      "text/plain": [
       "'1-2-4-8-9-5-3-6-7-10-11-'"
      ]
     },
     "execution_count": 18,
     "metadata": {},
     "output_type": "execute_result"
    }
   ],
   "source": [
    "tree.printtraversal(\"preorder\")"
   ]
  },
  {
   "cell_type": "code",
   "execution_count": null,
   "metadata": {},
   "outputs": [],
   "source": []
  },
  {
   "cell_type": "code",
   "execution_count": null,
   "metadata": {},
   "outputs": [],
   "source": []
  }
 ],
 "metadata": {
  "kernelspec": {
   "display_name": "Python 3",
   "language": "python",
   "name": "python3"
  },
  "language_info": {
   "codemirror_mode": {
    "name": "ipython",
    "version": 3
   },
   "file_extension": ".py",
   "mimetype": "text/x-python",
   "name": "python",
   "nbconvert_exporter": "python",
   "pygments_lexer": "ipython3",
   "version": "3.6.0"
  }
 },
 "nbformat": 4,
 "nbformat_minor": 2
}
