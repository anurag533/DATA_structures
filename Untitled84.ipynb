{
 "cells": [
  {
   "cell_type": "code",
   "execution_count": 27,
   "metadata": {},
   "outputs": [],
   "source": [
    "class node:\n",
    "    def __init__(self,data):\n",
    "        self.data = data\n",
    "        self.next = None\n",
    "        \n",
    "class linkedlist:\n",
    "    def __init__(self):\n",
    "        self.head = None\n",
    "        \n",
    "    def append(self,item):\n",
    "        newnode = node(item)\n",
    "        if self.head is None:\n",
    "            self.head = newnode\n",
    "            return\n",
    "        lastnode = self.head\n",
    "        while lastnode.next:\n",
    "            lastnode = lastnode.next\n",
    "        lastnode.next = newnode\n",
    "    \n",
    "    def prepend(self,item):\n",
    "        newnode = node(item)\n",
    "        if self.head is None:\n",
    "            self.head = newnode\n",
    "        else:\n",
    "            newnode.next = self.head\n",
    "            self.head = newnode\n",
    "    \n",
    "    def printlist(self):\n",
    "        currentnode = self.head\n",
    "        while currentnode:\n",
    "            print(currentnode.data)\n",
    "            currentnode = currentnode.next\n",
    "    \n",
    "    def delete_position(self,pos):\n",
    "        count = 0\n",
    "        prev = None\n",
    "        currentnode = self.head\n",
    "        if pos == 0:\n",
    "            self.head = currentnode.next\n",
    "            return\n",
    "        while currentnode and count != pos:\n",
    "            prev = currentnode\n",
    "            currentnode = currentnode.next\n",
    "        if count != pos:\n",
    "            return \"invalid value\"\n",
    "        prev.next = currentnode.next\n",
    "        currentnode = None\n",
    "    \n",
    "    def delete_value(self,key):\n",
    "        currentnode = self.head\n",
    "        prev = None\n",
    "        if self.head.data == key:\n",
    "            self.head = currentnode.next\n",
    "            return\n",
    "        while currentnode.next != None and currentnode.data != key:\n",
    "            prev = currentnode\n",
    "            currentnode = currentnode.next\n",
    "        if currentnode.data != key:\n",
    "            return \"invalid value\"\n",
    "        prev.next = currentnode.next\n",
    "        currentnode = None\n",
    "    \n",
    "    def swap(self,key_1,key_2):\n",
    "        \n",
    "        if key_1 == key_2:\n",
    "            return\n",
    "        prev1 = None\n",
    "        currentnode1 = self.head\n",
    "        while currentnode1 and currentnode1.data != key_1:\n",
    "            prev1 = currentnode1\n",
    "            currentnode1 = currentnode1.next\n",
    "            \n",
    "        prev2 = None\n",
    "        currentnode2 = self.head\n",
    "        while currentnode2 and currentnode2.data != key_2:\n",
    "            prev2 = currentnode2\n",
    "            currentnode2 = currentnode2.next\n",
    "            \n",
    "        if prev1:\n",
    "            prev1.next = currentnode2\n",
    "        else:\n",
    "            self.head = currentnode2\n",
    "            \n",
    "        if prev2:\n",
    "            prev2.next = currentnode1\n",
    "        else:\n",
    "            self.head = currentnode1\n",
    "            \n",
    "        if not currentnode1 and currentnode2:\n",
    "            return\n",
    "        if not key_1 or key_2:\n",
    "            return \"Invalid value\"\n",
    "        currentnode1.next,currentnode2.next = currentnode2.next,currentnode1.next\n",
    "        \n",
    "        def reverse(self):\n",
    "            prev = None\n",
    "            currentnode = self.head\n",
    "            while currentnode:\n",
    "                nxt = currentnode.next\n",
    "                currentnode.next = prev\n",
    "                prev = currentnode\n",
    "                currentnode = nxt\n",
    "            self.head = prev\n",
    "            \n",
    "        def merge_sort(self,llist):\n",
    "            p = self.head\n",
    "            q = llist.head\n",
    "            s = None\n",
    "            \n",
    "            if not p:\n",
    "                return q\n",
    "            if not q:\n",
    "                return p\n",
    "            if p and q:\n",
    "                if p.data <= q.data:\n",
    "                    s = p\n",
    "                    p = s.next\n",
    "                else:\n",
    "                    s = q\n",
    "                    q = s.next\n",
    "            new_head = s\n",
    "            while p and q:\n",
    "                if p.data <= q.data:\n",
    "                    s.next = p\n",
    "                    s = p\n",
    "                    p = s.next\n",
    "                else:\n",
    "                    s.next = q\n",
    "                    s = q\n",
    "                    q = s.next\n",
    "                    \n",
    "            if not p:\n",
    "                s.next = q\n",
    "            if not q:\n",
    "                s.next = p\n",
    "            return new_head\n",
    "# 1->2->2->3->4\n",
    "# 1->2->3->4\n",
    "    def remove_dupli(self):\n",
    "        prev = None\n",
    "        currentnode = self.head\n",
    "        dupli = {}\n",
    "        while currentnode:\n",
    "            if currentnode.data in dupli:\n",
    "                prev.next = currentnode.next\n",
    "                currentnode = None\n",
    "            else:\n",
    "                dupli[currentnode.data] = 1\n",
    "                prev =currentnode\n",
    "            currentnode = prev.next\n",
    "            \n",
    "    def nthtothelastnode(self,n):\n",
    "        count1= 0\n",
    "        count2 = 0\n",
    "        currentnode = self.head\n",
    "        while currentnode.next:\n",
    "            count1 += 1\n",
    "            currentnode = currentnode.next\n",
    "        x = count1 - n+1\n",
    "        currentnode1 = self.head\n",
    "        while currentnode1.next and count2 != x:\n",
    "            count2 += 1\n",
    "            currentnode1 = currentnode1.next\n",
    "        if n-1>count1:\n",
    "            return \"False Value\"\n",
    "        if n<0:\n",
    "            return\"Enter a valid value\"\n",
    "        return currentnode1.data\n",
    "    \n",
    "    def countelement(self,n):\n",
    "#        count = 0\n",
    "#        currentnode = self.head\n",
    "#        countelements = {}\n",
    "#        while currentnode:\n",
    "\n",
    "# \n",
    "#            if currentnode.data in countelements:\n",
    "#                countelements[currentnode.data] += 1\n",
    "#            else:\n",
    "#                countelements[currentnode.data] = 1\n",
    "#        for x,y in countelements.items():\n",
    "#            if x == n:\n",
    "#                return x,y\n",
    "#            else:\n",
    "#                pass\n",
    " \n",
    "        count = 0\n",
    "        currentnode = self.head\n",
    "        while currentnode:\n",
    "            if currentnode.data == n:\n",
    "                count += 1\n",
    "            currentnode = currentnode.next            \n",
    "        return count"
   ]
  },
  {
   "cell_type": "code",
   "execution_count": 28,
   "metadata": {},
   "outputs": [],
   "source": [
    "l= linkedlist()"
   ]
  },
  {
   "cell_type": "code",
   "execution_count": 29,
   "metadata": {},
   "outputs": [],
   "source": [
    "l.append(9)"
   ]
  },
  {
   "cell_type": "code",
   "execution_count": 30,
   "metadata": {},
   "outputs": [],
   "source": [
    "l.append(94)\n",
    "l.append(91)\n",
    "l.append(0)"
   ]
  },
  {
   "cell_type": "code",
   "execution_count": 31,
   "metadata": {},
   "outputs": [
    {
     "name": "stdout",
     "output_type": "stream",
     "text": [
      "9\n",
      "94\n",
      "91\n",
      "0\n"
     ]
    }
   ],
   "source": [
    "l.printlist()"
   ]
  },
  {
   "cell_type": "code",
   "execution_count": 32,
   "metadata": {},
   "outputs": [],
   "source": [
    "l.append(9)"
   ]
  },
  {
   "cell_type": "code",
   "execution_count": 33,
   "metadata": {},
   "outputs": [
    {
     "name": "stdout",
     "output_type": "stream",
     "text": [
      "9\n",
      "94\n",
      "91\n",
      "0\n",
      "9\n"
     ]
    }
   ],
   "source": [
    "l.printlist()"
   ]
  },
  {
   "cell_type": "code",
   "execution_count": 34,
   "metadata": {},
   "outputs": [],
   "source": [
    "l.remove_dupli()"
   ]
  },
  {
   "cell_type": "code",
   "execution_count": 35,
   "metadata": {},
   "outputs": [
    {
     "name": "stdout",
     "output_type": "stream",
     "text": [
      "9\n",
      "94\n",
      "91\n",
      "0\n"
     ]
    }
   ],
   "source": [
    "l.printlist()"
   ]
  },
  {
   "cell_type": "code",
   "execution_count": 36,
   "metadata": {},
   "outputs": [],
   "source": [
    "l.remove_dupli()"
   ]
  },
  {
   "cell_type": "code",
   "execution_count": 37,
   "metadata": {},
   "outputs": [
    {
     "name": "stdout",
     "output_type": "stream",
     "text": [
      "9\n",
      "94\n",
      "91\n",
      "0\n"
     ]
    }
   ],
   "source": [
    "l.printlist()"
   ]
  },
  {
   "cell_type": "code",
   "execution_count": 38,
   "metadata": {},
   "outputs": [
    {
     "data": {
      "text/plain": [
       "'Enter a valid value'"
      ]
     },
     "execution_count": 38,
     "metadata": {},
     "output_type": "execute_result"
    }
   ],
   "source": [
    "l.nthtothelastnode(-2)"
   ]
  },
  {
   "cell_type": "code",
   "execution_count": 39,
   "metadata": {},
   "outputs": [
    {
     "data": {
      "text/plain": [
       "1"
      ]
     },
     "execution_count": 39,
     "metadata": {},
     "output_type": "execute_result"
    }
   ],
   "source": [
    "l.countelement(91)"
   ]
  },
  {
   "cell_type": "code",
   "execution_count": 40,
   "metadata": {},
   "outputs": [],
   "source": [
    "l.append(9)"
   ]
  },
  {
   "cell_type": "code",
   "execution_count": 41,
   "metadata": {},
   "outputs": [
    {
     "name": "stdout",
     "output_type": "stream",
     "text": [
      "9\n",
      "94\n",
      "91\n",
      "0\n",
      "9\n"
     ]
    }
   ],
   "source": [
    "l.printlist()"
   ]
  },
  {
   "cell_type": "code",
   "execution_count": 42,
   "metadata": {},
   "outputs": [
    {
     "data": {
      "text/plain": [
       "2"
      ]
     },
     "execution_count": 42,
     "metadata": {},
     "output_type": "execute_result"
    }
   ],
   "source": [
    "l.countelement(9)"
   ]
  },
  {
   "cell_type": "code",
   "execution_count": null,
   "metadata": {},
   "outputs": [],
   "source": []
  }
 ],
 "metadata": {
  "kernelspec": {
   "display_name": "Python 3",
   "language": "python",
   "name": "python3"
  },
  "language_info": {
   "codemirror_mode": {
    "name": "ipython",
    "version": 3
   },
   "file_extension": ".py",
   "mimetype": "text/x-python",
   "name": "python",
   "nbconvert_exporter": "python",
   "pygments_lexer": "ipython3",
   "version": "3.6.0"
  }
 },
 "nbformat": 4,
 "nbformat_minor": 2
}
