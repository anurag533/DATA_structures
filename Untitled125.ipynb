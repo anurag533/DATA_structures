{
 "cells": [
  {
   "cell_type": "markdown",
   "metadata": {},
   "source": [
    "# BST(binary search tree) "
   ]
  },
  {
   "cell_type": "code",
   "execution_count": 1,
   "metadata": {},
   "outputs": [],
   "source": [
    "class node:\n",
    "    def __init__(self,data):\n",
    "        self.data = data\n",
    "        self.left = left\n",
    "        self.right = right\n",
    "        \n",
    "class BST:\n",
    "    def __inti__(self):\n",
    "        self.root = None\n",
    "        \n",
    "    def insert(self,data):\n",
    "        if self.root is None:\n",
    "            self.root = node(data)\n",
    "        else:\n",
    "            self._insert(data,self.root)\n",
    "            \n",
    "    def _insert(self,data,curr_node):\n",
    "        if data < curr_node.data:\n",
    "            if curr_node.left is None:\n",
    "                curr_node.left = node(data)\n",
    "            else:\n",
    "                self._insert(data,curr_node.left)\n",
    "        elif data > curr_node.data:\n",
    "            if curr_node.right is None:\n",
    "                curr_node.right = node(data)\n",
    "            else:\n",
    "                self._insert(data,curr_node.right)\n",
    "        else:\n",
    "            print(\"Value is already present in the tree\")\n",
    "            \n",
    "    def find(self,data):\n",
    "        if self.root:\n",
    "            is_found=self._find(data,self.root)\n",
    "            if is_found:\n",
    "                return True\n",
    "            return False\n",
    "        else:\n",
    "            return None\n",
    "    \n",
    "    def _find(self,data,curr_node):\n",
    "        if data > curr_node.data and curr_node.right:\n",
    "            return self._find(data,curr_node.right)\n",
    "        elif data < curr_node.data and curr_node.left:\n",
    "            return self._find(data,curr_node.left)\n",
    "        if data == curr_node.data:\n",
    "            return True"
   ]
  },
  {
   "cell_type": "code",
   "execution_count": null,
   "metadata": {},
   "outputs": [],
   "source": []
  }
 ],
 "metadata": {
  "kernelspec": {
   "display_name": "Python 3",
   "language": "python",
   "name": "python3"
  },
  "language_info": {
   "codemirror_mode": {
    "name": "ipython",
    "version": 3
   },
   "file_extension": ".py",
   "mimetype": "text/x-python",
   "name": "python",
   "nbconvert_exporter": "python",
   "pygments_lexer": "ipython3",
   "version": "3.6.0"
  }
 },
 "nbformat": 4,
 "nbformat_minor": 2
}
