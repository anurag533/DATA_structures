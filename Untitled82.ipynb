{
 "cells": [
  {
   "cell_type": "code",
   "execution_count": 11,
   "metadata": {},
   "outputs": [],
   "source": [
    "class Node:\n",
    "    def __init__(self,data):\n",
    "        self.data = data\n",
    "        self.next = None\n",
    "class linkedlist:\n",
    "    def __init__(self):\n",
    "        self.head = None\n",
    "        \n",
    "    def append(self,item):\n",
    "        newnode = Node(item)\n",
    "        if self.head is None:\n",
    "            self.head = newnode\n",
    "            return\n",
    "        lastnode = self.head\n",
    "        while lastnode.next:\n",
    "            lastnode = lastnode.next\n",
    "        lastnode.next = newnode\n",
    "        \n",
    "    def prepend(self,item):\n",
    "        newnode = Node(item)\n",
    "        if self.head is None:\n",
    "            self.head = newnode\n",
    "            return\n",
    "        newnode.next = self.head\n",
    "        self.head = newnode\n",
    "        \n",
    "    def delete_positon(self,pos):\n",
    "        count = 0\n",
    "        prev = None\n",
    "        currentnode = self.head\n",
    "        if pos == 0:\n",
    "            self.head = currentnode.next\n",
    "            currentnode = None\n",
    "            return\n",
    "        while currentnode and count != pos:\n",
    "            prev = currentnode\n",
    "            currentnode = currentnode.next\n",
    "            count += 1\n",
    "        if count != pos:\n",
    "            return \"not possible\"\n",
    "        prev.next = currentnode.next\n",
    "        currentnode = None\n",
    "    \n",
    "    def delete_element(self,key):\n",
    "        currentnode = self.head\n",
    "        prev = None\n",
    "        if self.head is None:\n",
    "            return \"Empty list\"\n",
    "        if self.head.data is key:\n",
    "            self.head = currentnode.next\n",
    "            currentnode = None\n",
    "            return\n",
    "        while currentnode.next != None and currentnode.data != key:\n",
    "            prev = currentnode\n",
    "            currentnode = currentnode.next\n",
    "        if currentnode.data != key:\n",
    "            return \"Invalid value\"\n",
    "        prev.next = currentnode.next\n",
    "        currentnode = None\n",
    "    \n",
    "    def swap(self,key_1,key_2):\n",
    "        if key_1 == key_2:\n",
    "            return\n",
    "        \n",
    "        prev1 = None\n",
    "        currentnode1 = self.head\n",
    "        while currentnode1 and currentnode1.data != key_1:\n",
    "            prev1 = currentnode1\n",
    "            currentnode1 = currentnode1.next\n",
    "            \n",
    "        prev2 = None\n",
    "        currentnode2 = self.head\n",
    "        while currentnode2 and currentnode2.data != key_2:\n",
    "            prev = currentnode2\n",
    "            currentnode2 = currentnode2.next\n",
    "        if prev1:\n",
    "            prev1.next = currentnode2\n",
    "        else:\n",
    "            self.head = currentnode2\n",
    "            \n",
    "        if prev2:\n",
    "            prev2.next = currentnode1\n",
    "        else:\n",
    "            self.head = currentnode1\n",
    "            \n",
    "        currentnode1.next,currentnode2.next = currentnode2.next,currentnode1.next\n",
    "        \n",
    "    def reverse(self):\n",
    "        prev = None\n",
    "        currentnode = self.head\n",
    "        while currentnode:\n",
    "            nxt = currentnode.next\n",
    "            currentnode.next = prev\n",
    "            prev = currentnode\n",
    "            currentnode = nxt\n",
    "        self.head = prev\n",
    "    \n",
    "    def merge_sort(self,llist):\n",
    "        p = self.head\n",
    "        q = self.head\n",
    "        s = None\n",
    "        \n",
    "        if not q:\n",
    "            return p\n",
    "        if not p:\n",
    "            return q\n",
    "        if p and q:\n",
    "            if p.data <= q.data:\n",
    "                s = p\n",
    "                p = s.next\n",
    "            else:\n",
    "                s = q\n",
    "                q = s.next\n",
    "        while p and q:\n",
    "            if p.data <= q.data:\n",
    "                s.next = p\n",
    "                s = p\n",
    "                p = s.next\n",
    "            else:\n",
    "                s.next = q\n",
    "                s = q\n",
    "                q = s.next\n",
    "                \n",
    "                \n",
    "                \n",
    "                \n",
    "                \n",
    "                            \n",
    "    def Printlist(self):\n",
    "        currentnode = self.head\n",
    "        while currentnode:\n",
    "            print(currentnode.data)\n",
    "            currentnode = currentnode.next\n",
    "        "
   ]
  },
  {
   "cell_type": "code",
   "execution_count": 12,
   "metadata": {},
   "outputs": [],
   "source": [
    "l = linkedlist()"
   ]
  },
  {
   "cell_type": "code",
   "execution_count": 13,
   "metadata": {},
   "outputs": [],
   "source": [
    "l.append(9)"
   ]
  },
  {
   "cell_type": "code",
   "execution_count": 14,
   "metadata": {},
   "outputs": [
    {
     "name": "stdout",
     "output_type": "stream",
     "text": [
      "9\n"
     ]
    }
   ],
   "source": [
    "l.Printlist()"
   ]
  },
  {
   "cell_type": "code",
   "execution_count": 15,
   "metadata": {},
   "outputs": [],
   "source": [
    "l.prepend('a')\n",
    "l.prepend('e')\n",
    "l.prepend('f')\n",
    "l.prepend('c')"
   ]
  },
  {
   "cell_type": "code",
   "execution_count": 16,
   "metadata": {},
   "outputs": [
    {
     "name": "stdout",
     "output_type": "stream",
     "text": [
      "c\n",
      "f\n",
      "e\n",
      "a\n",
      "9\n"
     ]
    }
   ],
   "source": [
    "l.Printlist()"
   ]
  },
  {
   "cell_type": "code",
   "execution_count": 361,
   "metadata": {},
   "outputs": [],
   "source": [
    "l.reverse()"
   ]
  },
  {
   "cell_type": "code",
   "execution_count": 362,
   "metadata": {},
   "outputs": [
    {
     "name": "stdout",
     "output_type": "stream",
     "text": [
      "9\n",
      "a\n",
      "e\n",
      "f\n",
      "c\n"
     ]
    }
   ],
   "source": [
    "l.Printlist()"
   ]
  },
  {
   "cell_type": "code",
   "execution_count": 427,
   "metadata": {},
   "outputs": [],
   "source": [
    "x1 = Node('a')\n",
    "x2 = Node('b')"
   ]
  },
  {
   "cell_type": "code",
   "execution_count": 428,
   "metadata": {},
   "outputs": [
    {
     "name": "stdout",
     "output_type": "stream",
     "text": [
      "<__main__.Node object at 0x0144F410> <__main__.Node object at 0x0144F870>\n"
     ]
    }
   ],
   "source": [
    "print(x1,x2)"
   ]
  },
  {
   "cell_type": "code",
   "execution_count": 429,
   "metadata": {},
   "outputs": [
    {
     "name": "stdout",
     "output_type": "stream",
     "text": [
      "None\n"
     ]
    }
   ],
   "source": [
    "print(x1.next)"
   ]
  },
  {
   "cell_type": "code",
   "execution_count": 430,
   "metadata": {},
   "outputs": [
    {
     "name": "stdout",
     "output_type": "stream",
     "text": [
      "None\n"
     ]
    }
   ],
   "source": [
    "print(x2.next)"
   ]
  },
  {
   "cell_type": "code",
   "execution_count": 431,
   "metadata": {},
   "outputs": [
    {
     "name": "stdout",
     "output_type": "stream",
     "text": [
      "<__main__.Node object at 0x0144F870>\n"
     ]
    }
   ],
   "source": [
    "print(x2)"
   ]
  },
  {
   "cell_type": "code",
   "execution_count": 434,
   "metadata": {},
   "outputs": [
    {
     "name": "stdout",
     "output_type": "stream",
     "text": [
      "a\n"
     ]
    }
   ],
   "source": [
    "x = Node('a')\n",
    "current = x\n",
    "while current:\n",
    "    \n",
    "    print(current.data)\n",
    "    current = current.next"
   ]
  },
  {
   "cell_type": "code",
   "execution_count": 25,
   "metadata": {},
   "outputs": [],
   "source": [
    "a1 = Node('2')\n",
    "a1.next = 21"
   ]
  },
  {
   "cell_type": "code",
   "execution_count": 26,
   "metadata": {},
   "outputs": [],
   "source": [
    "a2 = None"
   ]
  },
  {
   "cell_type": "code",
   "execution_count": 27,
   "metadata": {},
   "outputs": [],
   "source": [
    "a2 = a1"
   ]
  },
  {
   "cell_type": "code",
   "execution_count": 28,
   "metadata": {},
   "outputs": [
    {
     "name": "stdout",
     "output_type": "stream",
     "text": [
      "21 21\n"
     ]
    }
   ],
   "source": [
    "print(a2.next,a1.next)"
   ]
  },
  {
   "cell_type": "code",
   "execution_count": null,
   "metadata": {},
   "outputs": [],
   "source": []
  }
 ],
 "metadata": {
  "kernelspec": {
   "display_name": "Python 3",
   "language": "python",
   "name": "python3"
  },
  "language_info": {
   "codemirror_mode": {
    "name": "ipython",
    "version": 3
   },
   "file_extension": ".py",
   "mimetype": "text/x-python",
   "name": "python",
   "nbconvert_exporter": "python",
   "pygments_lexer": "ipython3",
   "version": "3.6.0"
  }
 },
 "nbformat": 4,
 "nbformat_minor": 2
}
