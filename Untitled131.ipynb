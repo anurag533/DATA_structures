{
 "cells": [
  {
   "cell_type": "markdown",
   "metadata": {},
   "source": [
    "# linked list"
   ]
  },
  {
   "cell_type": "code",
   "execution_count": 2,
   "metadata": {},
   "outputs": [],
   "source": [
    "class node:\n",
    "    def __init__(self,data):\n",
    "        self.data = data\n",
    "        self.next = None\n",
    "\n",
    "class linkedlist:\n",
    "    def __init__(self):\n",
    "        self.head = None\n",
    "    \n",
    "    def append(self,data):\n",
    "        newnode = node(data)\n",
    "        if self.head is None:\n",
    "            self.head = newnode\n",
    "            return\n",
    "        curr_node = self.head\n",
    "        while curr_node.next:\n",
    "            curr_node = curr_node.next\n",
    "        curr_node.next = newnode\n",
    "        \n",
    "    \n",
    "    def printlist(self):\n",
    "        curr_node = self.head\n",
    "        while curr_node:\n",
    "            print(curr_node.data)\n",
    "            curr_node= curr_node.next\n",
    "            \n",
    "    def delete(self,data):\n",
    "        prev = self.head\n",
    "        curr = self.head\n",
    "        if self.head.data == data:\n",
    "            self.head = curr.next\n",
    "            curr.next = None\n",
    "        while curr.data != data:\n",
    "            x = curr\n",
    "            curr = curr.next\n",
    "            prev = x\n",
    "        prev.next = curr.next\n",
    "        curr = None\n",
    "        \n",
    "    def delete_pos(self,pos):\n",
    "        prev = self.head\n",
    "        curr = self.head\n",
    "        if pos == 0:\n",
    "            self.head = curr.next\n",
    "            curr.next = None\n",
    "        while curr and pos != 0:\n",
    "            y = curr\n",
    "            curr = curr.next\n",
    "            prev = y\n",
    "            pos -= 1\n",
    "        prev.next = curr.next\n",
    "        curr = None\n",
    "    \n",
    "#     def "
   ]
  },
  {
   "cell_type": "code",
   "execution_count": 3,
   "metadata": {},
   "outputs": [],
   "source": [
    "x=linkedlist()"
   ]
  },
  {
   "cell_type": "code",
   "execution_count": 8,
   "metadata": {},
   "outputs": [],
   "source": [
    "x.insert(1)"
   ]
  },
  {
   "cell_type": "code",
   "execution_count": 9,
   "metadata": {},
   "outputs": [],
   "source": [
    "x.insert(2)\n",
    "x.insert(3)\n",
    "x.insert(4)\n",
    "x.insert(5)\n"
   ]
  },
  {
   "cell_type": "code",
   "execution_count": 10,
   "metadata": {
    "scrolled": false
   },
   "outputs": [
    {
     "name": "stdout",
     "output_type": "stream",
     "text": [
      "1\n",
      "2\n",
      "3\n",
      "4\n",
      "5\n"
     ]
    }
   ],
   "source": [
    "x.printlist()"
   ]
  },
  {
   "cell_type": "code",
   "execution_count": 11,
   "metadata": {},
   "outputs": [],
   "source": [
    "x.delete_pos(0)"
   ]
  },
  {
   "cell_type": "code",
   "execution_count": 12,
   "metadata": {},
   "outputs": [
    {
     "name": "stdout",
     "output_type": "stream",
     "text": [
      "2\n",
      "3\n",
      "4\n",
      "5\n"
     ]
    }
   ],
   "source": [
    "x.printlist()"
   ]
  },
  {
   "cell_type": "code",
   "execution_count": 18,
   "metadata": {},
   "outputs": [
    {
     "name": "stdout",
     "output_type": "stream",
     "text": [
      "4\n",
      "4\n"
     ]
    }
   ],
   "source": []
  },
  {
   "cell_type": "code",
   "execution_count": null,
   "metadata": {},
   "outputs": [],
   "source": []
  }
 ],
 "metadata": {
  "kernelspec": {
   "display_name": "Python 3",
   "language": "python",
   "name": "python3"
  },
  "language_info": {
   "codemirror_mode": {
    "name": "ipython",
    "version": 3
   },
   "file_extension": ".py",
   "mimetype": "text/x-python",
   "name": "python",
   "nbconvert_exporter": "python",
   "pygments_lexer": "ipython3",
   "version": "3.6.0"
  }
 },
 "nbformat": 4,
 "nbformat_minor": 2
}
