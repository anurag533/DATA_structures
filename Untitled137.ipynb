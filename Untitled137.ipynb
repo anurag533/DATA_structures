{
 "cells": [
  {
   "cell_type": "markdown",
   "metadata": {},
   "source": [
    "# Graph "
   ]
  },
  {
   "cell_type": "code",
   "execution_count": 37,
   "metadata": {},
   "outputs": [],
   "source": [
    "class vertex:\n",
    "    def __init__(self,key):\n",
    "        self.id = key\n",
    "        self.connectedTo = {}\n",
    "        \n",
    "    def addneighbor(self,nbr,weight=0):\n",
    "        self.connectedTo[nbr] = weight\n",
    "        \n",
    "    def getid(self):\n",
    "        return self.id\n",
    "    \n",
    "    def getweight(self,nbr):\n",
    "        return self.connectedTo[nbr]\n",
    "    \n",
    "    def getconnections(self):\n",
    "        return self.connectedTo.keys()\n",
    "    \n",
    "    def __str__(self):\n",
    "        return str(self.id)   + \" connected to \" +  str([x.id for x in self.connectedTo]) \n",
    "\n",
    "class graph:\n",
    "    def __init__(self):\n",
    "        self.vertList = {}\n",
    "        self.numvert = 0\n",
    "        \n",
    "    def addvertex(self,key):\n",
    "        self.numvert += 1\n",
    "        newvertex = vertex(key)\n",
    "        self.vertList[key] = newvertex\n",
    "        return newvertex\n",
    "    \n",
    "    def addedge(self,f,t,cost=0):\n",
    "        if f not in self.vertList:\n",
    "            x=self.addvertex(f)\n",
    "        if t not in self.vertList:\n",
    "            x=self.addvertex(t)\n",
    "        \n",
    "        self.vertList[f].addneighbor(self.vertList[t],cost)\n",
    "        \n",
    "    def getvertex(self,n):\n",
    "        if n in self.vertList:\n",
    "            return self.vertList[n]\n",
    "        else:\n",
    "            return None\n",
    "        \n",
    "    def getvertices(self):\n",
    "        return self.vertList.keys()\n",
    "    \n",
    "    def __iter__(self):\n",
    "        return iter(self.vertList.values())\n",
    "    \n",
    "    def __contains__(self,n):\n",
    "        return n in self.vertList"
   ]
  },
  {
   "cell_type": "code",
   "execution_count": 38,
   "metadata": {},
   "outputs": [],
   "source": [
    "g = graph()"
   ]
  },
  {
   "cell_type": "code",
   "execution_count": 39,
   "metadata": {},
   "outputs": [],
   "source": [
    "for i in range(6):\n",
    "    g.addvertex(i)"
   ]
  },
  {
   "cell_type": "code",
   "execution_count": 40,
   "metadata": {},
   "outputs": [
    {
     "data": {
      "text/plain": [
       "{0: <__main__.vertex at 0x6aa51f0>,\n",
       " 1: <__main__.vertex at 0x6aa5510>,\n",
       " 2: <__main__.vertex at 0x6aa5dd0>,\n",
       " 3: <__main__.vertex at 0x6aa53d0>,\n",
       " 4: <__main__.vertex at 0x6aa52f0>,\n",
       " 5: <__main__.vertex at 0x6aa5290>}"
      ]
     },
     "execution_count": 40,
     "metadata": {},
     "output_type": "execute_result"
    }
   ],
   "source": [
    "g.vertList"
   ]
  },
  {
   "cell_type": "code",
   "execution_count": 41,
   "metadata": {},
   "outputs": [],
   "source": [
    "g.addedge(0,1,3)"
   ]
  },
  {
   "cell_type": "code",
   "execution_count": 42,
   "metadata": {},
   "outputs": [
    {
     "name": "stdout",
     "output_type": "stream",
     "text": [
      "0 connected to [1]\n",
      "\n",
      "\n",
      "1 connected to []\n",
      "\n",
      "\n",
      "2 connected to []\n",
      "\n",
      "\n",
      "3 connected to []\n",
      "\n",
      "\n",
      "4 connected to []\n",
      "\n",
      "\n",
      "5 connected to []\n",
      "\n",
      "\n"
     ]
    }
   ],
   "source": [
    "for i in g:\n",
    "    print(i)\n",
    "    print('\\n')"
   ]
  },
  {
   "cell_type": "code",
   "execution_count": null,
   "metadata": {},
   "outputs": [],
   "source": []
  },
  {
   "cell_type": "code",
   "execution_count": 68,
   "metadata": {},
   "outputs": [
    {
     "data": {
      "text/plain": [
       "0.28"
      ]
     },
     "execution_count": 68,
     "metadata": {},
     "output_type": "execute_result"
    }
   ],
   "source": [
    "0.1+0.18"
   ]
  },
  {
   "cell_type": "code",
   "execution_count": null,
   "metadata": {},
   "outputs": [],
   "source": []
  }
 ],
 "metadata": {
  "kernelspec": {
   "display_name": "Python 3",
   "language": "python",
   "name": "python3"
  },
  "language_info": {
   "codemirror_mode": {
    "name": "ipython",
    "version": 3
   },
   "file_extension": ".py",
   "mimetype": "text/x-python",
   "name": "python",
   "nbconvert_exporter": "python",
   "pygments_lexer": "ipython3",
   "version": "3.6.0"
  }
 },
 "nbformat": 4,
 "nbformat_minor": 2
}
