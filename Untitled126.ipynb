{
 "cells": [
  {
   "cell_type": "code",
   "execution_count": 1,
   "metadata": {},
   "outputs": [],
   "source": [
    "class node:\n",
    "    def __init__(self,data):\n",
    "        self.value = data\n",
    "        self.left = None\n",
    "        self.right = None\n",
    "\n",
    "class BST:\n",
    "    def __init__(self):\n",
    "        self.root = None\n",
    "    \n",
    "    def insert(self,data):\n",
    "        if self.root is None:\n",
    "            self.root = node(data)\n",
    "        else:\n",
    "            return self._insert(data,self.root)\n",
    "    \n",
    "    def _insert(self,data,curr_node):\n",
    "        if data < curr_node.value:\n",
    "            if curr_node.left is None:\n",
    "                curr_node.left = node(data)\n",
    "            else:\n",
    "                return self._insert(data,curr_node.left)\n",
    "        elif data > curr_node.value:\n",
    "            if curr_node.right is None:\n",
    "                curr_node.right = node(data)\n",
    "            else:\n",
    "                return self._insert(data,curr_node.right)\n",
    "        else:\n",
    "            print(\"Value is already there\")\n",
    "            \n",
    "    def find(self,data):\n",
    "        if self.root:\n",
    "            return self._find(data,self.root)\n",
    "        else:\n",
    "            return False\n",
    "    def _find(self,data,curr_node):\n",
    "        if data < curr_node.value:\n",
    "            return self._find(data,curr_node.left)\n",
    "        elif data > curr_node.value:\n",
    "            return self._find(data,curr_node.right)\n",
    "        if data == curr_node.value:\n",
    "            return True\n",
    "    "
   ]
  },
  {
   "cell_type": "code",
   "execution_count": 2,
   "metadata": {},
   "outputs": [],
   "source": [
    "bst = BST()"
   ]
  },
  {
   "cell_type": "code",
   "execution_count": 3,
   "metadata": {},
   "outputs": [],
   "source": [
    "bst.insert(4)\n",
    "bst.insert(2)\n",
    "bst.insert(8)\n",
    "bst.insert(5)\n",
    "bst.insert(10)"
   ]
  },
  {
   "cell_type": "code",
   "execution_count": 5,
   "metadata": {},
   "outputs": [
    {
     "name": "stdout",
     "output_type": "stream",
     "text": [
      "True\n"
     ]
    }
   ],
   "source": [
    "print(bst.find(10))"
   ]
  },
  {
   "cell_type": "code",
   "execution_count": null,
   "metadata": {},
   "outputs": [],
   "source": [
    "tree =BST()"
   ]
  },
  {
   "cell_type": "code",
   "execution_count": 1,
   "metadata": {},
   "outputs": [],
   "source": [
    "class node:\n",
    "    def __init__(self,data):\n",
    "        self.value = data\n",
    "        self.left = None\n",
    "        self.right = None\n",
    "\n",
    "class BST:\n",
    "    def __init__(self):\n",
    "        self.root = None\n",
    "    \n",
    "    def insert(self,data):\n",
    "        if self.root is None:\n",
    "            self.root = node(data)\n",
    "        else:\n",
    "            return self._insert(data,self.root)\n",
    "    \n",
    "    def _insert(self,data,curr_node):\n",
    "        if data < curr_node.value:\n",
    "            if curr_node.left is None:\n",
    "                curr_node.left = node(data)\n",
    "            else:\n",
    "                return self._insert(data,curr_node.left)\n",
    "        elif data > curr_node.value:\n",
    "            if curr_node.right is None:\n",
    "                curr_node.right = node(data)\n",
    "            else:\n",
    "                return self._insert(data,curr_node.right)\n",
    "        else:\n",
    "            print(\"number is already present\")\n",
    "        \n",
    "    def find(self,data):\n",
    "        if self.root:\n",
    "            is_found = self._find(data,curr_node)\n",
    "            if is_found is None:\n",
    "                return False\n",
    "            return True\n",
    "        else:\n",
    "            return False\n",
    "        \n",
    "    def _find(self,data,curr_node):\n",
    "        if data < curr_node.value and curr_node.left:\n",
    "            return _find(data,curr_node.left)\n",
    "        elif data > curr_node.value and curr_node.right:\n",
    "            return _find(data,curr_node.right)\n",
    "        if data == curr_node.value:\n",
    "            return True\n",
    "bst = BST()\n",
    "bst.insert(4)\n",
    "bst.insert(2)\n",
    "bst.insert(8)\n",
    "bst.insert(5)\n",
    "bst.insert(10)"
   ]
  },
  {
   "cell_type": "code",
   "execution_count": 13,
   "metadata": {},
   "outputs": [
    {
     "name": "stdout",
     "output_type": "stream",
     "text": [
      "[1, 2, 3, 4]\n"
     ]
    }
   ],
   "source": []
  },
  {
   "cell_type": "code",
   "execution_count": null,
   "metadata": {},
   "outputs": [],
   "source": []
  }
 ],
 "metadata": {
  "kernelspec": {
   "display_name": "Python 3",
   "language": "python",
   "name": "python3"
  },
  "language_info": {
   "codemirror_mode": {
    "name": "ipython",
    "version": 3
   },
   "file_extension": ".py",
   "mimetype": "text/x-python",
   "name": "python",
   "nbconvert_exporter": "python",
   "pygments_lexer": "ipython3",
   "version": "3.6.0"
  }
 },
 "nbformat": 4,
 "nbformat_minor": 2
}
