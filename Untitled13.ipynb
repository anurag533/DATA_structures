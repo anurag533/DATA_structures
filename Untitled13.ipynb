{
 "cells": [
  {
   "cell_type": "code",
   "execution_count": 79,
   "metadata": {},
   "outputs": [
    {
     "name": "stdout",
     "output_type": "stream",
     "text": [
      "g\n",
      "g\n",
      "e\n",
      "t\n"
     ]
    }
   ],
   "source": [
    "l=[\"get\",\"getnm\",\"gjhmn\"]\n",
    "x=l[0]\n",
    "for i in l:\n",
    "    if len(i)==0:\n",
    "        print(\"0\") \n",
    "for i in range(len(x)):\n",
    "   # print(x[i])\n",
    "    for j in range(1,len(l)):\n",
    "        y=l[j]\n",
    "        #print(y)\n",
    "        if x[i]==y[i]:\n",
    "            print(x[i])\n",
    "            pass\n",
    "        elif x[i]!=y[i]:\n",
    "            break"
   ]
  },
  {
   "cell_type": "code",
   "execution_count": 92,
   "metadata": {},
   "outputs": [],
   "source": [
    "def fun(l):\n",
    "    x=l[0]\n",
    "    n=1\n",
    "    d={}\n",
    "    for i in l:\n",
    "        if len(i)==0:\n",
    "            return -1\n",
    "    for i in range(len(x)):\n",
    "       # print(x[i])\n",
    "        if n==0:\n",
    "            break\n",
    "        for j in range(1,len(l)):\n",
    "            y=l[j]\n",
    "            \n",
    "            if x[i]==y[i]:\n",
    "                d[i]+=1\n",
    "                print()\n",
    "                pass\n",
    "            elif x[i]!=y[i]:\n",
    "                n=0\n",
    "                break"
   ]
  },
  {
   "cell_type": "code",
   "execution_count": 93,
   "metadata": {},
   "outputs": [
    {
     "name": "stdout",
     "output_type": "stream",
     "text": [
      "g\n",
      "g\n",
      "e\n"
     ]
    }
   ],
   "source": [
    "fun([\"get\",\"getnm\",\"gjhmn\"])"
   ]
  },
  {
   "cell_type": "code",
   "execution_count": null,
   "metadata": {},
   "outputs": [],
   "source": []
  }
 ],
 "metadata": {
  "kernelspec": {
   "display_name": "Python 3",
   "language": "python",
   "name": "python3"
  },
  "language_info": {
   "codemirror_mode": {
    "name": "ipython",
    "version": 3
   },
   "file_extension": ".py",
   "mimetype": "text/x-python",
   "name": "python",
   "nbconvert_exporter": "python",
   "pygments_lexer": "ipython3",
   "version": "3.6.0"
  }
 },
 "nbformat": 4,
 "nbformat_minor": 2
}
