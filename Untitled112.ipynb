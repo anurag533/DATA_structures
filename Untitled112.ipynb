{
 "cells": [
  {
   "cell_type": "markdown",
   "metadata": {},
   "source": [
    "# tree traversal and implementation "
   ]
  },
  {
   "cell_type": "code",
   "execution_count": 13,
   "metadata": {},
   "outputs": [],
   "source": [
    "class node:\n",
    "    def __init__(self,value):\n",
    "        self.value=value\n",
    "        self.left = None\n",
    "        self.right = None\n",
    "\n",
    "class binarrytree:\n",
    "    def __init__(self,root):\n",
    "        self.root=node(root)\n",
    "        \n",
    "    def print_type(self,traversal_type):\n",
    "        if traversal_type==\"preorder\":\n",
    "            return self.preordertraversal(tree.root,\"\")\n",
    "        elif traversal_type==\"inorder\":\n",
    "            return self.inordertraversal(tree.root,\"\")\n",
    "        elif traversal_type==\"postorder\":\n",
    "            return self.postordertraversal(tree.root,\"\")\n",
    "        \n",
    "    def preordertraversal(self,start,traversal):\n",
    "        if start:\n",
    "            traversal += (str(start.value)+ \"-\")\n",
    "            traversal = self.preordertraversal(start.left,traversal)\n",
    "            traversal = self.preordertraversal(start.right,traversal)\n",
    "        return traversal\n",
    "    \n",
    "    def inordertraversal(self,start,traversal):\n",
    "        if start:\n",
    "            traversal = self.inordertraversal(start.left,traversal)\n",
    "            traversal += (str(start.value)+ \"-\")\n",
    "            traversal = self.inordertraversal(start.right,traversal)\n",
    "        return traversal\n",
    "    \n",
    "    def postordertraversal(self,start,traversal):\n",
    "        if start:\n",
    "            traversal = self.postordertraversal(start.left,traversal)\n",
    "            traversal = self.postordertraversal(start.right,traversal)\n",
    "            traversal += (str(start.value)+\"-\") \n",
    "        return traversal"
   ]
  },
  {
   "cell_type": "code",
   "execution_count": 14,
   "metadata": {},
   "outputs": [],
   "source": [
    "tree=binarrytree(1)\n",
    "tree.root.left=node(2)\n",
    "tree.root.right=node(3)\n",
    "tree.root.left.left= node(4)\n",
    "tree.root.left.right = node(5)\n",
    "tree.root.right.left = node(6)\n",
    "tree.root.right.right = node(7)\n",
    "tree.root.left.left.left = node(8)\n",
    "tree.root.left.left.right= node(9)\n",
    "tree.root.right.right.left = node(10)\n",
    "tree.root.right.right.right = node(11)\n"
   ]
  },
  {
   "cell_type": "code",
   "execution_count": 6,
   "metadata": {},
   "outputs": [
    {
     "data": {
      "text/plain": [
       "'1-2-4-8-9-5-3-6-7-10-11-'"
      ]
     },
     "execution_count": 6,
     "metadata": {},
     "output_type": "execute_result"
    }
   ],
   "source": [
    "tree.print_type(\"preorder\")"
   ]
  },
  {
   "cell_type": "code",
   "execution_count": 12,
   "metadata": {},
   "outputs": [
    {
     "data": {
      "text/plain": [
       "'8-4-9-2-5-1-6-3-10-7-11-'"
      ]
     },
     "execution_count": 12,
     "metadata": {},
     "output_type": "execute_result"
    }
   ],
   "source": [
    "tree.print_type(\"inorder\")"
   ]
  },
  {
   "cell_type": "code",
   "execution_count": 15,
   "metadata": {},
   "outputs": [
    {
     "data": {
      "text/plain": [
       "'8-9-4-5-2-6-10-11-7-3-1-'"
      ]
     },
     "execution_count": 15,
     "metadata": {},
     "output_type": "execute_result"
    }
   ],
   "source": [
    "tree.print_type(\"postorder\")"
   ]
  },
  {
   "cell_type": "code",
   "execution_count": null,
   "metadata": {},
   "outputs": [],
   "source": []
  }
 ],
 "metadata": {
  "kernelspec": {
   "display_name": "Python 3",
   "language": "python",
   "name": "python3"
  },
  "language_info": {
   "codemirror_mode": {
    "name": "ipython",
    "version": 3
   },
   "file_extension": ".py",
   "mimetype": "text/x-python",
   "name": "python",
   "nbconvert_exporter": "python",
   "pygments_lexer": "ipython3",
   "version": "3.6.0"
  }
 },
 "nbformat": 4,
 "nbformat_minor": 2
}
