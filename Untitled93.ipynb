{
 "cells": [
  {
   "cell_type": "code",
   "execution_count": 20,
   "metadata": {},
   "outputs": [],
   "source": [
    "class node:\n",
    "    def __init__(self,data):\n",
    "        self.data = data\n",
    "        self.next = None\n",
    "        \n",
    "class linkedlist:\n",
    "    def __init__(self):\n",
    "        self.head = None\n",
    "        \n",
    "    def append(self,item):\n",
    "        newnode = node(item)\n",
    "        if self.head is None:\n",
    "            self.head = newnode\n",
    "            return\n",
    "        curr_node = self.head\n",
    "        while curr_node.next:\n",
    "            curr_node = curr_node.next\n",
    "        curr_node.next = newnode\n",
    "        \n",
    "    def printlist(self):\n",
    "        curr_node = self.head\n",
    "        if self.head is None:\n",
    "            return \"List is Empty\"\n",
    "        while curr_node:\n",
    "            print(curr_node.data)\n",
    "            curr_node  = curr_node.next\n",
    "    \n",
    "    def delete_position(self,pos):\n",
    "        prev = None\n",
    "        curr_node = self.head\n",
    "        count = 0\n",
    "        if self.head is None:\n",
    "            return \"List is Empty \"\n",
    "        if pos == 0:\n",
    "            self.head = curr_node.next\n",
    "            curr_node = None\n",
    "            return\n",
    "        while curr_node and count != pos:\n",
    "            prev = curr_node\n",
    "            curr_node = curr_node.next\n",
    "        prev.next = curr_node.next\n",
    "        curr_node = None\n",
    "        \n",
    "    def delete_data(self,key):\n",
    "        "
   ]
  },
  {
   "cell_type": "code",
   "execution_count": 21,
   "metadata": {},
   "outputs": [],
   "source": [
    "l= linkedlist()"
   ]
  },
  {
   "cell_type": "code",
   "execution_count": 22,
   "metadata": {},
   "outputs": [],
   "source": [
    "l.append(3)"
   ]
  },
  {
   "cell_type": "code",
   "execution_count": 23,
   "metadata": {},
   "outputs": [
    {
     "name": "stdout",
     "output_type": "stream",
     "text": [
      "3\n"
     ]
    }
   ],
   "source": [
    "l.printlist()"
   ]
  },
  {
   "cell_type": "code",
   "execution_count": 26,
   "metadata": {},
   "outputs": [
    {
     "data": {
      "text/plain": [
       "'List is Empty '"
      ]
     },
     "execution_count": 26,
     "metadata": {},
     "output_type": "execute_result"
    }
   ],
   "source": [
    "l.delete_position(0)"
   ]
  },
  {
   "cell_type": "code",
   "execution_count": 27,
   "metadata": {},
   "outputs": [
    {
     "data": {
      "text/plain": [
       "'List is Empty'"
      ]
     },
     "execution_count": 27,
     "metadata": {},
     "output_type": "execute_result"
    }
   ],
   "source": [
    "l.printlist()"
   ]
  },
  {
   "cell_type": "code",
   "execution_count": null,
   "metadata": {},
   "outputs": [],
   "source": []
  }
 ],
 "metadata": {
  "kernelspec": {
   "display_name": "Python 3",
   "language": "python",
   "name": "python3"
  },
  "language_info": {
   "codemirror_mode": {
    "name": "ipython",
    "version": 3
   },
   "file_extension": ".py",
   "mimetype": "text/x-python",
   "name": "python",
   "nbconvert_exporter": "python",
   "pygments_lexer": "ipython3",
   "version": "3.6.0"
  }
 },
 "nbformat": 4,
 "nbformat_minor": 2
}
