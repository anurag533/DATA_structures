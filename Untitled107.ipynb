{
 "cells": [
  {
   "cell_type": "code",
   "execution_count": 22,
   "metadata": {},
   "outputs": [],
   "source": [
    "class nqueensproblem:\n",
    "    def __init__(self,numofqueen):\n",
    "        self.numofqueen=numofqueen\n",
    "        self.chessboard=[[None for i in range(numofqueen)] for j in range(numofqueen)]\n",
    "        \n",
    "    \n",
    "    def isplaced(self,rowindex,columnindex):\n",
    "        #for same row\n",
    "        \n",
    "        for j in range(self.numofqueen):\n",
    "            \n",
    "            if self.chessboard[rowindex][j]==1:\n",
    "                return False\n",
    "            \n",
    "        # for diagnol up\n",
    "        \n",
    "        j=columnindex\n",
    "        for i in range(rowindex,-1,-1):\n",
    "            \n",
    "            if j<0:\n",
    "                break\n",
    "            if self.chessboard[i][j]==1:\n",
    "                return False\n",
    "            j=j-1\n",
    "            \n",
    "        #for diagonal down\n",
    "        \n",
    "        j=columnindex\n",
    "        for i in range(rowindex,len(self.chessboard)):\n",
    "            \n",
    "            if j < 0:\n",
    "                break\n",
    "            if self.chessboard[i][j]==1:\n",
    "                return False\n",
    "            \n",
    "            j=j-1\n",
    "        return True\n",
    "    \n",
    "    \n",
    "    def solve(self,colindex):\n",
    "        if colindex==self.numofqueen:\n",
    "            return True\n",
    "        for rowindex in range(self.numofqueen):\n",
    "            if self.isplaced(rowindex,colindex):\n",
    "                self.chessboard[rowindex][colindex]=1\n",
    "                \n",
    "                if self.solve(colindex+1):\n",
    "                    return True\n",
    "                \n",
    "                \n",
    "                self.chessboard[rowindex][colindex]=0\n",
    "        return False\n",
    "    \n",
    "    def solvenqueen(self,):\n",
    "        if self.solve(0):\n",
    "            self.printqueen()\n",
    "        else:\n",
    "            print(\"No possible solution\")\n",
    "    \n",
    "    def printqueen(self):\n",
    "        for i in range(self.numofqueen):\n",
    "            for j in range(self.numofqueen):\n",
    "                if self.chessboard[i][j]==1:\n",
    "                    print(' * ',end=\"\")\n",
    "                else:\n",
    "                    print(' - ',end=\"\")\n",
    "            print('\\n')"
   ]
  },
  {
   "cell_type": "code",
   "execution_count": 23,
   "metadata": {},
   "outputs": [],
   "source": [
    "q=nqueensproblem(4)"
   ]
  },
  {
   "cell_type": "code",
   "execution_count": 24,
   "metadata": {},
   "outputs": [
    {
     "name": "stdout",
     "output_type": "stream",
     "text": [
      " -  -  *  - \n",
      "\n",
      " *  -  -  - \n",
      "\n",
      " -  -  -  * \n",
      "\n",
      " -  *  -  - \n",
      "\n"
     ]
    }
   ],
   "source": [
    "q.solvenqueen()"
   ]
  },
  {
   "cell_type": "code",
   "execution_count": null,
   "metadata": {},
   "outputs": [],
   "source": []
  },
  {
   "cell_type": "code",
   "execution_count": null,
   "metadata": {},
   "outputs": [],
   "source": []
  }
 ],
 "metadata": {
  "kernelspec": {
   "display_name": "Python 3",
   "language": "python",
   "name": "python3"
  },
  "language_info": {
   "codemirror_mode": {
    "name": "ipython",
    "version": 3
   },
   "file_extension": ".py",
   "mimetype": "text/x-python",
   "name": "python",
   "nbconvert_exporter": "python",
   "pygments_lexer": "ipython3",
   "version": "3.6.0"
  }
 },
 "nbformat": 4,
 "nbformat_minor": 2
}
