{
 "cells": [
  {
   "cell_type": "code",
   "execution_count": 16,
   "metadata": {},
   "outputs": [
    {
     "data": {
      "text/plain": [
       "4"
      ]
     },
     "execution_count": 16,
     "metadata": {},
     "output_type": "execute_result"
    }
   ],
   "source": [
    "x=[1,2,3,14]\n",
    "len(x)"
   ]
  },
  {
   "cell_type": "code",
   "execution_count": 17,
   "metadata": {},
   "outputs": [
    {
     "data": {
      "text/plain": [
       "14"
      ]
     },
     "execution_count": 17,
     "metadata": {},
     "output_type": "execute_result"
    }
   ],
   "source": [
    "x[len(x)-1]"
   ]
  },
  {
   "cell_type": "code",
   "execution_count": 18,
   "metadata": {
    "scrolled": true
   },
   "outputs": [
    {
     "name": "stdout",
     "output_type": "stream",
     "text": [
      "[0, 3, 8, 15, 24, 35]\n"
     ]
    }
   ],
   "source": [
    "nums=[1,2,3,4,5,6]\n",
    "my_list = [n*n-1 for n in nums]\n",
    "print(my_list)"
   ]
  },
  {
   "cell_type": "code",
   "execution_count": 19,
   "metadata": {},
   "outputs": [],
   "source": [
    "#linear search\n",
    "l=[14,12,13,15,16,17]\n",
    "def linear_search(k,s):\n",
    "    for i in range(len(k)):\n",
    "        if k[i] ==s:\n",
    "            return i\n"
   ]
  },
  {
   "cell_type": "code",
   "execution_count": 22,
   "metadata": {},
   "outputs": [
    {
     "data": {
      "text/plain": [
       "0"
      ]
     },
     "execution_count": 22,
     "metadata": {},
     "output_type": "execute_result"
    }
   ],
   "source": [
    "linear_search(l,14)"
   ]
  },
  {
   "cell_type": "code",
   "execution_count": 34,
   "metadata": {},
   "outputs": [],
   "source": [
    "# binary search\n",
    "k=[1,3,5,7,9,10,12,14,15]\n",
    "def binary_search(k,n,left=0,right=len(k)-1):\n",
    "    if left>right:\n",
    "        return -1\n",
    "    middle= left+(right-left )//2\n",
    "    \n",
    "    if k[middle]==n:\n",
    "        return middle\n",
    "    \n",
    "    elif k[middle]<n:\n",
    "        return binary_search(k,n,middle+1,right)\n",
    "    elif k[middle]>n:\n",
    "        return binary_search(k,n,left,middle-1)"
   ]
  },
  {
   "cell_type": "code",
   "execution_count": 36,
   "metadata": {},
   "outputs": [
    {
     "data": {
      "text/plain": [
       "6"
      ]
     },
     "execution_count": 36,
     "metadata": {},
     "output_type": "execute_result"
    }
   ],
   "source": [
    "binary_search(k,12)"
   ]
  },
  {
   "cell_type": "code",
   "execution_count": 76,
   "metadata": {},
   "outputs": [],
   "source": [
    "# tower of henoi\n",
    "def tower(n,rodfrom,rodmiddle,rodto):\n",
    "    if n==1:\n",
    "        print(\"plate 1 moved from %s to %s\"%(rodfrom,rodto))\n",
    "        return\n",
    "    tower(n-1,rodfrom,rodto,rodmiddle)\n",
    "    print(\"plate %s moved from %s to %s\"%(n,rodfrom,rodto))\n",
    "    tower(n-1,rodmiddle,rodfrom,rodto)"
   ]
  },
  {
   "cell_type": "code",
   "execution_count": 77,
   "metadata": {},
   "outputs": [
    {
     "name": "stdout",
     "output_type": "stream",
     "text": [
      "plate 1 moved from a to c\n",
      "plate 2 moved from a to b\n",
      "plate 1 moved from c to b\n",
      "plate 3 moved from a to c\n",
      "plate 1 moved from b to a\n",
      "plate 2 moved from b to c\n",
      "plate 1 moved from a to c\n"
     ]
    }
   ],
   "source": [
    "tower(3,'a','b','c')"
   ]
  },
  {
   "cell_type": "code",
   "execution_count": 49,
   "metadata": {},
   "outputs": [],
   "source": [
    "l=[1,2,3,4,5]\n",
    "x=[[None for i in range(len(l))] for j in range(len(l))]"
   ]
  },
  {
   "cell_type": "code",
   "execution_count": 52,
   "metadata": {},
   "outputs": [
    {
     "name": "stdout",
     "output_type": "stream",
     "text": [
      "[[None, None, None, None, None], [None, None, None, None, None], [None, None, None, None, None], [None, None, None, None, None], [None, None, None, None, None]]\n"
     ]
    }
   ],
   "source": [
    "print(x)"
   ]
  },
  {
   "cell_type": "code",
   "execution_count": null,
   "metadata": {},
   "outputs": [],
   "source": []
  }
 ],
 "metadata": {
  "kernelspec": {
   "display_name": "Python 3",
   "language": "python",
   "name": "python3"
  },
  "language_info": {
   "codemirror_mode": {
    "name": "ipython",
    "version": 3
   },
   "file_extension": ".py",
   "mimetype": "text/x-python",
   "name": "python",
   "nbconvert_exporter": "python",
   "pygments_lexer": "ipython3",
   "version": "3.6.0"
  }
 },
 "nbformat": 4,
 "nbformat_minor": 2
}
