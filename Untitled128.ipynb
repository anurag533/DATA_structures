{
 "cells": [
  {
   "cell_type": "code",
   "execution_count": 2,
   "metadata": {},
   "outputs": [],
   "source": [
    "class node:\n",
    "    def __init__(self,data):\n",
    "        self.value = data\n",
    "        self.left = None\n",
    "        self.right = None\n",
    "\n",
    "class BST:\n",
    "    def __init__(self):\n",
    "        self.root = None\n",
    "    \n",
    "    def insert(self,data):\n",
    "        if self.root is None:\n",
    "            self.root = node(data)\n",
    "        else:\n",
    "            return self._insert(data,self.root)\n",
    "    \n",
    "    \n",
    "    def _insert(self,data,curr_node):\n",
    "        if data < curr_node.value:\n",
    "            if curr_node.left is None:\n",
    "                curr_node.left = node(data)\n",
    "            else:\n",
    "                self._insert(data,curr_node.left)\n",
    "        \n",
    "        elif data > curr_node.value :\n",
    "            if curr_node.right is None:\n",
    "                curr_node.right = node(data)\n",
    "            else:\n",
    "                self._insert(data,curr_node.right)\n",
    "        else:\n",
    "            print(\"data is already present\")\n",
    "    \n",
    "    def find(self,data):\n",
    "        if self.root:\n",
    "            is_found = self._find(data,self.root)\n",
    "            if is_found:\n",
    "                return True\n",
    "            return False\n",
    "        else:\n",
    "            return None\n",
    "        \n",
    "    def _find(self,data,curr_node):\n",
    "        if data < curr_node.value and curr_node.left:\n",
    "            return self._find(data,curr_node.left)\n",
    "        elif data > curr_node.value and curr_node.right:\n",
    "            return self._find(data,curr_node.right)\n",
    "        if data == curr_node.value:\n",
    "            return True\n",
    "    \n",
    "    def is_bst_satisfied(self):\n",
    "        if self.root:\n",
    "            is_bst = self._is_bst_satisfied(self.root,self.root.value)\n",
    "            if is_bst is None:\n",
    "                return True\n",
    "            return False\n",
    "        return True\n",
    "    \n",
    "    def _is_bst_satisfied(self,curr_node,data):\n",
    "        if curr_node.left:\n",
    "            if data > curr_node.value:\n",
    "                return self._is_bst_satisfied(curr_node,curr_node.left.value)\n",
    "            else:\n",
    "                return False\n",
    "        if curr_node.right:\n",
    "            if data < curr_node.right:\n",
    "                return self._is_bst_satisfied(curr_node,curr_node.right)\n",
    "            else:\n",
    "                return False\n",
    "            "
   ]
  },
  {
   "cell_type": "code",
   "execution_count": 3,
   "metadata": {},
   "outputs": [],
   "source": [
    "bst = BST()"
   ]
  },
  {
   "cell_type": "code",
   "execution_count": 4,
   "metadata": {},
   "outputs": [],
   "source": [
    "bst.insert(4)\n",
    "bst.insert(2)\n",
    "bst.insert(8)\n",
    "bst.insert(5)\n",
    "bst.insert(9)\n",
    "bst.insert(10)"
   ]
  },
  {
   "cell_type": "code",
   "execution_count": 5,
   "metadata": {},
   "outputs": [
    {
     "data": {
      "text/plain": [
       "True"
      ]
     },
     "execution_count": 5,
     "metadata": {},
     "output_type": "execute_result"
    }
   ],
   "source": [
    "bst.find(10)"
   ]
  },
  {
   "cell_type": "code",
   "execution_count": 6,
   "metadata": {},
   "outputs": [],
   "source": [
    "tree = BST()"
   ]
  },
  {
   "cell_type": "code",
   "execution_count": null,
   "metadata": {},
   "outputs": [],
   "source": [
    "tree.root = node(1)\n",
    "tree.root.left = node(2)\n",
    "tree.root.right = node(3)"
   ]
  }
 ],
 "metadata": {
  "kernelspec": {
   "display_name": "Python 3",
   "language": "python",
   "name": "python3"
  },
  "language_info": {
   "codemirror_mode": {
    "name": "ipython",
    "version": 3
   },
   "file_extension": ".py",
   "mimetype": "text/x-python",
   "name": "python",
   "nbconvert_exporter": "python",
   "pygments_lexer": "ipython3",
   "version": "3.6.0"
  }
 },
 "nbformat": 4,
 "nbformat_minor": 2
}
