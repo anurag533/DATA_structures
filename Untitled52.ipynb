{
 "cells": [
  {
   "cell_type": "code",
   "execution_count": 95,
   "metadata": {},
   "outputs": [
    {
     "name": "stdout",
     "output_type": "stream",
     "text": [
      "3 0\n",
      "3\n",
      "{}\n",
      "2 1\n",
      "4\n",
      "{3: 0}\n",
      "4 2\n",
      "2\n",
      "{3: 0, 4: 1}\n",
      "k\n",
      "1\n",
      "[1, 2]\n",
      "1\n"
     ]
    }
   ],
   "source": [
    "x= {}\n",
    "nums=[3,2,4]\n",
    "target = 6\n",
    "for i in range(len(nums)):\n",
    "    num = nums[i]\n",
    "    print(num,i)\n",
    "    diff = target-num\n",
    "    print(diff)\n",
    "    print(x)\n",
    "    if num in x:\n",
    "        print(\"k\")\n",
    "        print(x[num])\n",
    "        print([x[num],i])\n",
    "    \n",
    "    else:\n",
    "        x[diff] = i\n",
    "print(x[4])"
   ]
  },
  {
   "cell_type": "code",
   "execution_count": null,
   "metadata": {},
   "outputs": [],
   "source": []
  },
  {
   "cell_type": "code",
   "execution_count": null,
   "metadata": {},
   "outputs": [],
   "source": []
  }
 ],
 "metadata": {
  "kernelspec": {
   "display_name": "Python 3",
   "language": "python",
   "name": "python3"
  },
  "language_info": {
   "codemirror_mode": {
    "name": "ipython",
    "version": 3
   },
   "file_extension": ".py",
   "mimetype": "text/x-python",
   "name": "python",
   "nbconvert_exporter": "python",
   "pygments_lexer": "ipython3",
   "version": "3.6.0"
  }
 },
 "nbformat": 4,
 "nbformat_minor": 2
}
