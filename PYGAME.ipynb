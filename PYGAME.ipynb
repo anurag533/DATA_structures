{
 "cells": [
  {
   "cell_type": "code",
   "execution_count": null,
   "metadata": {},
   "outputs": [],
   "source": []
  },
  {
   "cell_type": "code",
   "execution_count": 14,
   "metadata": {},
   "outputs": [],
   "source": [
    "import pygame\n",
    "pygame.init()\n",
    "win = pygame.display.set_mode((500,500))\n",
    "pygame.display.set_caption(\"new game\")\n",
    "\n",
    "x=50\n",
    "y=60\n",
    "width=10\n",
    "height =10\n",
    "x_change = 0\n",
    "y_change = 0\n",
    "\n",
    "run = True\n",
    "\n",
    "while run:\n",
    "    pygame.time.delay(100)\n",
    "    for event in pygame.event.get():\n",
    "        if event.type == pygame.QUIT:\n",
    "            run = False\n",
    "            \n",
    "            \n",
    "        keys = pygame.key.get_pressed()\n",
    "    \n",
    "        if keys[pygame.K_LEFT]:\n",
    "            x_change = -10\n",
    "\n",
    "        if keys[pygame.K_RIGHT]:\n",
    "            x_change = 10\n",
    "\n",
    "        if keys[pygame.K_UP]:\n",
    "            y_change = -10\n",
    "\n",
    "        if keys[pygame.K_DOWN]:\n",
    "            y_change = 10\n",
    "    \n",
    "    x += x_change\n",
    "    y += y_change\n",
    "    win.fill((0,0,0))\n",
    "    pygame.draw.rect(win,(255,0,0), (x,y,width,height))\n",
    "    pygame.display.update()\n",
    "pygame.quit()"
   ]
  },
  {
   "cell_type": "code",
   "execution_count": null,
   "metadata": {},
   "outputs": [],
   "source": []
  },
  {
   "cell_type": "code",
   "execution_count": null,
   "metadata": {},
   "outputs": [],
   "source": [
    "import pygame"
   ]
  }
 ],
 "metadata": {
  "kernelspec": {
   "display_name": "Python 3",
   "language": "python",
   "name": "python3"
  },
  "language_info": {
   "codemirror_mode": {
    "name": "ipython",
    "version": 3
   },
   "file_extension": ".py",
   "mimetype": "text/x-python",
   "name": "python",
   "nbconvert_exporter": "python",
   "pygments_lexer": "ipython3",
   "version": "3.7.6"
  }
 },
 "nbformat": 4,
 "nbformat_minor": 2
}
