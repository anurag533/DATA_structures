{
 "cells": [
  {
   "cell_type": "code",
   "execution_count": 3,
   "metadata": {},
   "outputs": [],
   "source": [
    "class node:\n",
    "    def __init__(self,data):\n",
    "        self.data = data\n",
    "        self.next = None\n",
    "        \n",
    "class linked_list:\n",
    "    def __init__(self):\n",
    "        self.head = None\n",
    "    \n",
    "    def append(self,data):\n",
    "        newnode = node(data)\n",
    "        if self.head is None:\n",
    "            self.head = newnode\n",
    "            return\n",
    "        currnode = self.head\n",
    "        while currnode.next:\n",
    "            currnode = currnode.next\n",
    "        currnode.next = newnode\n",
    "    \n",
    "    def print_list(self):\n",
    "        curr = self.head\n",
    "        while curr:\n",
    "            print(curr.data)\n",
    "            curr = curr.next\n",
    "            \n",
    "    def prepend(self,data):\n",
    "        newnode = node(data)\n",
    "        if self.head is None:\n",
    "            self.head = newnode\n",
    "            return\n",
    "        newnode.next = self.head \n",
    "        self.head = newnode\n",
    "        \n",
    "    def __len__(self):\n",
    "        curr = self.head\n",
    "        l = 0\n",
    "        if self.head is None:\n",
    "            return 0\n",
    "        while curr:\n",
    "            l += 1\n",
    "            curr = curr.next\n",
    "        return l\n",
    "    \n",
    "    def insertfun(self,data,pos):\n",
    "        newnode = node(data)\n",
    "        currnode = self.head\n",
    "        prev = None\n",
    "        if pos > len(self):\n",
    "            return \"Insertion not possible\"\n",
    "        while currnode and pos != 0:\n",
    "            pos -= 1\n",
    "            prev = currnode\n",
    "            currnode = currnode.next\n",
    "        if prev is None:\n",
    "            newnode.next = self.head\n",
    "            self.head = newnode\n",
    "            return\n",
    "        prev.next = newnode\n",
    "        newnode.next = currnode\n",
    "\n",
    "    def delete_data(self,data):\n",
    "        \n",
    "        prev = None\n",
    "        curr = self.head\n",
    "        if self.head is None:\n",
    "            return \"Can't delete from an empty list\"\n",
    "        while curr.next  and curr.data != data:\n",
    "            prev = curr\n",
    "            curr = curr.next\n",
    "        if curr.data != data:\n",
    "            return f'{data} not in list '\n",
    "        if prev is None:\n",
    "            self.head = curr.next\n",
    "            curr = None\n",
    "            return\n",
    "        prev.next = curr.next\n",
    "        curr = None\n",
    "        \n",
    "    def delete_pos(self,pos):\n",
    "        if pos > len(self)-1:\n",
    "            return f\"{pos} not valid. Deletion not possible\"\n",
    "        prev = None\n",
    "        curr = self.head\n",
    "        if pos == 0:\n",
    "            self.head = curr.next\n",
    "            curr = None\n",
    "            return\n",
    "        while curr.next and pos != 0:\n",
    "            pos -= 1\n",
    "            prev = curr\n",
    "            curr = curr.next      \n",
    "        \n",
    "        prev.next = curr.next\n",
    "        curr = None\n",
    "        \n",
    "    def node_swap(self,data1,data2):\n",
    "        if self.head is None:\n",
    "            return \"Swap not possible\"\n",
    "        if data1 == data2:\n",
    "            return \"Swap not reqired\"\n",
    "        prev1 = None\n",
    "        curr1 = self.head\n",
    "        while curr1 and curr1.data != data1:\n",
    "            prev1 = curr1\n",
    "            curr1 = curr1.next\n",
    "        \n",
    "        prev2 = None\n",
    "        curr2 = self.head\n",
    "        while curr2 and curr2.data != data2:\n",
    "            prev2 = curr2\n",
    "            curr2 = curr2.next\n",
    "        if not curr1 or not curr2:\n",
    "            return \"swap not possible\"\n",
    "        \n",
    "        if prev1:\n",
    "            prev1.next=curr2\n",
    "        else:\n",
    "            self.head = curr2\n",
    "        if prev2:\n",
    "            prev2.next = curr1\n",
    "        else:\n",
    "            self.head = curr1\n",
    "            \n",
    "        curr2.next,curr1.next = curr1.next,curr2.next\n",
    "    \n",
    "    def reverse_list(self):\n",
    "        if self.head is None:\n",
    "            return None\n",
    "        prev = None\n",
    "        curr = self.head\n",
    "        while curr:\n",
    "            x = curr.next\n",
    "            curr.next = prev\n",
    "            prev = curr\n",
    "            curr = x\n",
    "        self.head = prev"
   ]
  },
  {
   "cell_type": "code",
   "execution_count": null,
   "metadata": {},
   "outputs": [],
   "source": []
  },
  {
   "cell_type": "code",
   "execution_count": null,
   "metadata": {},
   "outputs": [],
   "source": []
  },
  {
   "cell_type": "code",
   "execution_count": null,
   "metadata": {},
   "outputs": [],
   "source": []
  },
  {
   "cell_type": "code",
   "execution_count": null,
   "metadata": {},
   "outputs": [],
   "source": []
  },
  {
   "cell_type": "code",
   "execution_count": null,
   "metadata": {},
   "outputs": [],
   "source": []
  },
  {
   "cell_type": "code",
   "execution_count": null,
   "metadata": {},
   "outputs": [],
   "source": []
  },
  {
   "cell_type": "code",
   "execution_count": null,
   "metadata": {},
   "outputs": [],
   "source": []
  },
  {
   "cell_type": "code",
   "execution_count": 24,
   "metadata": {},
   "outputs": [],
   "source": [
    "k=(1,2,3,4,5)"
   ]
  },
  {
   "cell_type": "code",
   "execution_count": 32,
   "metadata": {},
   "outputs": [
    {
     "name": "stdout",
     "output_type": "stream",
     "text": [
      "this is a string\n"
     ]
    }
   ],
   "source": [
    "print('this is a {}'.format('string'))"
   ]
  },
  {
   "cell_type": "code",
   "execution_count": 33,
   "metadata": {},
   "outputs": [
    {
     "name": "stdout",
     "output_type": "stream",
     "text": [
      "the fox brown quick\n"
     ]
    }
   ],
   "source": [
    "print('the {} {} {}'.format('fox','brown','quick'))"
   ]
  },
  {
   "cell_type": "code",
   "execution_count": 35,
   "metadata": {},
   "outputs": [
    {
     "name": "stdout",
     "output_type": "stream",
     "text": [
      "the brown quick fox\n"
     ]
    }
   ],
   "source": [
    "print('the {1} {2} {0}'.format('fox','brown','quick'))  #based on index position"
   ]
  },
  {
   "cell_type": "code",
   "execution_count": 39,
   "metadata": {},
   "outputs": [
    {
     "name": "stdout",
     "output_type": "stream",
     "text": [
      "the brown fox quick\n"
     ]
    }
   ],
   "source": [
    "print('the {y} {x} {z}'.format(x='fox',y='brown',z='quick'))"
   ]
  },
  {
   "cell_type": "code",
   "execution_count": 40,
   "metadata": {},
   "outputs": [],
   "source": [
    "name = \"Ash ketchum\"\n",
    "age = 10\n"
   ]
  },
  {
   "cell_type": "code",
   "execution_count": 41,
   "metadata": {},
   "outputs": [
    {
     "name": "stdout",
     "output_type": "stream",
     "text": [
      "Ash ketchum is 10 years old\n"
     ]
    }
   ],
   "source": [
    "print(f'{name} is {age} years old')"
   ]
  },
  {
   "cell_type": "code",
   "execution_count": 42,
   "metadata": {},
   "outputs": [],
   "source": [
    "num = [21,4,3,2,1]"
   ]
  },
  {
   "cell_type": "code",
   "execution_count": 45,
   "metadata": {},
   "outputs": [],
   "source": [
    "x=num.sort()"
   ]
  },
  {
   "cell_type": "code",
   "execution_count": 46,
   "metadata": {},
   "outputs": [
    {
     "data": {
      "text/plain": [
       "[1, 2, 3, 4, 21]"
      ]
     },
     "execution_count": 46,
     "metadata": {},
     "output_type": "execute_result"
    }
   ],
   "source": [
    "num"
   ]
  },
  {
   "cell_type": "code",
   "execution_count": 49,
   "metadata": {},
   "outputs": [
    {
     "name": "stdout",
     "output_type": "stream",
     "text": [
      "None\n"
     ]
    }
   ],
   "source": [
    "print(x) #important"
   ]
  },
  {
   "cell_type": "code",
   "execution_count": 55,
   "metadata": {},
   "outputs": [
    {
     "data": {
      "text/plain": [
       "1"
      ]
     },
     "execution_count": 55,
     "metadata": {},
     "output_type": "execute_result"
    }
   ],
   "source": [
    "[1,2,3,[1,2]][-1][0]"
   ]
  },
  {
   "cell_type": "code",
   "execution_count": null,
   "metadata": {},
   "outputs": [],
   "source": []
  }
 ],
 "metadata": {
  "kernelspec": {
   "display_name": "Python 3",
   "language": "python",
   "name": "python3"
  },
  "language_info": {
   "codemirror_mode": {
    "name": "ipython",
    "version": 3
   },
   "file_extension": ".py",
   "mimetype": "text/x-python",
   "name": "python",
   "nbconvert_exporter": "python",
   "pygments_lexer": "ipython3",
   "version": "3.6.0"
  }
 },
 "nbformat": 4,
 "nbformat_minor": 2
}
