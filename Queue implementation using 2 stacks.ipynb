{
 "cells": [
  {
   "cell_type": "code",
   "execution_count": null,
   "metadata": {},
   "outputs": [],
   "source": []
  },
  {
   "cell_type": "code",
   "execution_count": null,
   "metadata": {},
   "outputs": [],
   "source": []
  },
  {
   "cell_type": "code",
   "execution_count": 26,
   "metadata": {},
   "outputs": [],
   "source": [
    "class queue:\n",
    "    \n",
    "    def __init__(self):\n",
    "        self.instack = []\n",
    "        self.outstack = []\n",
    "    \n",
    "    def __str__(self):\n",
    "        return f\"{self.instack}\"\n",
    "    def __len__(self):\n",
    "        return len(self.instack)\n",
    "    def enqueue(self,item):\n",
    "        return self.instack.append(item)\n",
    "    \n",
    "    def dequeue(self):\n",
    "        if not self.outstack:\n",
    "            while self.instack:\n",
    "                self.outstack.append(self.instack.pop())\n",
    "                \n",
    "        return self.outstack.pop()"
   ]
  },
  {
   "cell_type": "code",
   "execution_count": 27,
   "metadata": {},
   "outputs": [],
   "source": [
    "q1 = queue()"
   ]
  },
  {
   "cell_type": "code",
   "execution_count": 30,
   "metadata": {},
   "outputs": [],
   "source": [
    "q1.instack.append(5)"
   ]
  },
  {
   "cell_type": "code",
   "execution_count": 31,
   "metadata": {},
   "outputs": [
    {
     "name": "stdout",
     "output_type": "stream",
     "text": [
      "[5, 5]\n"
     ]
    }
   ],
   "source": [
    "print(q1)"
   ]
  },
  {
   "cell_type": "code",
   "execution_count": 23,
   "metadata": {},
   "outputs": [],
   "source": [
    "q1.enqueue(1)"
   ]
  },
  {
   "cell_type": "code",
   "execution_count": 24,
   "metadata": {},
   "outputs": [
    {
     "data": {
      "text/plain": [
       "1"
      ]
     },
     "execution_count": 24,
     "metadata": {},
     "output_type": "execute_result"
    }
   ],
   "source": [
    "q1.dequeue()"
   ]
  },
  {
   "cell_type": "code",
   "execution_count": 25,
   "metadata": {},
   "outputs": [],
   "source": [
    "for i in range(5):\n",
    "    q1.enqueue(i)"
   ]
  },
  {
   "cell_type": "code",
   "execution_count": 26,
   "metadata": {},
   "outputs": [
    {
     "data": {
      "text/plain": [
       "5"
      ]
     },
     "execution_count": 26,
     "metadata": {},
     "output_type": "execute_result"
    }
   ],
   "source": [
    "len(q1)"
   ]
  },
  {
   "cell_type": "code",
   "execution_count": 27,
   "metadata": {},
   "outputs": [
    {
     "name": "stdout",
     "output_type": "stream",
     "text": [
      "[0, 1, 2, 3, 4]\n"
     ]
    }
   ],
   "source": [
    "print(q1)"
   ]
  },
  {
   "cell_type": "code",
   "execution_count": 30,
   "metadata": {},
   "outputs": [],
   "source": [
    "q1.enqueue(99)"
   ]
  },
  {
   "cell_type": "code",
   "execution_count": 31,
   "metadata": {},
   "outputs": [
    {
     "name": "stdout",
     "output_type": "stream",
     "text": [
      "[0, 1, 2, 3, 4, 9, 99]\n"
     ]
    }
   ],
   "source": [
    "print(q1)"
   ]
  },
  {
   "cell_type": "code",
   "execution_count": 35,
   "metadata": {},
   "outputs": [],
   "source": [
    "class Stack2Queue(object):\n",
    "    def __init__(self):\n",
    "        self.stackMain = []\n",
    "        self.stackCopy = []\n",
    "    def printAllItems(self):\n",
    "        for i in self.stackMain:\n",
    "            print(i)\n",
    "        \n",
    "    def isEmpty(self):\n",
    "        return self.stackMain == []\n",
    "    def enqueue(self, elm):\n",
    "        self.stackMain.append(elm)\n",
    "    def dequeue(self):\n",
    "        while self.stackMain:\n",
    "            self.stackCopy.append(self.stackMain.pop())\n",
    "        elm = self.stackCopy.pop()\n",
    "        return elm \n",
    " \n"
   ]
  },
  {
   "cell_type": "code",
   "execution_count": 2,
   "metadata": {},
   "outputs": [],
   "source": [
    "class Stack2Queue(object):\n",
    "    def __init__(self):\n",
    "        self.stackMain = []\n",
    "        self.stackCopy = []\n",
    "   # def printAllItems(self):\n",
    "   #     for i in self.stackMain:\n",
    "   #         print(i)\n",
    "        \n",
    "    def isEmpty(self):\n",
    "        return self.stackMain == []\n",
    "    def enqueue(self, elm):\n",
    "        self.stackMain.append(elm)\n",
    "    def dequeue(self):\n",
    "        while self.stackMain:\n",
    "            self.stackCopy.append(self.stackMain.pop())\n",
    "        elm = self.stackCopy.pop()\n",
    "        while self.stackCopy:\n",
    "            self.stackMain.append(self.stackCopy.pop())\n",
    "        return elm "
   ]
  },
  {
   "cell_type": "code",
   "execution_count": 1,
   "metadata": {},
   "outputs": [],
   "source": [
    "class node:\n",
    "    def __init(self):\n",
    "        self.data = data\n",
    "        self.next = None\n",
    "    \n",
    "class linkedlist:\n",
    "    def __init__(self):\n",
    "        self.head = None\n",
    "    \n",
    "    def insert(self,newnode):\n",
    "        if self.head is None:\n",
    "            self.head = newnode\n",
    "        else:\n",
    "            lastnode = self.head\n",
    "            while True:\n",
    "                if lastnode.next is None:\n",
    "                    break\n",
    "                lastnode = lastnode.next\n",
    "            lastnode.next = newnode"
   ]
  },
  {
   "cell_type": "code",
   "execution_count": 4,
   "metadata": {},
   "outputs": [],
   "source": [
    "x = linkedlist()"
   ]
  },
  {
   "cell_type": "code",
   "execution_count": null,
   "metadata": {},
   "outputs": [],
   "source": []
  }
 ],
 "metadata": {
  "kernelspec": {
   "display_name": "Python 3",
   "language": "python",
   "name": "python3"
  },
  "language_info": {
   "codemirror_mode": {
    "name": "ipython",
    "version": 3
   },
   "file_extension": ".py",
   "mimetype": "text/x-python",
   "name": "python",
   "nbconvert_exporter": "python",
   "pygments_lexer": "ipython3",
   "version": "3.6.0"
  }
 },
 "nbformat": 4,
 "nbformat_minor": 2
}
