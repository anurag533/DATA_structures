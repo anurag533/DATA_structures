{
 "cells": [
  {
   "cell_type": "markdown",
   "metadata": {},
   "source": [
    "# LinkdeList"
   ]
  },
  {
   "cell_type": "code",
   "execution_count": 183,
   "metadata": {},
   "outputs": [],
   "source": [
    "class node:\n",
    "    def __init__(self,data):\n",
    "        self.data = data\n",
    "        self.next = None\n",
    "\n",
    "class linked_list:\n",
    "    def __init__(self):\n",
    "        self.head = None\n",
    "        \n",
    "    def append(self,data):\n",
    "        newnode = node(data)\n",
    "        if self.head is None:\n",
    "            self.head = newnode\n",
    "            return\n",
    "        currentNode=self.head\n",
    "        while currentNode.next:\n",
    "            currentNode = currentNode.next\n",
    "        currentNode.next = newnode\n",
    "        \n",
    "    def prepend(self,data):\n",
    "        newnode = node(data)\n",
    "        if self.head is None:\n",
    "            self.head = newnode\n",
    "            return\n",
    "        newnode.next = self.head \n",
    "        self.head = newnode\n",
    "        \n",
    "    def print_linkedlist(self):\n",
    "        lastnode = self.head\n",
    "        while lastnode:\n",
    "            print(str(lastnode.data))\n",
    "            lastnode = lastnode.next\n",
    "        return\n",
    "    def delete(self,data):\n",
    "        prev = self.head\n",
    "        curr = self.head\n",
    "        if self.head is None:\n",
    "            return \"list is empty\"\n",
    "        if self.head.data == data:\n",
    "            self.head = curr.next\n",
    "            prev.next = None\n",
    "            return\n",
    "        while curr.next and curr.data != data:\n",
    "            prev = curr\n",
    "            curr = curr.next\n",
    "        if curr.data != data:\n",
    "            return \"not valid\"\n",
    "        prev.next = curr.next\n",
    "        curr.next = None\n",
    "        \n",
    "    def delete_pos(self,pos):\n",
    "        prev = self.head\n",
    "        curr = self.head       \n",
    "        if self.head is None:\n",
    "            return \"list is empty\"\n",
    "        if pos == 0:\n",
    "            self.head = curr.next\n",
    "            prev.next = None\n",
    "            return\n",
    "        while curr and pos !=0:\n",
    "            pos -= 1\n",
    "            prev = curr\n",
    "            curr = curr.next\n",
    "        if pos !=0 or pos < 0:\n",
    "            return \"postion invalid\"\n",
    "        prev.next = curr.next\n",
    "        curr.next = None\n",
    "        \n",
    "    def __len__(self):\n",
    "        x=0\n",
    "        curr = self.head\n",
    "        while curr:\n",
    "            x += 1\n",
    "            curr = curr.next\n",
    "        return x\n",
    "    \n",
    "    def _insert(self,key,pos):\n",
    "        if pos>len(self)+1:\n",
    "            return \"not valid\"\n",
    "        newnode = node(key)\n",
    "        if pos == 0:\n",
    "            newnode.next = self.head\n",
    "            self.head = newnode\n",
    "            return\n",
    "        \n",
    "        curr = self.head\n",
    "        prev = None\n",
    "        while curr and pos != 0:\n",
    "            pos -= 1\n",
    "            prev = curr\n",
    "            curr = curr.next\n",
    "        prev.next = newnode\n",
    "        newnode.next = curr\n",
    "        \n",
    "        \n",
    "    def swap_node(self,node1,node2):\n",
    "        if self.head is None:\n",
    "            return \"Swap not possible\"\n",
    "        if node1 == node2 :\n",
    "            return \"No swap required or check the value\"\n",
    "        \n",
    "        prev1 = None\n",
    "        curr1 = self.head\n",
    "        while curr1 and curr1.data != node1:\n",
    "            prev1 = curr1\n",
    "            curr1 = curr1.next\n",
    "        prev2 = None\n",
    "        curr2 = self.head\n",
    "        while curr2 and curr2.data != node2:\n",
    "            prev2 = curr2\n",
    "            curr2 = curr2.next      \n",
    "        if self.head.data == node1:\n",
    "            self.head.next,curr2.next = curr2.next,self.head\n",
    "            self.head = curr2\n",
    "            return\n",
    "        if not curr1 or not curr2:\n",
    "            return\n",
    "        if prev2:\n",
    "            prev2.next = curr1\n",
    "        else:\n",
    "            self.head = curr1\n",
    "        if prev1:\n",
    "            prev1.next = curr2\n",
    "        else:\n",
    "            self.head = curr2\n",
    "        \n",
    "        curr1.next,curr2.next = curr2.next,curr1.next       \n",
    "        "
   ]
  },
  {
   "cell_type": "code",
   "execution_count": 184,
   "metadata": {},
   "outputs": [],
   "source": [
    "l=linked_list()"
   ]
  },
  {
   "cell_type": "code",
   "execution_count": 185,
   "metadata": {},
   "outputs": [],
   "source": [
    "for i in range(4):\n",
    "    l.append(i)"
   ]
  },
  {
   "cell_type": "code",
   "execution_count": 186,
   "metadata": {},
   "outputs": [
    {
     "data": {
      "text/plain": [
       "4"
      ]
     },
     "execution_count": 186,
     "metadata": {},
     "output_type": "execute_result"
    }
   ],
   "source": [
    "len(l)"
   ]
  },
  {
   "cell_type": "code",
   "execution_count": 187,
   "metadata": {},
   "outputs": [],
   "source": [
    "l._insert(5,0)"
   ]
  },
  {
   "cell_type": "code",
   "execution_count": 188,
   "metadata": {},
   "outputs": [
    {
     "name": "stdout",
     "output_type": "stream",
     "text": [
      "5\n",
      "0\n",
      "1\n",
      "2\n",
      "3\n"
     ]
    }
   ],
   "source": [
    "l.print_linkedlist()"
   ]
  },
  {
   "cell_type": "code",
   "execution_count": 189,
   "metadata": {},
   "outputs": [],
   "source": [
    "l.swap_node(5,3)"
   ]
  },
  {
   "cell_type": "code",
   "execution_count": 190,
   "metadata": {},
   "outputs": [
    {
     "name": "stdout",
     "output_type": "stream",
     "text": [
      "3\n",
      "5\n"
     ]
    }
   ],
   "source": [
    "l.print_linkedlist()"
   ]
  },
  {
   "cell_type": "code",
   "execution_count": null,
   "metadata": {},
   "outputs": [],
   "source": []
  }
 ],
 "metadata": {
  "kernelspec": {
   "display_name": "Python 3",
   "language": "python",
   "name": "python3"
  },
  "language_info": {
   "codemirror_mode": {
    "name": "ipython",
    "version": 3
   },
   "file_extension": ".py",
   "mimetype": "text/x-python",
   "name": "python",
   "nbconvert_exporter": "python",
   "pygments_lexer": "ipython3",
   "version": "3.6.0"
  }
 },
 "nbformat": 4,
 "nbformat_minor": 2
}
