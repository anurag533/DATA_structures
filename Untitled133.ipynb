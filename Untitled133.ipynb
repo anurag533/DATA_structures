{
 "cells": [
  {
   "cell_type": "markdown",
   "metadata": {},
   "source": [
    "# Graph\n"
   ]
  },
  {
   "cell_type": "markdown",
   "metadata": {},
   "source": [
    "### Adjacency list"
   ]
  },
  {
   "cell_type": "code",
   "execution_count": null,
   "metadata": {},
   "outputs": [],
   "source": [
    "class vertex:\n",
    "    def __init__(self,key):\n",
    "        self.id = key\n",
    "        self.connectedTo = {}\n",
    "    \n",
    "    def addnbr(self,nbr,weight=0):\n",
    "        self.connectedTo[nbr] = weight\n",
    "    \n",
    "    def getconnections(self):\n",
    "        return self.connectedTo.keys()\n",
    "\n",
    "    def getid(self):\n",
    "        return self.id\n",
    "    \n",
    "    def get_weight(self,nbr):\n",
    "        return self.connectedTo[nbr]\n",
    "    \n",
    "    def __str__(self):\n",
    "        return str(self.id) + \"connected to \" + str([x.id for x in self.connectedTo])\n",
    "    \n",
    "    \n",
    "class graph:\n",
    "    def __init__(self):\n",
    "        self.vertlist = {}\n",
    "        self.numvertices = 0\n",
    "    \n",
    "    def addvertex(self,key):\n",
    "        self.numvertices +=  1\n",
    "        newvertex = vertex(key)\n",
    "        self.vertlist[key] = newvertex\n",
    "        return newvertex\n",
    "    \n",
    "    def getvertex(self,n):\n",
    "        if n in self.vertlist:\n",
    "            return self.vertlist[n]\n",
    "        else:\n",
    "            return None\n",
    "        \n",
    "    def addEdge(self,f,t,cost=0):\n",
    "        "
   ]
  }
 ],
 "metadata": {
  "kernelspec": {
   "display_name": "Python 3",
   "language": "python",
   "name": "python3"
  },
  "language_info": {
   "codemirror_mode": {
    "name": "ipython",
    "version": 3
   },
   "file_extension": ".py",
   "mimetype": "text/x-python",
   "name": "python",
   "nbconvert_exporter": "python",
   "pygments_lexer": "ipython3",
   "version": "3.6.0"
  }
 },
 "nbformat": 4,
 "nbformat_minor": 2
}
