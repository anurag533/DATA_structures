{
 "cells": [
  {
   "cell_type": "code",
   "execution_count": 19,
   "metadata": {},
   "outputs": [],
   "source": [
    "#two sum problem\n",
    "l=[-2,1,2,4,7,11]\n",
    "target=13\n",
    "def two_sum(l,target):\n",
    "    d={}\n",
    "    for i in range(len(l)):\n",
    "        difference=target-l[i]\n",
    "        \n",
    "        if difference in l:\n",
    "            d[l[i]]=1\n",
    "        else:\n",
    "            pass\n",
    "    print(d)"
   ]
  },
  {
   "cell_type": "code",
   "execution_count": 20,
   "metadata": {},
   "outputs": [
    {
     "name": "stdout",
     "output_type": "stream",
     "text": [
      "{2: 1, 11: 1}\n"
     ]
    }
   ],
   "source": [
    "two_sum(l,target)"
   ]
  },
  {
   "cell_type": "code",
   "execution_count": null,
   "metadata": {},
   "outputs": [],
   "source": [
    "#buy and sell"
   ]
  }
 ],
 "metadata": {
  "kernelspec": {
   "display_name": "Python 3",
   "language": "python",
   "name": "python3"
  },
  "language_info": {
   "codemirror_mode": {
    "name": "ipython",
    "version": 3
   },
   "file_extension": ".py",
   "mimetype": "text/x-python",
   "name": "python",
   "nbconvert_exporter": "python",
   "pygments_lexer": "ipython3",
   "version": "3.6.0"
  }
 },
 "nbformat": 4,
 "nbformat_minor": 2
}
