{
 "cells": [
  {
   "cell_type": "code",
   "execution_count": 109,
   "metadata": {},
   "outputs": [],
   "source": [
    "matrix=[[1,2,3],\n",
    "  [4,5,6],\n",
    "  [7,8,9]]"
   ]
  },
  {
   "cell_type": "code",
   "execution_count": 110,
   "metadata": {},
   "outputs": [
    {
     "name": "stdout",
     "output_type": "stream",
     "text": [
      "0\n",
      "1 column 0\n",
      "[[1, 2, 3], [4, 5, 6], [7, 8, 9]]\n",
      "4 column 0\n",
      "[[1, 2, 3], [4, 5, 6], [7, 8, 9]]\n",
      "7 column 0\n",
      "[[1, 2, 3], [4, 5, 6], [7, 8, 9]]\n",
      "1\n",
      "2 column 1\n",
      "[[1, 2, 3], [4, 5, 6], [7, 8, 9]]\n",
      "5 column 1\n",
      "[[1, 2, 3], [4, 5, 6], [7, 8, 9]]\n",
      "8 column 1\n",
      "[[1, 2, 3], [4, 5, 6], [7, 8, 9]]\n",
      "2\n",
      "3 column 2\n",
      "[[1, 2, 3], [4, 5, 6], [7, 8, 9]]\n",
      "6 column 2\n",
      "[[1, 2, 3], [4, 5, 6], [7, 8, 9]]\n",
      "9 column 2\n",
      "[[1, 2, 3], [4, 5, 6], [7, 8, 9]]\n"
     ]
    }
   ],
   "source": [
    "for sub in range(len(matrix)):\n",
    "    print(sub)\n",
    "    for column in matrix:\n",
    "       \n",
    "        print(column[sub],\"column\",sub)\n",
    "        print(matrix)"
   ]
  },
  {
   "cell_type": "code",
   "execution_count": null,
   "metadata": {},
   "outputs": [],
   "source": []
  },
  {
   "cell_type": "code",
   "execution_count": 32,
   "metadata": {},
   "outputs": [],
   "source": [
    "#[ output\n",
    "#  [7,4,1],\n",
    "#  [8,5,2],\n",
    "#  [9,6,3]\n",
    "#input\n",
    "#[[1,2,3],\n",
    "# [4,5,6],\n",
    "# [7,8,9]]\n",
    "#]"
   ]
  },
  {
   "cell_type": "code",
   "execution_count": 1,
   "metadata": {},
   "outputs": [],
   "source": [
    "matrix=[[1,2,3],\n",
    "  [4,5,6],\n",
    "  [7,8,9]]\n",
    "\n",
    "matrix=matrix[::-1]\n",
    "for i in range(len(matrix)):\n",
    "    for j in range(i):\n",
    "        matrix[i][j],matrix[j][i]=matrix[j][i],matrix[i][j]"
   ]
  },
  {
   "cell_type": "code",
   "execution_count": 2,
   "metadata": {},
   "outputs": [
    {
     "name": "stdout",
     "output_type": "stream",
     "text": [
      "[[7, 4, 1], [8, 5, 2], [9, 6, 3]]\n"
     ]
    }
   ],
   "source": [
    "print(matrix)"
   ]
  },
  {
   "cell_type": "code",
   "execution_count": null,
   "metadata": {},
   "outputs": [],
   "source": []
  }
 ],
 "metadata": {
  "kernelspec": {
   "display_name": "Python 3",
   "language": "python",
   "name": "python3"
  },
  "language_info": {
   "codemirror_mode": {
    "name": "ipython",
    "version": 3
   },
   "file_extension": ".py",
   "mimetype": "text/x-python",
   "name": "python",
   "nbconvert_exporter": "python",
   "pygments_lexer": "ipython3",
   "version": "3.6.0"
  }
 },
 "nbformat": 4,
 "nbformat_minor": 2
}
