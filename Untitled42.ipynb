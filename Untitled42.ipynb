{
 "cells": [
  {
   "cell_type": "code",
   "execution_count": 100,
   "metadata": {},
   "outputs": [
    {
     "name": "stdout",
     "output_type": "stream",
     "text": [
      "[[7, 8, 9], [4, 5, 6], [1, 2, 3]]\n",
      "0 i\n",
      "1 i\n",
      "0 j\n",
      "[[7, 4, 9], [8, 5, 6], [1, 2, 3]]\n",
      "2 i\n",
      "0 j\n",
      "[[7, 4, 1], [8, 5, 6], [9, 2, 3]]\n",
      "1 j\n",
      "[[7, 4, 1], [8, 5, 2], [9, 6, 3]]\n"
     ]
    }
   ],
   "source": [
    "matrix=[[1,2,3],\n",
    "        [4,5,6],\n",
    "        [7,8,9]]\n",
    "matrix=matrix[::-1]\n",
    "print(matrix)\n",
    "for i in range(len(matrix)):\n",
    "    print(i,\"i\")\n",
    "    for j in range(i):\n",
    "        print(j,\"j\")\n",
    "        matrix[i][j],matrix[j][i]=matrix[j][i],matrix[i][j]\n",
    "        print(matrix)\n",
    "        "
   ]
  },
  {
   "cell_type": "code",
   "execution_count": null,
   "metadata": {},
   "outputs": [],
   "source": []
  }
 ],
 "metadata": {
  "kernelspec": {
   "display_name": "Python 3",
   "language": "python",
   "name": "python3"
  },
  "language_info": {
   "codemirror_mode": {
    "name": "ipython",
    "version": 3
   },
   "file_extension": ".py",
   "mimetype": "text/x-python",
   "name": "python",
   "nbconvert_exporter": "python",
   "pygments_lexer": "ipython3",
   "version": "3.6.0"
  }
 },
 "nbformat": 4,
 "nbformat_minor": 2
}
