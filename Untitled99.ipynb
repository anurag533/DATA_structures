{
 "cells": [
  {
   "cell_type": "code",
   "execution_count": 16,
   "metadata": {},
   "outputs": [],
   "source": [
    "s='abc'"
   ]
  },
  {
   "cell_type": "code",
   "execution_count": 22,
   "metadata": {},
   "outputs": [
    {
     "name": "stdout",
     "output_type": "stream",
     "text": [
      "bca\n",
      "cab\n",
      "abc\n",
      "['bca', 'bac', 'cab', 'cba', 'abc', 'acb']\n"
     ]
    }
   ],
   "source": [
    "f=[]\n",
    "x=len(s)-2\n",
    "for i in range(len(s)):\n",
    "    s=s[x:]+s[0]\n",
    "    print(s)\n",
    "    y=s\n",
    "    f.append(s)\n",
    "    m=x-i\n",
    "    y=y[0]+y[2:]+y[1]\n",
    "    f.append(y)\n",
    "print(f)"
   ]
  },
  {
   "cell_type": "code",
   "execution_count": null,
   "metadata": {},
   "outputs": [],
   "source": []
  }
 ],
 "metadata": {
  "kernelspec": {
   "display_name": "Python 3",
   "language": "python",
   "name": "python3"
  },
  "language_info": {
   "codemirror_mode": {
    "name": "ipython",
    "version": 3
   },
   "file_extension": ".py",
   "mimetype": "text/x-python",
   "name": "python",
   "nbconvert_exporter": "python",
   "pygments_lexer": "ipython3",
   "version": "3.6.0"
  }
 },
 "nbformat": 4,
 "nbformat_minor": 2
}
