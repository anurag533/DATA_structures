{
 "cells": [
  {
   "cell_type": "code",
   "execution_count": 1,
   "metadata": {},
   "outputs": [],
   "source": [
    "# n-queens problem\n",
    "class queensproblem:\n",
    "    def __init__(self,numofqueens):\n",
    "        self.numofqueens = numofqueens\n",
    "        self.chessboard=[[None for i in range(numofqueens)] for j in range(numofqueens)]\n",
    "        \n",
    "    def solvequeensproblem(self):\n",
    "        if self.solve(0):\n",
    "            self.printqueen()\n",
    "        else:\n",
    "            print(\"No possible solution\")\n",
    "            \n",
    "    def isplacedvalid(self,rowindex,columnindex):\n",
    "        #same row\n",
    "        for i in range(columnindex):\n",
    "            if self.chessboard[rowindex][i]==1:\n",
    "                return False\n",
    "        #top left to bottom right\n",
    "        j=columnindex\n",
    "        for i in range(rowindex,-1,-1):\n",
    "            \n",
    "            if j<0:\n",
    "                break\n",
    "            \n",
    "            if self.chessboard[i][j]==1:\n",
    "                return False\n",
    "            j=j-1\n",
    "            \n",
    "        #from top right to bottom left\n",
    "        j=columnindex\n",
    "        for i in range(rowindex,len(self.chessboard)):\n",
    "            if j<0:\n",
    "                break\n",
    "            if self.chessboard[i][j]==1:\n",
    "                return False\n",
    "            j=j-1\n",
    "        return True\n",
    "    def solve(self,colindex):\n",
    "        if colindex==self.numofqueens:\n",
    "            return True\n",
    "        for rowindex in range(self.numofqueens):\n",
    "            if self.isplacedvalid(rowindex,colindex):\n",
    "                self.chessboard[rowindex][colindex]=1\n",
    "                if self.solve(colindex+1):\n",
    "                    return True\n",
    "            \n",
    "                self.chessboard[rowindex][colindex]=0\n",
    "        return False\n",
    "           \n",
    "            \n",
    "    def printqueen(self):\n",
    "        for i in range(self.numofqueens):\n",
    "            for j in range(self.numofqueens):\n",
    "                if self.chessboard[i][j]==1:\n",
    "                    print(' * ',end=\"\")\n",
    "                else:\n",
    "                    print(' - ',end=\"\")\n",
    "            print('\\n')"
   ]
  },
  {
   "cell_type": "code",
   "execution_count": 2,
   "metadata": {},
   "outputs": [],
   "source": [
    "q=queensproblem(4)"
   ]
  },
  {
   "cell_type": "code",
   "execution_count": 3,
   "metadata": {},
   "outputs": [
    {
     "name": "stdout",
     "output_type": "stream",
     "text": [
      " -  -  *  - \n",
      "\n",
      " *  -  -  - \n",
      "\n",
      " -  -  -  * \n",
      "\n",
      " -  *  -  - \n",
      "\n"
     ]
    }
   ],
   "source": [
    "q.solvequeensproblem()"
   ]
  },
  {
   "cell_type": "code",
   "execution_count": null,
   "metadata": {},
   "outputs": [],
   "source": []
  },
  {
   "cell_type": "code",
   "execution_count": null,
   "metadata": {},
   "outputs": [],
   "source": []
  }
 ],
 "metadata": {
  "kernelspec": {
   "display_name": "Python 3",
   "language": "python",
   "name": "python3"
  },
  "language_info": {
   "codemirror_mode": {
    "name": "ipython",
    "version": 3
   },
   "file_extension": ".py",
   "mimetype": "text/x-python",
   "name": "python",
   "nbconvert_exporter": "python",
   "pygments_lexer": "ipython3",
   "version": "3.6.0"
  }
 },
 "nbformat": 4,
 "nbformat_minor": 2
}
