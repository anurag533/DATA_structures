{
 "cells": [
  {
   "cell_type": "code",
   "execution_count": 44,
   "metadata": {},
   "outputs": [
    {
     "name": "stdout",
     "output_type": "stream",
     "text": [
      "f\n",
      "l\n"
     ]
    }
   ],
   "source": [
    "a=\"flow\"\n",
    "b=\"f0lope\"\n",
    "x=\"fyllu\"\n",
    "for i in a:\n",
    "    if i in (b and x):\n",
    "        print(i)\n",
    "    else:\n",
    "        break"
   ]
  },
  {
   "cell_type": "code",
   "execution_count": 1,
   "metadata": {},
   "outputs": [
    {
     "name": "stdout",
     "output_type": "stream",
     "text": [
      "f\n",
      "l\n",
      "f\n",
      "f\n",
      "f\n",
      "l\n"
     ]
    }
   ],
   "source": [
    "a=[\"flfw\",\"fou\",\"fle\",\"fli\"]\n",
    "c=0\n",
    "for c in range(len(a)):\n",
    "    x=a[c]\n",
    "   \n",
    "    if (c+1) > len(a)-1:\n",
    "        break\n",
    "    else:\n",
    "        y=a[c+1]\n",
    "        #print(x,y)\n",
    "    for i in x:\n",
    "        #print(x)\n",
    "        if i in ( x and y and a[0] and a[len(a)-1]):\n",
    "            \n",
    "            print(i)\n",
    "        "
   ]
  },
  {
   "cell_type": "code",
   "execution_count": null,
   "metadata": {},
   "outputs": [],
   "source": [
    "#tyr to use backtraking in prefix question"
   ]
  }
 ],
 "metadata": {
  "kernelspec": {
   "display_name": "Python 3",
   "language": "python",
   "name": "python3"
  },
  "language_info": {
   "codemirror_mode": {
    "name": "ipython",
    "version": 3
   },
   "file_extension": ".py",
   "mimetype": "text/x-python",
   "name": "python",
   "nbconvert_exporter": "python",
   "pygments_lexer": "ipython3",
   "version": "3.6.0"
  }
 },
 "nbformat": 4,
 "nbformat_minor": 2
}
