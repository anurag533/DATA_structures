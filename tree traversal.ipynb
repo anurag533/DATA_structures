{
 "cells": [
  {
   "cell_type": "markdown",
   "metadata": {},
   "source": [
    "# tree traversal and implementation "
   ]
  },
  {
   "cell_type": "code",
   "execution_count": 26,
   "metadata": {},
   "outputs": [],
   "source": [
    "class node:\n",
    "    def __init__(self,value):\n",
    "        self.value=value\n",
    "        self.left = None\n",
    "        self.right = None\n",
    "\n",
    "class binarrytree:\n",
    "    def __init__(self,root):\n",
    "        self.root=node(root)\n",
    "        \n",
    "    def print_type(self,traversal_type):\n",
    "        if traversal_type==\"preorder\":\n",
    "            return self.preordertraversal(tree.root,\"\")\n",
    "        elif traversal_type==\"inorder\":\n",
    "            return self.inordertraversal(tree.root,\"\")\n",
    "        elif traversal_type==\"postorder\":\n",
    "            return self.postordertraversal(tree.root,\"\")\n",
    "        \n",
    "    def preordertraversal(self,start,traversal):\n",
    "        if start:\n",
    "            traversal += (str(start.value)+ \"-\")\n",
    "            traversal = self.preordertraversal(start.left,traversal)\n",
    "            traversal = self.preordertraversal(start.right,traversal)\n",
    "        return traversal\n",
    "    \n",
    "    def inordertraversal(self,start,traversal):\n",
    "        if start:\n",
    "            traversal = self.inordertraversal(start.left,traversal)\n",
    "            traversal += (str(start.value)+ \"-\")\n",
    "            traversal = self.inordertraversal(start.right,traversal)\n",
    "        return traversal\n",
    "    \n",
    "    def postordertraversal(self,start,traversal):\n",
    "        if start:\n",
    "            traversal = self.postordertraversal(start.left,traversal)\n",
    "            traversal = self.postordertraversal(start.right,traversal)\n",
    "            traversal += (str(start.value)+\"-\") \n",
    "        return traversal"
   ]
  },
  {
   "cell_type": "code",
   "execution_count": 27,
   "metadata": {},
   "outputs": [],
   "source": [
    "tree=binarrytree(1)\n",
    "tree.root.left=node(2)\n",
    "tree.root.right=node(3)\n",
    "tree.root.left.left= node(4) \n",
    "tree.root.left.right = node(5)\n",
    "tree.root.right.left = node(6)\n",
    "tree.root.right.right = node(7)\n",
    "tree.root.left.left.left = node(8)\n",
    "tree.root.left.left.right= node(9)\n",
    "tree.root.right.right.left = node(10)\n",
    "tree.root.right.right.right = node(11)\n"
   ]
  },
  {
   "cell_type": "code",
   "execution_count": 28,
   "metadata": {},
   "outputs": [
    {
     "data": {
      "text/plain": [
       "'1-2-4-8-9-5-3-6-7-10-11-'"
      ]
     },
     "execution_count": 28,
     "metadata": {},
     "output_type": "execute_result"
    }
   ],
   "source": [
    "tree.print_type(\"preorder\")"
   ]
  },
  {
   "cell_type": "code",
   "execution_count": 29,
   "metadata": {},
   "outputs": [
    {
     "data": {
      "text/plain": [
       "'8-4-9-2-5-1-6-3-10-7-11-'"
      ]
     },
     "execution_count": 29,
     "metadata": {},
     "output_type": "execute_result"
    }
   ],
   "source": [
    "tree.print_type(\"inorder\")"
   ]
  },
  {
   "cell_type": "code",
   "execution_count": 30,
   "metadata": {},
   "outputs": [
    {
     "data": {
      "text/plain": [
       "'8-9-4-5-2-6-10-11-7-3-1-'"
      ]
     },
     "execution_count": 30,
     "metadata": {},
     "output_type": "execute_result"
    }
   ],
   "source": [
    "tree.print_type(\"postorder\")"
   ]
  },
  {
   "cell_type": "markdown",
   "metadata": {},
   "source": [
    "# Line order traversal"
   ]
  },
  {
   "cell_type": "code",
   "execution_count": 1,
   "metadata": {},
   "outputs": [
    {
     "ename": "SyntaxError",
     "evalue": "unexpected EOF while parsing (<ipython-input-1-37e8a5194d9b>, line 66)",
     "output_type": "error",
     "traceback": [
      "\u001b[1;36m  File \u001b[1;32m\"<ipython-input-1-37e8a5194d9b>\"\u001b[1;36m, line \u001b[1;32m66\u001b[0m\n\u001b[1;33m    \u001b[0m\n\u001b[1;37m    ^\u001b[0m\n\u001b[1;31mSyntaxError\u001b[0m\u001b[1;31m:\u001b[0m unexpected EOF while parsing\n"
     ]
    }
   ],
   "source": [
    "class queue:\n",
    "    def __init__(self):\n",
    "        self.item=[]\n",
    "    \n",
    "    def enque(self,value):\n",
    "        self.item.insert(0,value)\n",
    "        \n",
    "    def deque(self):\n",
    "        if not self.is_empty(self):\n",
    "            return self.item.pop()\n",
    "        \n",
    "    def is_empty(self):\n",
    "        return len(self.item)==0\n",
    "    \n",
    "    def peek(self):\n",
    "        if not self.is_empty:\n",
    "            return self.item[-1].value\n",
    "        \n",
    "class node:\n",
    "    def __init__(self,value):\n",
    "        self.value = value\n",
    "        self.left = None\n",
    "        self.right = None\n",
    "\n",
    "class binarrytree:\n",
    "    def __init__(self,root):\n",
    "        self.root=node(root)\n",
    "        \n",
    "    def print_type(self,traversal_type):\n",
    "        if traversal_type==\"preorder\":\n",
    "            return self.preordertraversal(tree.root,\"\")\n",
    "        elif traversal_type==\"inorder\":\n",
    "            return self.inordertraversal(tree.root,\"\")\n",
    "        elif traversal_type==\"postorder\":\n",
    "            return self.postordertraversal(tree.root,\"\")\n",
    "        \n",
    "    def preordertraversal(self,start,traversal):\n",
    "        if start:\n",
    "            traversal += (str(start.value)+ \"-\")\n",
    "            traversal = self.preordertraversal(start.left,traversal)\n",
    "            traversal = self.preordertraversal(start.right,traversal)\n",
    "        return traversal\n",
    "    \n",
    "    def inordertraversal(self,start,traversal):\n",
    "        if start:\n",
    "            traversal = self.inordertraversal(start.left,traversal)\n",
    "            traversal += (str(start.value)+ \"-\")\n",
    "            traversal = self.inordertraversal(start.right,traversal)\n",
    "        return traversal\n",
    "    \n",
    "    def postordertraversal(self,start,traversal):\n",
    "        if start:\n",
    "            traversal = self.postordertraversal(start.left,traversal)\n",
    "            traversal = self.postordertraversal(start.right,traversal)\n",
    "            traversal += (str(start.value)+ \" - \") \n",
    "        return traversal\n",
    "    \n",
    "    def levelorder_traversal(self,start):\n",
    "        "
   ]
  },
  {
   "cell_type": "code",
   "execution_count": 4,
   "metadata": {},
   "outputs": [],
   "source": [
    "class Queue:\n",
    "    def __init__(self):\n",
    "        self.item = []\n",
    "        \n",
    "    def enqueue(self,value):\n",
    "        self.item.insert(0,value)\n",
    "    \n",
    "    def dequeue(self):\n",
    "        if not self.is_empty:\n",
    "            return self.item.pop()\n",
    "    \n",
    "    def is_empty(self):\n",
    "        return len(self.item)==0\n",
    "    \n",
    "    def peek(self):\n",
    "        if not self.is_empty_empty:\n",
    "            return self.item[-1].value\n",
    "        \n",
    "    def size(self):\n",
    "        return len(self.item)\n",
    "    \n",
    "    def __len__(self):\n",
    "        return self.size\n",
    "    \n",
    "class node:\n",
    "    def __init__(self,value):\n",
    "        self.value = value\n",
    "        self.left = None\n",
    "        self.right = None\n",
    "        \n",
    "class binary_tree:\n",
    "    def __init__(self,root):\n",
    "        self.root = node(root)"
   ]
  },
  {
   "cell_type": "code",
   "execution_count": null,
   "metadata": {},
   "outputs": [],
   "source": []
  },
  {
   "cell_type": "code",
   "execution_count": null,
   "metadata": {},
   "outputs": [],
   "source": []
  },
  {
   "cell_type": "code",
   "execution_count": null,
   "metadata": {},
   "outputs": [],
   "source": []
  },
  {
   "cell_type": "code",
   "execution_count": null,
   "metadata": {},
   "outputs": [],
   "source": []
  },
  {
   "cell_type": "code",
   "execution_count": null,
   "metadata": {},
   "outputs": [],
   "source": []
  },
  {
   "cell_type": "code",
   "execution_count": null,
   "metadata": {},
   "outputs": [],
   "source": []
  }
 ],
 "metadata": {
  "kernelspec": {
   "display_name": "Python 3",
   "language": "python",
   "name": "python3"
  },
  "language_info": {
   "codemirror_mode": {
    "name": "ipython",
    "version": 3
   },
   "file_extension": ".py",
   "mimetype": "text/x-python",
   "name": "python",
   "nbconvert_exporter": "python",
   "pygments_lexer": "ipython3",
   "version": "3.6.0"
  }
 },
 "nbformat": 4,
 "nbformat_minor": 2
}
