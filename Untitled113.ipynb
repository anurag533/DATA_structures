{
 "cells": [
  {
   "cell_type": "code",
   "execution_count": 14,
   "metadata": {},
   "outputs": [],
   "source": [
    "class queue:\n",
    "    def __init__(self):\n",
    "        self.item = []\n",
    "    \n",
    "    def enqueue(self,item):\n",
    "        self.item.append(item)\n",
    "    \n",
    "    def dequeue(self):\n",
    "        if not self.is_empty():\n",
    "            return self.item.pop(0)\n",
    "        \n",
    "    def is_empty(self):\n",
    "        return len(self.item) == 0\n",
    "    \n",
    "    def peek(self):\n",
    "        if not self.is_empty():\n",
    "            return self.item[-1].value\n",
    "    \n",
    "    def size(self):\n",
    "        return len(self.item)\n",
    "    \n",
    "    def __len__(self):\n",
    "        return self.size()\n",
    "    \n",
    "class node:\n",
    "    def __init__(self,value):\n",
    "        self.value = value\n",
    "        self.left  = None\n",
    "        self.right = None\n",
    "            \n",
    "class binarytree:\n",
    "    def __init__(self,root):\n",
    "        self.root = node(root)\n",
    "        \n",
    "    def print_traversal(self,traversal_type):\n",
    "        if traversal_type==\"preorder\":\n",
    "            return self.preorder_traversal(tree.root,\"\")\n",
    "        elif traversal_type==\"levelorder\":\n",
    "            return self.levelorder_traversal(tree.root)\n",
    "    def preorder_traversal(self,start,traversal):\n",
    "#       root -> left -> Right\n",
    "#       1->2->4->5->3->6->7\n",
    "        if start:\n",
    "            traversal += (str(start.value)+\"->\")\n",
    "            traversal = self.preorder_traversal(start.left,traversal)\n",
    "            traversal = self.preorder_traversal(start.right,traversal)\n",
    "        return traversal\n",
    "    \n",
    "    def levelorder_traversal(self,start):\n",
    "        if start is None:\n",
    "            return\n",
    "        q=queue()\n",
    "        q.enqueue(start)\n",
    "        traversal = \"\"\n",
    "        while len(q)>0:\n",
    "            \n",
    "            traversal += (str(q.peek())+\"-\")\n",
    "            node = q.dequeue()\n",
    "            print(node)\n",
    "            if node.left:\n",
    "                q.enqueue(node.left)\n",
    "            if node.right:\n",
    "                q.enqueue(node.right)\n",
    "        return traversal\n",
    "            \n",
    "tree = binarytree(1) \n",
    "tree.root.left = node(2)\n",
    "tree.root.right = node(3)\n",
    "tree.root.left.left = node(4)\n",
    "tree.root.left.right = node(5)\n",
    "tree.root.right.left = node(6)\n",
    "tree.root.right.right = node(7)\n"
   ]
  },
  {
   "cell_type": "code",
   "execution_count": 15,
   "metadata": {},
   "outputs": [
    {
     "name": "stdout",
     "output_type": "stream",
     "text": [
      "<__main__.node object at 0x014116F0>\n",
      "<__main__.node object at 0x01411610>\n",
      "<__main__.node object at 0x014116D0>\n",
      "<__main__.node object at 0x014117D0>\n",
      "<__main__.node object at 0x01411770>\n",
      "<__main__.node object at 0x01411790>\n",
      "<__main__.node object at 0x014117F0>\n"
     ]
    },
    {
     "data": {
      "text/plain": [
       "'1-3-5-7-7-7-7-'"
      ]
     },
     "execution_count": 15,
     "metadata": {},
     "output_type": "execute_result"
    }
   ],
   "source": [
    "tree.print_traversal(\"levelorder\")\n"
   ]
  },
  {
   "cell_type": "code",
   "execution_count": 16,
   "metadata": {},
   "outputs": [
    {
     "name": "stdout",
     "output_type": "stream",
     "text": [
      "492848784\n"
     ]
    }
   ],
   "source": [
    "print(id(1))"
   ]
  },
  {
   "cell_type": "code",
   "execution_count": null,
   "metadata": {},
   "outputs": [],
   "source": []
  }
 ],
 "metadata": {
  "kernelspec": {
   "display_name": "Python 3",
   "language": "python",
   "name": "python3"
  },
  "language_info": {
   "codemirror_mode": {
    "name": "ipython",
    "version": 3
   },
   "file_extension": ".py",
   "mimetype": "text/x-python",
   "name": "python",
   "nbconvert_exporter": "python",
   "pygments_lexer": "ipython3",
   "version": "3.6.0"
  }
 },
 "nbformat": 4,
 "nbformat_minor": 2
}
