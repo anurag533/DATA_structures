{
 "cells": [
  {
   "cell_type": "code",
   "execution_count": 57,
   "metadata": {},
   "outputs": [
    {
     "name": "stdout",
     "output_type": "stream",
     "text": [
      "3 1\n",
      "4 2\n",
      "5 3\n",
      "6 1\n",
      "0 2\n",
      "1 3\n",
      "2 1\n"
     ]
    }
   ],
   "source": [
    "n=[1,2,3,4,5,6,7]\n",
    "k=3\n",
    "x=k%len(n)\n",
    "for i in range(len(n)):\n",
    "    t=i+x\n",
    "    \n",
    "    if t == len(n) or t > len(n):\n",
    "        t=abs(t-len(n))\n",
    "        n[t]=n[i]\n",
    "        print(t,n[t])\n",
    "        continue\n",
    "    else:\n",
    "        n[t]=n[i]\n",
    "        print(t,n[t])"
   ]
  },
  {
   "cell_type": "code",
   "execution_count": 32,
   "metadata": {},
   "outputs": [
    {
     "name": "stdout",
     "output_type": "stream",
     "text": [
      "3\n"
     ]
    }
   ],
   "source": [
    "print(x)"
   ]
  },
  {
   "cell_type": "code",
   "execution_count": null,
   "metadata": {},
   "outputs": [],
   "source": [
    "x=k%len(n)\n",
    "for i in range(x):\n",
    "    y=n.pop()\n",
    "    n.insert(0,y)"
   ]
  },
  {
   "cell_type": "code",
   "execution_count": null,
   "metadata": {},
   "outputs": [],
   "source": [
    "  x=len(nums)\n",
    "        if x<k:\n",
    "        \n",
    "            c=abs(x-k)\n",
    "            for i in range(c):\n",
    "                y=nums.pop()\n",
    "                nums.insert(0,y)\n",
    "            return nums\n",
    "        else:\n",
    "            for i in range(k):\n",
    "                y=nums.pop()\n",
    "                nums.insert(0,y)\n",
    "            return nums\n",
    "            \n",
    "        "
   ]
  },
  {
   "cell_type": "code",
   "execution_count": null,
   "metadata": {},
   "outputs": [],
   "source": []
  },
  {
   "cell_type": "code",
   "execution_count": null,
   "metadata": {},
   "outputs": [],
   "source": [
    "n=[1,2,3,4,5,6,7]\n",
    "x=k%len(n)\n",
    "for i in range(len(n)):\n",
    "    \n",
    "    "
   ]
  }
 ],
 "metadata": {
  "kernelspec": {
   "display_name": "Python 3",
   "language": "python",
   "name": "python3"
  },
  "language_info": {
   "codemirror_mode": {
    "name": "ipython",
    "version": 3
   },
   "file_extension": ".py",
   "mimetype": "text/x-python",
   "name": "python",
   "nbconvert_exporter": "python",
   "pygments_lexer": "ipython3",
   "version": "3.6.0"
  }
 },
 "nbformat": 4,
 "nbformat_minor": 2
}
