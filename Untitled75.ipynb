{
 "cells": [
  {
   "cell_type": "code",
   "execution_count": 2,
   "metadata": {},
   "outputs": [],
   "source": [
    "class Node:\n",
    "    def __init__(self,data):\n",
    "        self.data = data\n",
    "        self.next = None\n",
    "        \n",
    "class linked_list:\n",
    "    def __init__(self):\n",
    "        self.head = None\n",
    "        \n",
    "    def append(self,data):\n",
    "        newnode = Node(data)\n",
    "        if self.head is None:\n",
    "            self.head = newnode\n",
    "            return\n",
    "        lastnode = self.head\n",
    "        while lastnode.next:\n",
    "            lastnode = lastnode.next\n",
    "        lastnode.next = newnode\n",
    "      \n",
    "        \n",
    "    def printlist(self):\n",
    "        currentnode = self.head\n",
    "        while currentnode:\n",
    "            print(currentnode.data)\n",
    "            currentnode = currentnode.next\n",
    "            \n",
    "    def insert(self,position,data):\n",
    "        newnode = Node(data)\n",
    "        if position == 0:\n",
    "            newnode.next = self.head \n",
    "            self.head = newnode\n",
    "            return\n",
    "        \n",
    "        if not position:\n",
    "            print(\"enter correct value\")\n",
    "            return\n",
    "        \n",
    "        currentnode = self.head\n",
    "        prev = None\n",
    "        \n",
    "        while currentnode and position:\n",
    "            prev = currentnode\n",
    "            currentnode = currentnode.next\n",
    "            position -= 1\n",
    "        \n",
    "        if position>0 or position<0:\n",
    "            return print(\"Enter a valid value\")\n",
    "        \n",
    "        newnode.next = current.next\n",
    "        prev.next = newnode\n",
    "        \n",
    "    def prepend(self,data):\n",
    "        newnode = Node(data)\n",
    "        newnode.next = self.head\n",
    "        self.head= newnode\n",
    "        return\n",
    "    \n",
    "    def delete(self,key):\n",
    "        currentnode = self.head\n",
    "        if currentnode and currentnode.data == key:\n",
    "            currentnode.next = self.head\n",
    "            currentnode = None\n",
    "            return\n",
    "        prev = None\n",
    "        while currentnode and currentnode.data != key:\n",
    "            prev = currentnode\n",
    "            currentnode =  currentnode.next\n",
    "        if currentnode is None:\n",
    "            print(\"key not found\")\n",
    "            return\n",
    "        prev.next = currentnode.next\n",
    "        currentnode = None\n",
    "            \n",
    "    def delete(self,post):\n",
    "        try:\n",
    "            currentnode = self.head\n",
    "            if post == 0:\n",
    "                self.head = currentnode.next\n",
    "                currentnode = None\n",
    "                return\n",
    "\n",
    "            prev = None\n",
    "            count = 1\n",
    "            while currentnode and count != post:\n",
    "                prev =currentnode\n",
    "                currentnode = currentnode.next\n",
    "                count +=1\n",
    "\n",
    "            \n",
    "            prev.next = currentnode.next\n",
    "            currentnode = None\n",
    "        except:\n",
    "            if currentnode is None:\n",
    "                return\n",
    "\n",
    "    def __len__(self):\n",
    "        currentnode = self.head\n",
    "        count =  0\n",
    "        while currentnode:\n",
    "            count += 1\n",
    "            currentnode = currentnode.next\n",
    "        \n",
    "        return count\n",
    "    \n",
    "    def lenrec(self,node):\n",
    "        if node is None:\n",
    "            return 0\n",
    "        return 1 + self.lenrec(node.next)\n",
    "    \n",
    "    def swap(self,key_1,key_2):\n",
    "        if key_1 == key_2:\n",
    "            return\n",
    "        \n",
    "        prev1=None\n",
    "        currentnode1 = self.head\n",
    "        while currentnode1 and currentnode1.data != key_1:\n",
    "            prev1=currentnode1\n",
    "            currentnode1 = currentnode1.next\n",
    "        \n",
    "        prev2 = None\n",
    "        currentnode2 = self.head\n",
    "        while currentnode2 and currentnode2.data != key_2:\n",
    "            prev2 = currentnode2\n",
    "            currentnode2 = currentnode2.next\n",
    "            \n",
    "        if not currentnode1 and not currentnode2:\n",
    "            return\n",
    "        \n",
    "        if prev1:\n",
    "            prev1.next = currentnode2\n",
    "        else:\n",
    "            self.head = currentnode2\n",
    "            \n",
    "        if prev2:\n",
    "            prev2.next = currentnode1\n",
    "            \n",
    "        else:\n",
    "            self.head = currentnode1\n",
    "            \n",
    "        currentnode1.next,currentnode2.next = currentnode2.next,currentnode1.next"
   ]
  },
  {
   "cell_type": "code",
   "execution_count": 3,
   "metadata": {},
   "outputs": [],
   "source": [
    "k=linked_list()"
   ]
  },
  {
   "cell_type": "code",
   "execution_count": 4,
   "metadata": {},
   "outputs": [],
   "source": [
    "k.append(0)"
   ]
  },
  {
   "cell_type": "code",
   "execution_count": 5,
   "metadata": {},
   "outputs": [
    {
     "name": "stdout",
     "output_type": "stream",
     "text": [
      "0\n"
     ]
    }
   ],
   "source": [
    "k.printlist()"
   ]
  },
  {
   "cell_type": "code",
   "execution_count": 6,
   "metadata": {},
   "outputs": [
    {
     "name": "stdout",
     "output_type": "stream",
     "text": [
      "Enter a valid value\n"
     ]
    }
   ],
   "source": [
    "k.insert(-2,3)"
   ]
  },
  {
   "cell_type": "code",
   "execution_count": 11,
   "metadata": {},
   "outputs": [],
   "source": [
    "k.prepend(4)"
   ]
  },
  {
   "cell_type": "code",
   "execution_count": 16,
   "metadata": {},
   "outputs": [
    {
     "name": "stdout",
     "output_type": "stream",
     "text": [
      "4\n",
      "2\n",
      "4\n",
      "0\n"
     ]
    }
   ],
   "source": [
    "k.printlist()"
   ]
  },
  {
   "cell_type": "code",
   "execution_count": 15,
   "metadata": {},
   "outputs": [],
   "source": [
    "k.swap(2,4)"
   ]
  },
  {
   "cell_type": "code",
   "execution_count": 7,
   "metadata": {},
   "outputs": [
    {
     "ename": "SyntaxError",
     "evalue": "invalid syntax (<ipython-input-7-c8fab52c419f>, line 11)",
     "output_type": "error",
     "traceback": [
      "\u001b[1;36m  File \u001b[1;32m\"<ipython-input-7-c8fab52c419f>\"\u001b[1;36m, line \u001b[1;32m11\u001b[0m\n\u001b[1;33m    subprocess.check_call([python -m pip install *missing], stdout=subprocess.DEVNULL)\u001b[0m\n\u001b[1;37m                                       ^\u001b[0m\n\u001b[1;31mSyntaxError\u001b[0m\u001b[1;31m:\u001b[0m invalid syntax\n"
     ]
    }
   ],
   "source": [
    "import sys\n",
    "import subprocess\n",
    "import pkg_resources\n",
    "\n",
    "required = {'paramiko'}\n",
    "installed = {pkg.key for pkg in pkg_resources.working_set}\n",
    "missing = required - installed\n",
    "\n",
    "if missing:\n",
    "    python = sys.executable\n",
    "    subprocess.check_call([python -m pip install *missing], stdout=subprocess.DEVNULL)"
   ]
  },
  {
   "cell_type": "code",
   "execution_count": null,
   "metadata": {},
   "outputs": [],
   "source": []
  }
 ],
 "metadata": {
  "kernelspec": {
   "display_name": "Python 3",
   "language": "python",
   "name": "python3"
  },
  "language_info": {
   "codemirror_mode": {
    "name": "ipython",
    "version": 3
   },
   "file_extension": ".py",
   "mimetype": "text/x-python",
   "name": "python",
   "nbconvert_exporter": "python",
   "pygments_lexer": "ipython3",
   "version": "3.6.0"
  }
 },
 "nbformat": 4,
 "nbformat_minor": 2
}
