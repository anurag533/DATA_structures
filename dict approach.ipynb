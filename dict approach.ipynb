{
 "cells": [
  {
   "cell_type": "code",
   "execution_count": 26,
   "metadata": {},
   "outputs": [],
   "source": [
    "def f1(n):\n",
    "    if n==8:\n",
    "        print(n)\n",
    "        return\n",
    "    else:\n",
    "        return f1(n+1)\n",
    "        print(n)"
   ]
  },
  {
   "cell_type": "code",
   "execution_count": 27,
   "metadata": {},
   "outputs": [
    {
     "name": "stdout",
     "output_type": "stream",
     "text": [
      "8\n"
     ]
    }
   ],
   "source": [
    "f1(0)"
   ]
  },
  {
   "cell_type": "code",
   "execution_count": 44,
   "metadata": {},
   "outputs": [],
   "source": [
    "def f1(n):\n",
    "    if n==8:\n",
    "        return\n",
    "    print(\" \"* \"*\"*2*(n+1))\n",
    "    f1(n+1)\n",
    "    print(\"*\"*2*(n-1))"
   ]
  },
  {
   "cell_type": "code",
   "execution_count": 61,
   "metadata": {},
   "outputs": [
    {
     "name": "stdout",
     "output_type": "stream",
     "text": [
      "[3, 1, 2]\n"
     ]
    }
   ],
   "source": [
    "nums=[1,2,3]\n",
    "x=len(nums)\n",
    "k=4\n",
    "c=abs(x-k)\n",
    "for i in range(c):\n",
    "    y=nums.pop()\n",
    "    nums.insert(0,y)\n",
    "print(nums)\n",
    "    "
   ]
  },
  {
   "cell_type": "code",
   "execution_count": 70,
   "metadata": {},
   "outputs": [
    {
     "name": "stdout",
     "output_type": "stream",
     "text": [
      "0\n",
      "1\n",
      "2\n",
      "3\n",
      "4\n",
      "5\n",
      "{0: -3, 1: -2, 2: -1, 3: 0, 4: 1, 5: 2}\n"
     ]
    }
   ],
   "source": [
    "n=[1,2,3,4,5,6]\n",
    "d={}\n",
    "k=3\n",
    "for i in range(len(n)):\n",
    "    print(i)\n",
    "    if n[i] in d:\n",
    "        print(n[i])\n",
    "        break\n",
    "    else:\n",
    "        d[i]=i-3\n",
    "\n",
    "print(d)"
   ]
  },
  {
   "cell_type": "code",
   "execution_count": 101,
   "metadata": {},
   "outputs": [
    {
     "name": "stdout",
     "output_type": "stream",
     "text": [
      "[3]\n",
      "[3, 4]\n",
      "[3, 4, 5]\n",
      "[3, 4, 5, 0]\n",
      "[3, 4, 5, 0, 1]\n",
      "[3, 4, 5, 0, 1, 2]\n"
     ]
    }
   ],
   "source": [
    "m={0: -3, 1: -2, 2: -1, 3: 0, 4: 1, 5: 2}\n",
    "n=[0,1,2,3,4,5]\n",
    "y=[]\n",
    "for i in m.values():\n",
    "    x=n[i]\n",
    "    y.append(x)\n",
    "    print(y)"
   ]
  },
  {
   "cell_type": "code",
   "execution_count": 98,
   "metadata": {},
   "outputs": [
    {
     "name": "stdout",
     "output_type": "stream",
     "text": [
      "2\n"
     ]
    }
   ],
   "source": [
    "print(x)"
   ]
  },
  {
   "cell_type": "code",
   "execution_count": 110,
   "metadata": {},
   "outputs": [
    {
     "name": "stdout",
     "output_type": "stream",
     "text": [
      "[5]\n",
      "[5, 6]\n",
      "[5, 6, 7]\n",
      "[5, 6, 7, 1]\n",
      "[5, 6, 7, 1, 2]\n",
      "[5, 6, 7, 1, 2, 3]\n",
      "[5, 6, 7, 1, 2, 3, 4]\n"
     ]
    }
   ],
   "source": [
    "nums=[1,2,3,4,5,6,7]\n",
    "d={}\n",
    "y=[]\n",
    "k=3\n",
    "for i in range(len(nums)):\n",
    "    \n",
    "    if nums[i] in d:\n",
    "        break\n",
    "    else:\n",
    "        d[i]=i-3\n",
    "\n",
    "for i in d.values():\n",
    "    x=nums[i]\n",
    "    y.append(x)\n",
    "    print(y)"
   ]
  },
  {
   "cell_type": "code",
   "execution_count": 131,
   "metadata": {},
   "outputs": [
    {
     "name": "stdout",
     "output_type": "stream",
     "text": [
      "-3 0\n",
      "5\n",
      "-2 1\n",
      "6\n",
      "-1 2\n",
      "7\n",
      "[5, 6, 7, 4, 5, 6, 7]\n"
     ]
    }
   ],
   "source": [
    "n=[1,2,3,4,5,6,7]\n",
    "k=3\n",
    "for i in range(k):\n",
    "    j=i\n",
    "    \n",
    "    i=0\n",
    "    i=j-k\n",
    "   \n",
    "    print(i,j)\n",
    "    n[j]=n[i]\n",
    "    print(n[j])\n",
    "        \n",
    "print(n)"
   ]
  },
  {
   "cell_type": "code",
   "execution_count": 128,
   "metadata": {},
   "outputs": [
    {
     "name": "stdout",
     "output_type": "stream",
     "text": [
      "4\n",
      "3\n",
      "3\n",
      "4\n",
      "7\n",
      "6\n",
      "7\n"
     ]
    }
   ],
   "source": [
    "n=[1,2,3,4,5,6,7]\n",
    "k=3\n",
    "for i in range(len(n)):\n",
    "    \n",
    "    j=i\n",
    "    i=0\n",
    "    i=k-j\n",
    "    n[j]=n[i]\n",
    "    print(n[j])"
   ]
  },
  {
   "cell_type": "code",
   "execution_count": 134,
   "metadata": {
    "scrolled": true
   },
   "outputs": [
    {
     "name": "stdout",
     "output_type": "stream",
     "text": [
      "-3 0\n",
      "5\n",
      "-2 1\n",
      "6\n",
      "-1 2\n",
      "7\n",
      "[5, 6, 7, 4, 5, 6, 7]\n"
     ]
    }
   ],
   "source": [
    "n=[1,2,3,4,5,6,7]\n",
    "k=3\n",
    "for i in range(k):\n",
    "    j=i\n",
    "    \n",
    "    i=0\n",
    "    i=j-k\n",
    "   \n",
    "    print(i,j)\n",
    "    n[j]=n[i]\n",
    "    print(n[j])\n",
    "        \n",
    "print(n)"
   ]
  },
  {
   "cell_type": "code",
   "execution_count": 220,
   "metadata": {},
   "outputs": [
    {
     "name": "stdout",
     "output_type": "stream",
     "text": [
      "4 1\n",
      "5 2\n",
      "6 3\n",
      "7 4\n",
      "8 5\n",
      "0 1\n",
      "9 6\n",
      "1 2\n",
      "10 7\n",
      "2 3\n"
     ]
    }
   ],
   "source": [
    "n=[1,2,3,4,5,6,7]\n",
    "k=4\n",
    "for i in range(len(n)):\n",
    " \n",
    "    if i<k+(k-1):\n",
    "        print(i+k,n[i])\n",
    "    if i>k-1:\n",
    "        i=i-k\n",
    "        print(i,n[i])\n",
    "    \n",
    "    "
   ]
  },
  {
   "cell_type": "code",
   "execution_count": 210,
   "metadata": {},
   "outputs": [
    {
     "name": "stdout",
     "output_type": "stream",
     "text": [
      "-1 1\n",
      "0 2\n",
      "1 3\n",
      "2 4\n",
      "3 5\n",
      "4 6\n",
      "5 7\n",
      "6 8\n",
      "7 9\n"
     ]
    }
   ],
   "source": [
    "n=[1,2,3,4,5,6,7,8,9]\n",
    "k=8\n",
    "g=k//len(n)\n",
    "for i in range(len(n)):\n",
    "    print(i+g-1,n[i])\n",
    "        "
   ]
  },
  {
   "cell_type": "code",
   "execution_count": null,
   "metadata": {},
   "outputs": [],
   "source": [
    "n=[1,2,3,4,5,6,7,8,9]\n",
    "k=10\n",
    "print(len(n))\n",
    "if len(n)<k:\n",
    "    while x<len(n):\n",
    "        if x<len(n):\n",
    "            print(x)\n",
    "            break\n",
    "        x=k//len(n)\n",
    "    print(\"K\")"
   ]
  },
  {
   "cell_type": "code",
   "execution_count": null,
   "metadata": {},
   "outputs": [],
   "source": [
    "n=[1,2,3,4,5,6,7,8,9]\n",
    "k=10\n",
    "print(len(n))\n",
    "if len(n)<k:\n",
    "    while x<len(n):\n",
    "        if x<len(n):\n",
    "            print(x)\n",
    "            break\n",
    "        x=k//len(n)\n",
    "    print(\"K\")"
   ]
  },
  {
   "cell_type": "code",
   "execution_count": null,
   "metadata": {},
   "outputs": [],
   "source": []
  }
 ],
 "metadata": {
  "kernelspec": {
   "display_name": "Python 3",
   "language": "python",
   "name": "python3"
  },
  "language_info": {
   "codemirror_mode": {
    "name": "ipython",
    "version": 3
   },
   "file_extension": ".py",
   "mimetype": "text/x-python",
   "name": "python",
   "nbconvert_exporter": "python",
   "pygments_lexer": "ipython3",
   "version": "3.6.0"
  }
 },
 "nbformat": 4,
 "nbformat_minor": 2
}
