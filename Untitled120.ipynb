{
 "cells": [
  {
   "cell_type": "markdown",
   "metadata": {},
   "source": [
    "# height of the tree and reverse traversal"
   ]
  },
  {
   "cell_type": "code",
   "execution_count": 11,
   "metadata": {},
   "outputs": [],
   "source": [
    "class queue:\n",
    "    def __init__(self):\n",
    "        self.items = []\n",
    "    \n",
    "    def enqueue(self,item):\n",
    "        self.items.insert(0,item)\n",
    "        \n",
    "    def dequeue(self):\n",
    "        if not self.is_empty():\n",
    "            return self.items.pop()\n",
    "    \n",
    "    def is_empty(self):\n",
    "        return len(self.items)==0\n",
    "    \n",
    "    def __len__(self):\n",
    "        return self.size()\n",
    "    \n",
    "    def size(self):\n",
    "        return len(self.items)\n",
    "    \n",
    "    def peek(self):\n",
    "        if not self.is_empty():\n",
    "            return self.items[-1].item\n",
    "        \n",
    "class stack:\n",
    "    def __init__(self):\n",
    "        self.items = []\n",
    "        \n",
    "    def push(self,item):\n",
    "        self.items.append(item)\n",
    "        \n",
    "    def pop(self):\n",
    "        if not self.is_empty():\n",
    "            return self.items.pop()\n",
    "    \n",
    "    def is_empty(self):\n",
    "        return len(self.items)==0\n",
    "    \n",
    "    def peek(self):\n",
    "        if not self.is_empty():\n",
    "            return self.items[-1]\n",
    "        \n",
    "    def size(self):\n",
    "        return len(self.items)\n",
    "    \n",
    "    def __len__(self):\n",
    "        return self.size()\n",
    "    \n",
    "class node:\n",
    "    def __init__(self,item):\n",
    "        self.item  = item\n",
    "        self.left  = None\n",
    "        self.right = None\n",
    "        \n",
    "class binarytree:\n",
    "    def __init__(self,root):\n",
    "        self.root = node(root)\n",
    "        \n",
    "    def print_traversal(self,traversal_type):\n",
    "        if traversal_type==\"levelorder\":\n",
    "            return self.levelorder(tree.root)\n",
    "        elif traversal_type==\"RLO\":\n",
    "            return self.reverse_level_order(tree.root)\n",
    "        \n",
    "    def levelorder(self,start):\n",
    "        if start is None:\n",
    "            return\n",
    "        q=queue()\n",
    "        q.enqueue(start)\n",
    "        traversal=\"\"\n",
    "        while len(q)>0:\n",
    "            traversal += str(q.peek())+\"-\"\n",
    "            node = q.dequeue()\n",
    "            if node.left:\n",
    "                q.enqueue(node.left)\n",
    "            if node.right:\n",
    "                q.enqueue(node.right)\n",
    "        return traversal\n",
    "    \n",
    "    def reverse_level_order(self,start):\n",
    "        if start is None:\n",
    "            return\n",
    "        q=queue()\n",
    "        s=stack()\n",
    "        q.enqueue(start)\n",
    "        traversal = \"\"\n",
    "        \n",
    "        while len(q)>0:\n",
    "            node = q.dequeue()\n",
    "            s.push(node)\n",
    "            if node.right:\n",
    "                q.enqueue(node.right)\n",
    "            if node.left:\n",
    "                q.enqueue(node.left)\n",
    "        \n",
    "        while len(s)>0:\n",
    "            node = s.pop()\n",
    "            traversal += str(node.item)+\"-\"\n",
    "            \n",
    "        return traversal\n",
    "    \n",
    "    def height(self,node):\n",
    "        if node is None:\n",
    "            return -1\n",
    "        left=self.height(node.left)\n",
    "        right=self.height(node.right)\n",
    "        \n",
    "        return 1 + max(left,right)\n",
    "    \n",
    "    def size2(self,node):\n",
    "        if node is None:\n",
    "            return\n",
    "        return 1 + self.size(node.left) + self.size(node.right)\n",
    "    \n",
    "    def size(self):\n",
    "        if self.root is None:\n",
    "            return 0\n",
    "        s=stack()\n",
    "        s.push(self.root)\n",
    "        sizey = 1\n",
    "        while stack:\n",
    "            node = s.pop()\n",
    "            if node.left:\n",
    "                sizey += 1\n",
    "                s.push(node.left)\n",
    "            if node.right:\n",
    "                sizey += 1\n",
    "                s.push(node.right)\n",
    "        return sizey"
   ]
  },
  {
   "cell_type": "code",
   "execution_count": 12,
   "metadata": {},
   "outputs": [],
   "source": [
    "tree=binarytree(1)\n",
    "tree.root.right=node(3)\n",
    "tree.root.left=node(2)\n"
   ]
  },
  {
   "cell_type": "code",
   "execution_count": 13,
   "metadata": {},
   "outputs": [
    {
     "data": {
      "text/plain": [
       "'2-3-1-'"
      ]
     },
     "execution_count": 13,
     "metadata": {},
     "output_type": "execute_result"
    }
   ],
   "source": [
    "tree.print_traversal(\"RLO\")"
   ]
  },
  {
   "cell_type": "code",
   "execution_count": 14,
   "metadata": {},
   "outputs": [
    {
     "name": "stdout",
     "output_type": "stream",
     "text": [
      "1\n"
     ]
    }
   ],
   "source": [
    "print(tree.height(tree.root))"
   ]
  },
  {
   "cell_type": "code",
   "execution_count": 26,
   "metadata": {},
   "outputs": [
    {
     "ename": "TypeError",
     "evalue": "size() takes 1 positional argument but 2 were given",
     "output_type": "error",
     "traceback": [
      "\u001b[1;31m---------------------------------------------------------------------------\u001b[0m",
      "\u001b[1;31mTypeError\u001b[0m                                 Traceback (most recent call last)",
      "\u001b[1;32m<ipython-input-26-d4c9691df951>\u001b[0m in \u001b[0;36m<module>\u001b[1;34m\u001b[0m\n\u001b[1;32m----> 1\u001b[1;33m \u001b[0mtree\u001b[0m\u001b[1;33m.\u001b[0m\u001b[0msize2\u001b[0m\u001b[1;33m(\u001b[0m\u001b[0mtree\u001b[0m\u001b[1;33m.\u001b[0m\u001b[0mroot\u001b[0m\u001b[1;33m)\u001b[0m\u001b[1;33m\u001b[0m\u001b[0m\n\u001b[0m",
      "\u001b[1;32m<ipython-input-11-9bfb849db7d8>\u001b[0m in \u001b[0;36msize2\u001b[1;34m(self, node)\u001b[0m\n\u001b[0;32m    111\u001b[0m         \u001b[1;32mif\u001b[0m \u001b[0mnode\u001b[0m \u001b[1;32mis\u001b[0m \u001b[1;32mNone\u001b[0m\u001b[1;33m:\u001b[0m\u001b[1;33m\u001b[0m\u001b[0m\n\u001b[0;32m    112\u001b[0m             \u001b[1;32mreturn\u001b[0m\u001b[1;33m\u001b[0m\u001b[0m\n\u001b[1;32m--> 113\u001b[1;33m         \u001b[1;32mreturn\u001b[0m \u001b[1;36m1\u001b[0m \u001b[1;33m+\u001b[0m \u001b[0mself\u001b[0m\u001b[1;33m.\u001b[0m\u001b[0msize\u001b[0m\u001b[1;33m(\u001b[0m\u001b[0mnode\u001b[0m\u001b[1;33m.\u001b[0m\u001b[0mleft\u001b[0m\u001b[1;33m)\u001b[0m \u001b[1;33m+\u001b[0m \u001b[0mself\u001b[0m\u001b[1;33m.\u001b[0m\u001b[0msize\u001b[0m\u001b[1;33m(\u001b[0m\u001b[0mnode\u001b[0m\u001b[1;33m.\u001b[0m\u001b[0mright\u001b[0m\u001b[1;33m)\u001b[0m\u001b[1;33m\u001b[0m\u001b[0m\n\u001b[0m\u001b[0;32m    114\u001b[0m \u001b[1;33m\u001b[0m\u001b[0m\n\u001b[0;32m    115\u001b[0m     \u001b[1;32mdef\u001b[0m \u001b[0msize\u001b[0m\u001b[1;33m(\u001b[0m\u001b[0mself\u001b[0m\u001b[1;33m)\u001b[0m\u001b[1;33m:\u001b[0m\u001b[1;33m\u001b[0m\u001b[0m\n",
      "\u001b[1;31mTypeError\u001b[0m: size() takes 1 positional argument but 2 were given"
     ]
    }
   ],
   "source": [
    "tree.size2(tree.root)"
   ]
  },
  {
   "cell_type": "code",
   "execution_count": null,
   "metadata": {},
   "outputs": [],
   "source": []
  }
 ],
 "metadata": {
  "kernelspec": {
   "display_name": "Python 3",
   "language": "python",
   "name": "python3"
  },
  "language_info": {
   "codemirror_mode": {
    "name": "ipython",
    "version": 3
   },
   "file_extension": ".py",
   "mimetype": "text/x-python",
   "name": "python",
   "nbconvert_exporter": "python",
   "pygments_lexer": "ipython3",
   "version": "3.6.0"
  }
 },
 "nbformat": 4,
 "nbformat_minor": 2
}
