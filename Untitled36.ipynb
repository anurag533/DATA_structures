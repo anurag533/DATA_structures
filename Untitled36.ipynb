{
 "cells": [
  {
   "cell_type": "code",
   "execution_count": 1,
   "metadata": {},
   "outputs": [],
   "source": [
    "def decorator_function(any_function):\n",
    "    def wrapper_function():\n",
    "        print(\"this is aswm\")\n",
    "        any_function()\n",
    "    return wrapper_function\n",
    "\n",
    "def func1():\n",
    "    print(\"this is function 1\")\n",
    "    \n",
    "def func2():\n",
    "    print(\"this is function 2\")\n",
    "    "
   ]
  },
  {
   "cell_type": "code",
   "execution_count": 3,
   "metadata": {},
   "outputs": [
    {
     "name": "stdout",
     "output_type": "stream",
     "text": [
      "this is aswm\n",
      "this is function 1\n"
     ]
    }
   ],
   "source": [
    "var = decorator_function(func1)\n",
    "var()"
   ]
  },
  {
   "cell_type": "code",
   "execution_count": 11,
   "metadata": {},
   "outputs": [
    {
     "name": "stdout",
     "output_type": "stream",
     "text": [
      "this is awsome func\n",
      "this is func1\n",
      "this is awsome func\n",
      "this is func2\n"
     ]
    }
   ],
   "source": [
    "def decorator_func(any_func):                                       \n",
    "    def wrapper_function1():\n",
    "        print(\"this is awsome func\")\n",
    "        any_func()\n",
    "    return wrapper_function1\n",
    "\n",
    "@decorator_func\n",
    "def func1():\n",
    "    \n",
    "    print(\"this is func1\")\n",
    "\n",
    "func1()\n",
    "@decorator_func\n",
    "def func2():\n",
    "    print(\"this is func2\")\n",
    "    \n",
    "    \n",
    "func2()\n",
    "    "
   ]
  },
  {
   "cell_type": "code",
   "execution_count": null,
   "metadata": {},
   "outputs": [],
   "source": []
  },
  {
   "cell_type": "code",
   "execution_count": null,
   "metadata": {},
   "outputs": [],
   "source": []
  },
  {
   "cell_type": "code",
   "execution_count": 15,
   "metadata": {},
   "outputs": [],
   "source": [
    "def decorator_en(func):\n",
    "    def wrapper_en():\n",
    "        print(\"this is awsome func\")\n",
    "        return func\n",
    "    return wrapper_en"
   ]
  },
  {
   "cell_type": "code",
   "execution_count": 16,
   "metadata": {},
   "outputs": [
    {
     "name": "stdout",
     "output_type": "stream",
     "text": [
      "this is awsome func\n",
      "this is awsome func\n"
     ]
    },
    {
     "data": {
      "text/plain": [
       "<function __main__.func2()>"
      ]
     },
     "execution_count": 16,
     "metadata": {},
     "output_type": "execute_result"
    }
   ],
   "source": [
    "@decorator_en\n",
    "def func1():\n",
    "    print(\"this is  func1\")\n",
    "    \n",
    "@decorator_en\n",
    "def func2():\n",
    "    print(\"this is func2\")\n",
    "    \n",
    "func1()\n",
    "func2()"
   ]
  },
  {
   "cell_type": "code",
   "execution_count": null,
   "metadata": {},
   "outputs": [],
   "source": []
  }
 ],
 "metadata": {
  "kernelspec": {
   "display_name": "Python 3",
   "language": "python",
   "name": "python3"
  },
  "language_info": {
   "codemirror_mode": {
    "name": "ipython",
    "version": 3
   },
   "file_extension": ".py",
   "mimetype": "text/x-python",
   "name": "python",
   "nbconvert_exporter": "python",
   "pygments_lexer": "ipython3",
   "version": "3.6.0"
  }
 },
 "nbformat": 4,
 "nbformat_minor": 2
}
