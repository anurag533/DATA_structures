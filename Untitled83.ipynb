{
 "cells": [
  {
   "cell_type": "code",
   "execution_count": 290,
   "metadata": {},
   "outputs": [],
   "source": [
    "class node:\n",
    "    def __init__(self,data):\n",
    "        self.data = data\n",
    "        self.next = None\n",
    "        \n",
    "class linkedlist:\n",
    "    def __init__(self):\n",
    "        self.head = None\n",
    "        \n",
    "    def append(self,item):\n",
    "        newnode = node(item)\n",
    "        if self.head is None:\n",
    "            self.head = newnode\n",
    "            return\n",
    "        lastnode = self.head\n",
    "        while lastnode.next:\n",
    "            lastnode = lastnode.next\n",
    "        lastnode.next = newnode\n",
    "    \n",
    "    def prepend(self,item):\n",
    "        newnode = node(item)\n",
    "        if self.head is None:\n",
    "            self.head = newnode\n",
    "        else:\n",
    "            newnode.next = self.head\n",
    "            self.head = newnode\n",
    "    \n",
    "    def printlist(self):\n",
    "        currentnode = self.head\n",
    "        while currentnode:\n",
    "            print(currentnode.data)\n",
    "            currentnode = currentnode.next\n",
    "    \n",
    "    def delete_position(self,pos):\n",
    "        count = 0\n",
    "        prev = None\n",
    "        currentnode = self.head\n",
    "        if pos == 0:\n",
    "            self.head = currentnode.next\n",
    "            return\n",
    "        while currentnode and count != pos:\n",
    "            prev = currentnode\n",
    "            currentnode = currentnode.next\n",
    "        if count != pos:\n",
    "            return \"invalid value\"\n",
    "        prev.next = currentnode.next\n",
    "        currentnode = None\n",
    "    \n",
    "    def delete_value(self,key):\n",
    "        currentnode = self.head\n",
    "        prev = None\n",
    "        if self.head.data == key:\n",
    "            self.head = currentnode.next\n",
    "            return\n",
    "        while currentnode.next != None and currentnode.data != key:\n",
    "            prev = currentnode\n",
    "            currentnode = currentnode.next\n",
    "        if currentnode.data != key:\n",
    "            return \"invalid value\"\n",
    "        prev.next = currentnode.next\n",
    "        currentnode = None\n",
    "    \n",
    "    def swap(self,key_1,key_2):\n",
    "        \n",
    "        if key_1 == key_2:\n",
    "            return \" now swap required\"\n",
    "        prev1 = None\n",
    "        currentnode1 = self.head\n",
    "        while currentnode1.next  and currentnode1.data != key_1:\n",
    "            prev1 = currentnode1\n",
    "            currentnode1 = currentnode1.next\n",
    "        \n",
    "        \n",
    "        prev2 = None\n",
    "        currentnode2 = self.head\n",
    "        while currentnode2.next  and currentnode2.data != key_2:\n",
    "            prev2 = currentnode2\n",
    "            currentnode2 = currentnode2.next\n",
    "       \n",
    "        if currentnode1.data!= key_1 or currentnode2.data != key_2 :\n",
    "            return \"Invalid value\"\n",
    "        \n",
    "        if prev1:\n",
    "            prev1.next = currentnode2\n",
    "        else:\n",
    "            self.head = currentnode2\n",
    "            \n",
    "        if prev2:\n",
    "            prev2.next = currentnode1\n",
    "        else:\n",
    "            self.head = currentnode1\n",
    "            \n",
    "        if not currentnode1 and currentnode2:\n",
    "            return\n",
    "        \n",
    "        currentnode1.next,currentnode2.next = currentnode2.next,currentnode1.next\n",
    "#easy way to reverse\n",
    "\n",
    "#'''\n",
    "# def reverse(self):\n",
    "#        prev = None\n",
    "#        currentnode = self.head\n",
    "#        while currentnode:\n",
    "#           nxt = currentnode.next\n",
    "#            currentnode.next = prev\n",
    "#            prev = currentnode\n",
    "#            currentnode = nxt  \n",
    "#        self.head = prev\n",
    "#'''\n",
    "    def reverse(self):\n",
    "        prev = None\n",
    "        currentnode = self.head\n",
    "        while currentnode.next:\n",
    "            nxt = currentnode.next\n",
    "            currentnode.next = prev\n",
    "            prev = currentnode\n",
    "            currentnode = nxt\n",
    "        currentnode.next = prev    \n",
    "        self.head = currentnode\n",
    "        \n",
    "    def merge_sort(self,llist):\n",
    "        "
   ]
  },
  {
   "cell_type": "code",
   "execution_count": 291,
   "metadata": {},
   "outputs": [],
   "source": [
    "l=linkedlist()"
   ]
  },
  {
   "cell_type": "code",
   "execution_count": 292,
   "metadata": {},
   "outputs": [],
   "source": [
    "l.append(4)"
   ]
  },
  {
   "cell_type": "code",
   "execution_count": 293,
   "metadata": {},
   "outputs": [
    {
     "name": "stdout",
     "output_type": "stream",
     "text": [
      "4\n"
     ]
    }
   ],
   "source": [
    "l.printlist()"
   ]
  },
  {
   "cell_type": "code",
   "execution_count": 294,
   "metadata": {},
   "outputs": [],
   "source": [
    "l.prepend(9)\n",
    "l.prepend(5)"
   ]
  },
  {
   "cell_type": "code",
   "execution_count": 295,
   "metadata": {},
   "outputs": [
    {
     "name": "stdout",
     "output_type": "stream",
     "text": [
      "5\n",
      "9\n",
      "4\n"
     ]
    }
   ],
   "source": [
    "l.printlist()"
   ]
  },
  {
   "cell_type": "code",
   "execution_count": 296,
   "metadata": {},
   "outputs": [
    {
     "name": "stdout",
     "output_type": "stream",
     "text": [
      "5\n",
      "9\n",
      "4\n"
     ]
    }
   ],
   "source": [
    "l.printlist()"
   ]
  },
  {
   "cell_type": "code",
   "execution_count": 297,
   "metadata": {},
   "outputs": [
    {
     "data": {
      "text/plain": [
       "'invalid value'"
      ]
     },
     "execution_count": 297,
     "metadata": {},
     "output_type": "execute_result"
    }
   ],
   "source": [
    "l.delete_position(8)"
   ]
  },
  {
   "cell_type": "code",
   "execution_count": 298,
   "metadata": {},
   "outputs": [
    {
     "name": "stdout",
     "output_type": "stream",
     "text": [
      "5\n",
      "9\n",
      "4\n"
     ]
    }
   ],
   "source": [
    "l.printlist()"
   ]
  },
  {
   "cell_type": "code",
   "execution_count": 299,
   "metadata": {},
   "outputs": [],
   "source": [
    "l.delete_value(4)"
   ]
  },
  {
   "cell_type": "code",
   "execution_count": 300,
   "metadata": {},
   "outputs": [
    {
     "name": "stdout",
     "output_type": "stream",
     "text": [
      "5\n",
      "9\n"
     ]
    }
   ],
   "source": [
    "l.printlist()"
   ]
  },
  {
   "cell_type": "code",
   "execution_count": 301,
   "metadata": {},
   "outputs": [],
   "source": [
    "l.prepend(3)"
   ]
  },
  {
   "cell_type": "code",
   "execution_count": 302,
   "metadata": {},
   "outputs": [
    {
     "name": "stdout",
     "output_type": "stream",
     "text": [
      "3\n",
      "5\n",
      "9\n"
     ]
    }
   ],
   "source": [
    "l.printlist()"
   ]
  },
  {
   "cell_type": "code",
   "execution_count": 303,
   "metadata": {},
   "outputs": [
    {
     "name": "stdout",
     "output_type": "stream",
     "text": [
      "3\n",
      "5\n",
      "9\n"
     ]
    }
   ],
   "source": [
    "l.printlist()"
   ]
  },
  {
   "cell_type": "code",
   "execution_count": 304,
   "metadata": {},
   "outputs": [],
   "source": [
    "l.swap(3,9)"
   ]
  },
  {
   "cell_type": "code",
   "execution_count": 305,
   "metadata": {},
   "outputs": [
    {
     "name": "stdout",
     "output_type": "stream",
     "text": [
      "9\n",
      "5\n",
      "3\n"
     ]
    }
   ],
   "source": [
    "l.printlist()"
   ]
  },
  {
   "cell_type": "code",
   "execution_count": 306,
   "metadata": {},
   "outputs": [],
   "source": [
    "l.reverse()"
   ]
  },
  {
   "cell_type": "code",
   "execution_count": 307,
   "metadata": {},
   "outputs": [
    {
     "name": "stdout",
     "output_type": "stream",
     "text": [
      "3\n",
      "5\n",
      "9\n"
     ]
    }
   ],
   "source": [
    "l.printlist()"
   ]
  },
  {
   "cell_type": "code",
   "execution_count": null,
   "metadata": {},
   "outputs": [],
   "source": []
  },
  {
   "cell_type": "code",
   "execution_count": null,
   "metadata": {},
   "outputs": [],
   "source": []
  }
 ],
 "metadata": {
  "kernelspec": {
   "display_name": "Python 3",
   "language": "python",
   "name": "python3"
  },
  "language_info": {
   "codemirror_mode": {
    "name": "ipython",
    "version": 3
   },
   "file_extension": ".py",
   "mimetype": "text/x-python",
   "name": "python",
   "nbconvert_exporter": "python",
   "pygments_lexer": "ipython3",
   "version": "3.6.0"
  }
 },
 "nbformat": 4,
 "nbformat_minor": 2
}
