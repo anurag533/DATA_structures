{
 "cells": [
  {
   "cell_type": "code",
   "execution_count": 5,
   "metadata": {},
   "outputs": [],
   "source": [
    "import pygame\n",
    "pygame.init()\n",
    "\n",
    "#make screen\n",
    "screen = pygame.display.set_mode((800,600))\n",
    "pygame.display.set_caption(\"GAME\")\n",
    "#load image\n",
    "bg = pygame.image.load('image.jpg')\n",
    "screen.blit(bg , (0,0))\n",
    "run = True\n",
    "while run:\n",
    "    for events in pygame.event.get():\n",
    "        if events.type == pygame.QUIT:\n",
    "            run = False\n",
    "    pygame.display.update()\n",
    "pygame.quit()"
   ]
  }
 ],
 "metadata": {
  "kernelspec": {
   "display_name": "Python 3",
   "language": "python",
   "name": "python3"
  },
  "language_info": {
   "codemirror_mode": {
    "name": "ipython",
    "version": 3
   },
   "file_extension": ".py",
   "mimetype": "text/x-python",
   "name": "python",
   "nbconvert_exporter": "python",
   "pygments_lexer": "ipython3",
   "version": "3.7.6"
  }
 },
 "nbformat": 4,
 "nbformat_minor": 4
}
