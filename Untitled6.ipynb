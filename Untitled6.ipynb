{
 "cells": [
  {
   "cell_type": "code",
   "execution_count": 43,
   "metadata": {},
   "outputs": [],
   "source": [
    "class node:\n",
    "    def __init__(self,data):\n",
    "        self.data = data\n",
    "        self.next = None\n",
    "        \n",
    "class linked_list:\n",
    "    def __init__(self):\n",
    "        self.head = None\n",
    "    \n",
    "    def append(self,data):\n",
    "        newnode = node(data)\n",
    "        if self.head is None:\n",
    "            self.head = newnode\n",
    "            return\n",
    "        currnode = self.head\n",
    "        while currnode.next:\n",
    "            currnode = currnode.next\n",
    "        currnode.next = newnode\n",
    "    \n",
    "    def print_list(self):\n",
    "        curr = self.head\n",
    "        while curr:\n",
    "            print(curr.data)\n",
    "            curr = curr.next\n",
    "            \n",
    "    def prepend(self,data):\n",
    "        newnode = node(data)\n",
    "        if self.head is None:\n",
    "            self.head = newnode\n",
    "            return\n",
    "        newnode.next = self.head \n",
    "        self.head = newnode\n",
    "        \n",
    "    def __len__(self):\n",
    "        curr = self.head\n",
    "        l = 0\n",
    "        if self.head is None:\n",
    "            return 0\n",
    "        while curr:\n",
    "            l += 1\n",
    "            curr = curr.next\n",
    "        return l\n",
    "    \n",
    "    def insertfun(self,data,pos):\n",
    "        newnode = node(data)\n",
    "        currnode = self.head\n",
    "        prev = None\n",
    "        if pos > len(self):\n",
    "            return \"Insertion not possible\"\n",
    "        while currnode and pos != 0:\n",
    "            pos -= 1\n",
    "            prev = currnode\n",
    "            currnode = currnode.next\n",
    "        if prev is None:\n",
    "            newnode.next = self.head\n",
    "            self.head = newnode\n",
    "            return\n",
    "        prev.next = newnode\n",
    "        newnode.next = currnode\n",
    "\n",
    "    def delete_data(self,data):\n",
    "        prev = None\n",
    "        curr = self.head\n",
    "        if self.head is None:\n",
    "            return \"Can't delete from an empty list\"\n",
    "        while curr.next  and curr.data != data:\n",
    "            prev = curr\n",
    "            curr = curr.next\n",
    "        if curr.data != data:\n",
    "            return f'{data} not in list '\n",
    "        if prev is None:\n",
    "            self.head = curr.next\n",
    "            curr = None\n",
    "            return\n",
    "        prev.next = curr.next\n",
    "        curr = None\n",
    "        \n",
    "    def delete_pos(self,pos):\n",
    "        if pos > len(self)-1:\n",
    "            return f\"{pos} not valid. Deletion not possible\"\n",
    "        prev = None\n",
    "        curr = self.head\n",
    "        if pos == 0:\n",
    "            self.head = curr.next\n",
    "            curr = None\n",
    "            return\n",
    "        while curr.next and pos != 0:\n",
    "            pos -= 1\n",
    "            prev = curr\n",
    "            curr = curr.next      \n",
    "        \n",
    "        prev.next = curr.next\n",
    "        curr = None\n",
    "        \n",
    "    def node_swap(self,data1,data2):\n",
    "        if self.head is None:\n",
    "            return \"Swap not possible\"\n",
    "        if data1 == data2:\n",
    "            return \"Swap not reqired\"\n",
    "        prev1 = None\n",
    "        curr1 = self.head\n",
    "        while curr1 and curr1.data != data1:\n",
    "            prev1 = curr1\n",
    "            curr1 = curr1.next\n",
    "        \n",
    "        prev2 = None\n",
    "        curr2 = self.head\n",
    "        while curr2 and curr2.data != data2:\n",
    "            prev2 = curr2\n",
    "            curr2 = curr2.next\n",
    "        if not curr1 or not curr2:\n",
    "            return \"swap not possible\"\n",
    "        \n",
    "        if prev1:\n",
    "            prev1.next=curr2\n",
    "        else:\n",
    "            self.head = curr2\n",
    "        if prev2:\n",
    "            prev2.next = curr1\n",
    "        else:\n",
    "            self.head = curr1\n",
    "            \n",
    "        curr2.next,curr1.next = curr1.next,curr2.next\n",
    "    \n",
    "    def reverse_list(self):\n",
    "        if self.head is None:\n",
    "            return none\n",
    "        prev = None\n",
    "        curr = self.head\n",
    "        while curr:\n",
    "            x = curr.next\n",
    "            curr.next = prev\n",
    "            prev = curr\n",
    "            curr = x\n",
    "        self.head = prev\n",
    "        \n",
    "    def merge_list(self,l2):\n",
    "        curr1 = self.head\n",
    "        curr2 = l2.head\n",
    "        prev = None\n",
    "        if curr2.data > curr1.data:\n",
    "            "
   ]
  },
  {
   "cell_type": "code",
   "execution_count": 44,
   "metadata": {},
   "outputs": [],
   "source": [
    "l1 = linked_list()"
   ]
  },
  {
   "cell_type": "code",
   "execution_count": 45,
   "metadata": {},
   "outputs": [],
   "source": [
    "l1.prepend(3)\n",
    "l1.prepend(1)"
   ]
  },
  {
   "cell_type": "code",
   "execution_count": 46,
   "metadata": {},
   "outputs": [
    {
     "name": "stdout",
     "output_type": "stream",
     "text": [
      "1\n",
      "3\n"
     ]
    }
   ],
   "source": [
    "l1.print_list()"
   ]
  },
  {
   "cell_type": "code",
   "execution_count": 47,
   "metadata": {},
   "outputs": [],
   "source": [
    "l2 = linked_list()"
   ]
  },
  {
   "cell_type": "code",
   "execution_count": 48,
   "metadata": {},
   "outputs": [],
   "source": [
    "l2.append(2)\n",
    "l2.append(4)"
   ]
  },
  {
   "cell_type": "code",
   "execution_count": 49,
   "metadata": {},
   "outputs": [
    {
     "name": "stdout",
     "output_type": "stream",
     "text": [
      "2\n",
      "4\n"
     ]
    }
   ],
   "source": [
    "l2.print_list()"
   ]
  },
  {
   "cell_type": "code",
   "execution_count": 6,
   "metadata": {},
   "outputs": [
    {
     "data": {
      "text/plain": [
       "3"
      ]
     },
     "execution_count": 6,
     "metadata": {},
     "output_type": "execute_result"
    }
   ],
   "source": [
    "1 and 2and 3"
   ]
  },
  {
   "cell_type": "code",
   "execution_count": 9,
   "metadata": {},
   "outputs": [
    {
     "name": "stdout",
     "output_type": "stream",
     "text": [
      "hey\n"
     ]
    }
   ],
   "source": [
    "1 and print(\"hey\") and 0"
   ]
  },
  {
   "cell_type": "code",
   "execution_count": 10,
   "metadata": {},
   "outputs": [
    {
     "data": {
      "text/plain": [
       "494421744"
      ]
     },
     "execution_count": 10,
     "metadata": {},
     "output_type": "execute_result"
    }
   ],
   "source": [
    "x=7\n",
    "id(x)"
   ]
  },
  {
   "cell_type": "code",
   "execution_count": 33,
   "metadata": {},
   "outputs": [],
   "source": [
    "y = 7"
   ]
  },
  {
   "cell_type": "code",
   "execution_count": 34,
   "metadata": {},
   "outputs": [
    {
     "data": {
      "text/plain": [
       "494421744"
      ]
     },
     "execution_count": 34,
     "metadata": {},
     "output_type": "execute_result"
    }
   ],
   "source": [
    "id(y)"
   ]
  },
  {
   "cell_type": "code",
   "execution_count": 29,
   "metadata": {},
   "outputs": [
    {
     "data": {
      "text/plain": [
       "'Anurag'"
      ]
     },
     "execution_count": 29,
     "metadata": {},
     "output_type": "execute_result"
    }
   ],
   "source": [
    "y = \"Anurag\"\n",
    "y"
   ]
  },
  {
   "cell_type": "code",
   "execution_count": 30,
   "metadata": {},
   "outputs": [
    {
     "data": {
      "text/plain": [
       "102874080"
      ]
     },
     "execution_count": 30,
     "metadata": {},
     "output_type": "execute_result"
    }
   ],
   "source": [
    "id(y)"
   ]
  },
  {
   "cell_type": "code",
   "execution_count": 31,
   "metadata": {},
   "outputs": [
    {
     "data": {
      "text/plain": [
       "'Anurag'"
      ]
     },
     "execution_count": 31,
     "metadata": {},
     "output_type": "execute_result"
    }
   ],
   "source": [
    "x = \"A\"+\"n\"+\"u\"+\"r\"+\"a\"+\"g\"\n",
    "x"
   ]
  },
  {
   "cell_type": "code",
   "execution_count": 32,
   "metadata": {},
   "outputs": [
    {
     "data": {
      "text/plain": [
       "102874080"
      ]
     },
     "execution_count": 32,
     "metadata": {},
     "output_type": "execute_result"
    }
   ],
   "source": [
    "id(x)"
   ]
  },
  {
   "cell_type": "code",
   "execution_count": 17,
   "metadata": {},
   "outputs": [
    {
     "data": {
      "text/plain": [
       "0"
      ]
     },
     "execution_count": 17,
     "metadata": {},
     "output_type": "execute_result"
    }
   ],
   "source": [
    "1 and 1 and \"lkjh\" and 0 and 0"
   ]
  },
  {
   "cell_type": "code",
   "execution_count": null,
   "metadata": {},
   "outputs": [],
   "source": []
  }
 ],
 "metadata": {
  "kernelspec": {
   "display_name": "Python 3",
   "language": "python",
   "name": "python3"
  },
  "language_info": {
   "codemirror_mode": {
    "name": "ipython",
    "version": 3
   },
   "file_extension": ".py",
   "mimetype": "text/x-python",
   "name": "python",
   "nbconvert_exporter": "python",
   "pygments_lexer": "ipython3",
   "version": "3.6.0"
  }
 },
 "nbformat": 4,
 "nbformat_minor": 2
}
