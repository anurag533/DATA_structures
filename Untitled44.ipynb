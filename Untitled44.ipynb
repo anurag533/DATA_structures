{
 "cells": [
  {
   "cell_type": "code",
   "execution_count": 63,
   "metadata": {},
   "outputs": [
    {
     "name": "stdout",
     "output_type": "stream",
     "text": [
      "Hewlett packard HPab219tx\n"
     ]
    }
   ],
   "source": [
    "class laptop:\n",
    "    def __init__(self,model,price,company_name):\n",
    "        self.model=model\n",
    "        self.price=price\n",
    "        self.company_name=company_name\n",
    "        self.laptop_name= company_name + \" \" + model\n",
    "        \n",
    "    def discount(self,num):\n",
    "        off_price = (num/100) * self.price\n",
    "        return self.price - off_price\n",
    "        \n",
    "        \n",
    "l = laptop(\"HPab219tx\",63000,\"Hewlett packard\")\n",
    "print(l.laptop_name)"
   ]
  },
  {
   "cell_type": "code",
   "execution_count": 64,
   "metadata": {},
   "outputs": [
    {
     "data": {
      "text/plain": [
       "{'model': 'HPab219tx',\n",
       " 'price': 63000,\n",
       " 'company_name': 'Hewlett packard',\n",
       " 'laptop_name': 'Hewlett packard HPab219tx'}"
      ]
     },
     "execution_count": 64,
     "metadata": {},
     "output_type": "execute_result"
    }
   ],
   "source": [
    "l.__dict__"
   ]
  },
  {
   "cell_type": "code",
   "execution_count": null,
   "metadata": {},
   "outputs": [],
   "source": []
  },
  {
   "cell_type": "code",
   "execution_count": null,
   "metadata": {},
   "outputs": [],
   "source": []
  },
  {
   "cell_type": "code",
   "execution_count": 65,
   "metadata": {},
   "outputs": [
    {
     "data": {
      "text/plain": [
       "63000.0"
      ]
     },
     "execution_count": 65,
     "metadata": {},
     "output_type": "execute_result"
    }
   ],
   "source": [
    "l.discount(0)"
   ]
  },
  {
   "cell_type": "code",
   "execution_count": 66,
   "metadata": {},
   "outputs": [],
   "source": [
    "class circle:\n",
    "    pi = 3.14\n",
    "    def __init__(self,radius):\n",
    "        self.radius = radius\n",
    "    def circumference(self):\n",
    "        return 2*circle.pi*self.radius\n",
    "    "
   ]
  },
  {
   "cell_type": "code",
   "execution_count": 67,
   "metadata": {},
   "outputs": [],
   "source": [
    "m = circle(1)"
   ]
  },
  {
   "cell_type": "code",
   "execution_count": 68,
   "metadata": {},
   "outputs": [
    {
     "name": "stdout",
     "output_type": "stream",
     "text": [
      "<__main__.circle object at 0x078B37F0>\n"
     ]
    }
   ],
   "source": [
    "print(m)"
   ]
  },
  {
   "cell_type": "code",
   "execution_count": 69,
   "metadata": {},
   "outputs": [
    {
     "data": {
      "text/plain": [
       "6.28"
      ]
     },
     "execution_count": 69,
     "metadata": {},
     "output_type": "execute_result"
    }
   ],
   "source": [
    "m.circumference()"
   ]
  },
  {
   "cell_type": "code",
   "execution_count": 70,
   "metadata": {},
   "outputs": [],
   "source": [
    "class student:\n",
    "    def __init__(self,firstname,lastname,age):\n",
    "        self.firstname = firstname\n",
    "        self.lastname = lastname\n",
    "        self.age= age\n",
    "    def fullname(self):\n",
    "        return f\"{self.firstname} {self.lastname} is {self.age} years old\"\n",
    "    \n"
   ]
  },
  {
   "cell_type": "code",
   "execution_count": 71,
   "metadata": {},
   "outputs": [],
   "source": [
    "s1 = student(\"Anurag\",\"sharma\",24)"
   ]
  },
  {
   "cell_type": "code",
   "execution_count": 72,
   "metadata": {},
   "outputs": [
    {
     "data": {
      "text/plain": [
       "'Anurag sharma is 24 years old'"
      ]
     },
     "execution_count": 72,
     "metadata": {},
     "output_type": "execute_result"
    }
   ],
   "source": [
    "s1.fullname()"
   ]
  },
  {
   "cell_type": "code",
   "execution_count": 113,
   "metadata": {},
   "outputs": [],
   "source": [
    "class people:\n",
    "    count = 0\n",
    "    def __init__(self,first_name,last_name,age):\n",
    "        people.count += 1\n",
    "        self.first_name = first_name\n",
    "        self.last_name = last_name\n",
    "        self.age = age\n",
    "    \n",
    "    #class methods\n",
    "    @classmethod\n",
    "    def countfunc(cls):\n",
    "        return f\"total number of instances of {cls.__name__} is {people.count}\"\n",
    "    @classmethod\n",
    "    def from_string(cls,string):\n",
    "        name,lastname,age = string.split(',')\n",
    "        return cls(name,lastname,age)\n",
    "    \n",
    "   \n",
    "\n",
    "    def fullname(self):\n",
    "        return f\"{self.first_name} {self.last_name} {self.age}\""
   ]
  },
  {
   "cell_type": "code",
   "execution_count": 114,
   "metadata": {},
   "outputs": [],
   "source": [
    "p1=people(\"anurag\",\"sharma\",24)\n",
    "p2 = people(\"deepak\" , \"singh\" , 24)\n",
    "p11=people(\"anurag\",\"sharma\",24)\n",
    "p22 = people(\"deepak\" , \"singh\" , 24)\n",
    "p13=people(\"anurag\",\"sharma\",24)\n",
    "p24 = people(\"deepak\" , \"singh\" , 24)\n",
    "p15=people(\"anurag\",\"sharma\",24)\n",
    "p26 = people(\"deepak\" , \"singh\" , 24)"
   ]
  },
  {
   "cell_type": "code",
   "execution_count": 115,
   "metadata": {},
   "outputs": [
    {
     "name": "stdout",
     "output_type": "stream",
     "text": [
      "8\n"
     ]
    }
   ],
   "source": [
    "print(people.count)"
   ]
  },
  {
   "cell_type": "code",
   "execution_count": 116,
   "metadata": {},
   "outputs": [
    {
     "name": "stdout",
     "output_type": "stream",
     "text": [
      "total number of instances of people is 8\n"
     ]
    }
   ],
   "source": [
    "print(people.countfunc())"
   ]
  },
  {
   "cell_type": "code",
   "execution_count": 117,
   "metadata": {},
   "outputs": [
    {
     "data": {
      "text/plain": [
       "'Anurag Sharma 24'"
      ]
     },
     "execution_count": 117,
     "metadata": {},
     "output_type": "execute_result"
    }
   ],
   "source": [
    "p3 = people.from_string('Anurag,Sharma,24')\n",
    "p3.fullname()"
   ]
  },
  {
   "cell_type": "code",
   "execution_count": null,
   "metadata": {},
   "outputs": [],
   "source": []
  },
  {
   "cell_type": "code",
   "execution_count": null,
   "metadata": {},
   "outputs": [],
   "source": []
  }
 ],
 "metadata": {
  "kernelspec": {
   "display_name": "Python 3",
   "language": "python",
   "name": "python3"
  },
  "language_info": {
   "codemirror_mode": {
    "name": "ipython",
    "version": 3
   },
   "file_extension": ".py",
   "mimetype": "text/x-python",
   "name": "python",
   "nbconvert_exporter": "python",
   "pygments_lexer": "ipython3",
   "version": "3.6.0"
  }
 },
 "nbformat": 4,
 "nbformat_minor": 2
}
