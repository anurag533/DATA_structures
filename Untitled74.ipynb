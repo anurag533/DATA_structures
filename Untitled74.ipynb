{
 "cells": [
  {
   "cell_type": "code",
   "execution_count": 216,
   "metadata": {},
   "outputs": [],
   "source": [
    "class Node:\n",
    "    def __init__(self,data):\n",
    "        self.data = data\n",
    "        self.next = None\n",
    "        \n",
    "\n",
    "class linked_list:\n",
    "    def __init__(self):\n",
    "         self.head = None\n",
    "         \n",
    "    def append(self,data):\n",
    "        newnode = Node(data)\n",
    "        if self.head is None:\n",
    "            self.head = newnode\n",
    "            return\n",
    "        lastnode = self.head\n",
    "        while lastnode.next:\n",
    "            lastnode = lastnode.next\n",
    "        lastnode.next = newnode\n",
    "        \n",
    "    def prepend(self,data):\n",
    "        newnode = Node(data)\n",
    "        newnode.next = self.head\n",
    "        self.head = newnode\n",
    "    \n",
    "    def printlist(self):\n",
    "        currentnode = self.head\n",
    "        while currentnode:\n",
    "            print(currentnode.data)\n",
    "            currentnode = currentnode.next\n",
    "    \n",
    "    def insert(self,position,data):\n",
    "        try:\n",
    "            if position<0:\n",
    "                print(\"enter the position\")\n",
    "                return\n",
    "\n",
    "\n",
    "            newnode = Node(data)\n",
    "            prev = None\n",
    "            currentnode = self.head\n",
    "\n",
    "            while currentnode and position :\n",
    "\n",
    "                prev = currentnode\n",
    "                currentnode = currentnode.next         \n",
    "                position -= 1         \n",
    "            if position >0:\n",
    "                return \"not a valid value\"\n",
    "\n",
    "\n",
    "            newnode.next = prev.next\n",
    "            prev.next = newnode\n",
    "        except:\n",
    "            if position == 0:\n",
    "                newnode.next = self.head\n",
    "                self.head = newnode\n",
    "      \n",
    "        \n",
    "    def delete(self,key):\n",
    "        currentnode = self.head\n",
    "        if currentnode and currentnode.data == key:\n",
    "            self.head = currentnode.next\n",
    "            currentnode = None\n",
    "            return\n",
    "        \n",
    "        prev = None\n",
    "        while currentnode and currentnode.data != key:\n",
    "            prev = currentnode\n",
    "            currentnode = currentnode.next\n",
    "            \n",
    "        if currentnode is None:\n",
    "            return\n",
    "        \n",
    "        prev.next = currentnode.next\n",
    "        currentnode = None\n",
    "            \n",
    "        "
   ]
  },
  {
   "cell_type": "code",
   "execution_count": 217,
   "metadata": {},
   "outputs": [],
   "source": [
    "k = linked_list()"
   ]
  },
  {
   "cell_type": "code",
   "execution_count": 218,
   "metadata": {},
   "outputs": [],
   "source": [
    "k.append(6)"
   ]
  },
  {
   "cell_type": "code",
   "execution_count": 227,
   "metadata": {},
   "outputs": [
    {
     "name": "stdout",
     "output_type": "stream",
     "text": [
      "5\n",
      "3\n",
      "6\n",
      "3\n"
     ]
    }
   ],
   "source": [
    "k.printlist() "
   ]
  },
  {
   "cell_type": "code",
   "execution_count": 226,
   "metadata": {},
   "outputs": [],
   "source": [
    "k.insert(0,5)"
   ]
  },
  {
   "cell_type": "code",
   "execution_count": 175,
   "metadata": {},
   "outputs": [],
   "source": [
    "class Node:\n",
    "    def __init__(self,data):\n",
    "        self.data = data\n",
    "        self.next = None\n",
    "        \n",
    "\n",
    "class linked_list:\n",
    "    def __init__(self):\n",
    "         self.head = None\n",
    "         \n",
    "    def append(self,data):\n",
    "        newnode = Node(data)\n",
    "        if self.head is None:\n",
    "            self.head = newnode\n",
    "            return\n",
    "        lastnode = self.head\n",
    "        while lastnode.next:\n",
    "            lastnode = lastnode.next\n",
    "        lastnode.next = newnode\n",
    "        \n",
    "    def prepend(self,data):\n",
    "        newnode = Node(data)\n",
    "        newnode.next = self.head\n",
    "        self.head = newnode\n",
    "    \n",
    "    def printlist(self):\n",
    "        currentnode = self.head\n",
    "        while currentnode:\n",
    "            print(currentnode.data)\n",
    "            currentnode = currentnode.next\n",
    "    \n",
    "    def insert(self,position,data):\n",
    "        x=position-1\n",
    "        if not position:\n",
    "            print(\"enter the position\")\n",
    "            return        \n",
    "        newnode = Node(data)\n",
    "        prev = None\n",
    "        currentnode = self.head\n",
    "        while currentnode and x :\n",
    "            prev = currentnode\n",
    "            currentnode = currentnode.next         \n",
    "            x -= 1         \n",
    "        if x >0:\n",
    "            return \"not a valid value\"\n",
    "        newnode.next = prev.next\n",
    "        prev.next = newnode\n",
    "        \n",
    "    def delete(self,key):\n",
    "        currentnode = self.head\n",
    "        if currentnode and currentnode.data == key:\n",
    "            self.head = currentnode.next\n",
    "            currentnode = None\n",
    "            return\n",
    "        \n",
    "        prev = None\n",
    "        while currentnode and currentnode.data != key:\n",
    "            prev = currentnode\n",
    "            currentnode = currentnode.next\n",
    "            \n",
    "        if currentnode is None:\n",
    "            return\n",
    "        \n",
    "        prev.next = currentnode.next\n",
    "        currentnode = None\n",
    "            \n",
    "        "
   ]
  },
  {
   "cell_type": "code",
   "execution_count": 176,
   "metadata": {},
   "outputs": [],
   "source": [
    "l = linked_list()"
   ]
  },
  {
   "cell_type": "code",
   "execution_count": 178,
   "metadata": {},
   "outputs": [],
   "source": [
    "l.append(1)"
   ]
  },
  {
   "cell_type": "code",
   "execution_count": 179,
   "metadata": {},
   "outputs": [
    {
     "name": "stdout",
     "output_type": "stream",
     "text": [
      "1\n"
     ]
    }
   ],
   "source": [
    "l.printlist()"
   ]
  },
  {
   "cell_type": "code",
   "execution_count": 180,
   "metadata": {},
   "outputs": [
    {
     "ename": "AttributeError",
     "evalue": "'NoneType' object has no attribute 'next'",
     "output_type": "error",
     "traceback": [
      "\u001b[1;31m---------------------------------------------------------------------------\u001b[0m",
      "\u001b[1;31mAttributeError\u001b[0m                            Traceback (most recent call last)",
      "\u001b[1;32m<ipython-input-180-586d7ef58051>\u001b[0m in \u001b[0;36m<module>\u001b[1;34m\u001b[0m\n\u001b[1;32m----> 1\u001b[1;33m \u001b[0ml\u001b[0m\u001b[1;33m.\u001b[0m\u001b[0minsert\u001b[0m\u001b[1;33m(\u001b[0m\u001b[1;36m1\u001b[0m\u001b[1;33m,\u001b[0m\u001b[1;36m3\u001b[0m\u001b[1;33m)\u001b[0m\u001b[1;33m\u001b[0m\u001b[0m\n\u001b[0m",
      "\u001b[1;32m<ipython-input-175-6b66542100cd>\u001b[0m in \u001b[0;36minsert\u001b[1;34m(self, position, data)\u001b[0m\n\u001b[0;32m     48\u001b[0m         \u001b[1;32mif\u001b[0m \u001b[0mx\u001b[0m \u001b[1;33m>\u001b[0m\u001b[1;36m0\u001b[0m\u001b[1;33m:\u001b[0m\u001b[1;33m\u001b[0m\u001b[0m\n\u001b[0;32m     49\u001b[0m             \u001b[1;32mreturn\u001b[0m \u001b[1;34m\"not a valid value\"\u001b[0m\u001b[1;33m\u001b[0m\u001b[0m\n\u001b[1;32m---> 50\u001b[1;33m         \u001b[0mnewnode\u001b[0m\u001b[1;33m.\u001b[0m\u001b[0mnext\u001b[0m \u001b[1;33m=\u001b[0m \u001b[0mprev\u001b[0m\u001b[1;33m.\u001b[0m\u001b[0mnext\u001b[0m\u001b[1;33m\u001b[0m\u001b[0m\n\u001b[0m\u001b[0;32m     51\u001b[0m         \u001b[0mprev\u001b[0m\u001b[1;33m.\u001b[0m\u001b[0mnext\u001b[0m \u001b[1;33m=\u001b[0m \u001b[0mnewnode\u001b[0m\u001b[1;33m\u001b[0m\u001b[0m\n\u001b[0;32m     52\u001b[0m \u001b[1;33m\u001b[0m\u001b[0m\n",
      "\u001b[1;31mAttributeError\u001b[0m: 'NoneType' object has no attribute 'next'"
     ]
    }
   ],
   "source": [
    "l.insert(1,3)"
   ]
  },
  {
   "cell_type": "code",
   "execution_count": 228,
   "metadata": {},
   "outputs": [],
   "source": [
    "def insert(self, node, position):\n",
    "        prev = self.head\n",
    "        current = prev.next\n",
    "        for i in range(position):\n",
    "            if prev.next == None:\n",
    "                print('Invalid index')\n",
    "                return\n",
    "            prev = prev.next\n",
    "            current = prev.next\n",
    "        if prev == self.head:\n",
    "            node.next = self.head\n",
    "            self.head =node\n",
    "        else:\n",
    "            prev.next = node\n",
    "            node.next = current\n",
    "         "
   ]
  },
  {
   "cell_type": "code",
   "execution_count": null,
   "metadata": {},
   "outputs": [],
   "source": [
    "l="
   ]
  }
 ],
 "metadata": {
  "kernelspec": {
   "display_name": "Python 3",
   "language": "python",
   "name": "python3"
  },
  "language_info": {
   "codemirror_mode": {
    "name": "ipython",
    "version": 3
   },
   "file_extension": ".py",
   "mimetype": "text/x-python",
   "name": "python",
   "nbconvert_exporter": "python",
   "pygments_lexer": "ipython3",
   "version": "3.6.0"
  }
 },
 "nbformat": 4,
 "nbformat_minor": 2
}
