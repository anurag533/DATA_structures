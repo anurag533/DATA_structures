{
 "cells": [
  {
   "cell_type": "code",
   "execution_count": 333,
   "metadata": {},
   "outputs": [],
   "source": [
    "class node:\n",
    "    def __init__(self,data):\n",
    "        self.data = data\n",
    "        self.next = None\n",
    "    \n",
    "class linked_list:\n",
    "    def __init__(self):\n",
    "        self.head = None\n",
    "        \n",
    "    def append(self,item):\n",
    "        newnode = node(item)\n",
    "        if self.head is None:\n",
    "            self.head = newnode\n",
    "            return\n",
    "        currentnode = self.head\n",
    "        while currentnode.next:\n",
    "            currentnode = currentnode.next\n",
    "        currentnode.next = newnode\n",
    "        \n",
    "    def prepend(self,item):\n",
    "        newnode = node(item)\n",
    "        if self.head is None:\n",
    "            self.head = newnode\n",
    "        newnode.next = self.head\n",
    "        self.head = newnode\n",
    "        \n",
    "    def delete_position(self,pos):\n",
    "        prev = None\n",
    "        currentnode = self.head\n",
    "        count = 0\n",
    "        if pos==0:\n",
    "            self.head = currentnode.next\n",
    "            return            \n",
    "        while currentnode and count != pos:\n",
    "            prev = currentnode\n",
    "            currentnode = currentnode.next\n",
    "            count += 1\n",
    "        prev.next = currentnode.next\n",
    "        currentnode = None\n",
    "        \n",
    "    def printlist(self):\n",
    "        currentnode =  self.head\n",
    "        while currentnode:\n",
    "            x=(currentnode.data)\n",
    "           \n",
    "            print(f\"{x}\")\n",
    "            currentnode = currentnode.next\n",
    "    \n",
    "    def delete_item(self,key):\n",
    "        prev = None\n",
    "        currentnode = self.head\n",
    "        if self.head.data ==currentnode.data == key:\n",
    "            self.head= currentnode.next\n",
    "            currentnode = None\n",
    "            return\n",
    "        while currentnode and currentnode.data != key:\n",
    "            prev = currentnode\n",
    "            currentnode = currentnode.next\n",
    "        if currentnode.data != key:\n",
    "            print(\"invalid key\")\n",
    "            return\n",
    "        prev.next = currentnode.next\n",
    "        currentnode = None\n",
    "        \n",
    "    def reverse(self):\n",
    "        prev = None\n",
    "        currentnode = self.head\n",
    "        while currentnode:\n",
    "            nxt = currentnode.next\n",
    "            currentnode.next = prev\n",
    "            prev = currentnode \n",
    "            currentnode = nxt\n",
    "        self.head = prev\n",
    "    \n",
    "    def merge_sort(self,llist):\n",
    "        p = self.head\n",
    "        q = llist.head\n",
    "        r = None\n",
    "        while "
   ]
  },
  {
   "cell_type": "code",
   "execution_count": 334,
   "metadata": {},
   "outputs": [],
   "source": [
    "l = linked_list()"
   ]
  },
  {
   "cell_type": "code",
   "execution_count": 335,
   "metadata": {},
   "outputs": [],
   "source": [
    "l.append(9)"
   ]
  },
  {
   "cell_type": "code",
   "execution_count": 336,
   "metadata": {},
   "outputs": [],
   "source": [
    "l.append(1)\n",
    "l.append(2)\n",
    "l.append(3)"
   ]
  },
  {
   "cell_type": "code",
   "execution_count": 337,
   "metadata": {},
   "outputs": [
    {
     "name": "stdout",
     "output_type": "stream",
     "text": [
      "9\n",
      "1\n",
      "2\n",
      "3\n"
     ]
    }
   ],
   "source": [
    "l.printlist()"
   ]
  },
  {
   "cell_type": "code",
   "execution_count": 338,
   "metadata": {},
   "outputs": [
    {
     "ename": "UnboundLocalError",
     "evalue": "local variable 'currentnode' referenced before assignment",
     "output_type": "error",
     "traceback": [
      "\u001b[1;31m---------------------------------------------------------------------------\u001b[0m",
      "\u001b[1;31mUnboundLocalError\u001b[0m                         Traceback (most recent call last)",
      "\u001b[1;32m<ipython-input-338-074c39a228cb>\u001b[0m in \u001b[0;36m<module>\u001b[1;34m\u001b[0m\n\u001b[1;32m----> 1\u001b[1;33m \u001b[0ml\u001b[0m\u001b[1;33m.\u001b[0m\u001b[0mreverse\u001b[0m\u001b[1;33m(\u001b[0m\u001b[1;33m)\u001b[0m\u001b[1;33m\u001b[0m\u001b[0m\n\u001b[0m",
      "\u001b[1;32m<ipython-input-333-29f3350cbd5b>\u001b[0m in \u001b[0;36mreverse\u001b[1;34m(self)\u001b[0m\n\u001b[0;32m     65\u001b[0m     \u001b[1;32mdef\u001b[0m \u001b[0mreverse\u001b[0m\u001b[1;33m(\u001b[0m\u001b[0mself\u001b[0m\u001b[1;33m)\u001b[0m\u001b[1;33m:\u001b[0m\u001b[1;33m\u001b[0m\u001b[0m\n\u001b[0;32m     66\u001b[0m         \u001b[0mprev\u001b[0m \u001b[1;33m=\u001b[0m \u001b[1;32mNone\u001b[0m\u001b[1;33m\u001b[0m\u001b[0m\n\u001b[1;32m---> 67\u001b[1;33m         \u001b[0mcurrentnode\u001b[0m \u001b[1;33m=\u001b[0m \u001b[0mcurrentnode\u001b[0m\u001b[1;33m.\u001b[0m\u001b[0mnext\u001b[0m\u001b[1;33m\u001b[0m\u001b[0m\n\u001b[0m\u001b[0;32m     68\u001b[0m         \u001b[1;32mwhile\u001b[0m \u001b[0mcurrentnode\u001b[0m\u001b[1;33m:\u001b[0m\u001b[1;33m\u001b[0m\u001b[0m\n\u001b[0;32m     69\u001b[0m             \u001b[0mnxt\u001b[0m \u001b[1;33m=\u001b[0m \u001b[0mcurrentnode\u001b[0m\u001b[1;33m.\u001b[0m\u001b[0mnext\u001b[0m\u001b[1;33m\u001b[0m\u001b[0m\n",
      "\u001b[1;31mUnboundLocalError\u001b[0m: local variable 'currentnode' referenced before assignment"
     ]
    }
   ],
   "source": [
    "l.reverse()"
   ]
  },
  {
   "cell_type": "code",
   "execution_count": 339,
   "metadata": {},
   "outputs": [
    {
     "name": "stdout",
     "output_type": "stream",
     "text": [
      "9\n",
      "1\n",
      "2\n",
      "3\n"
     ]
    }
   ],
   "source": [
    "l.printlist()"
   ]
  },
  {
   "cell_type": "code",
   "execution_count": null,
   "metadata": {},
   "outputs": [],
   "source": []
  }
 ],
 "metadata": {
  "kernelspec": {
   "display_name": "Python 3",
   "language": "python",
   "name": "python3"
  },
  "language_info": {
   "codemirror_mode": {
    "name": "ipython",
    "version": 3
   },
   "file_extension": ".py",
   "mimetype": "text/x-python",
   "name": "python",
   "nbconvert_exporter": "python",
   "pygments_lexer": "ipython3",
   "version": "3.6.0"
  }
 },
 "nbformat": 4,
 "nbformat_minor": 2
}
