{
 "cells": [
  {
   "cell_type": "code",
   "execution_count": 39,
   "metadata": {},
   "outputs": [],
   "source": [
    "class node:\n",
    "    def __init__(self,data):\n",
    "        self.data = data\n",
    "        self.next = None\n",
    "        \n",
    "class linkedlist:\n",
    "    def __init__(self):\n",
    "        self.head = None\n",
    "        \n",
    "    def append(self,data):\n",
    "        newnode = node(data)\n",
    "        if self.head is None:\n",
    "            self.head = newnode\n",
    "            return\n",
    "        lastnode = self.head\n",
    "        while lastnode.next:\n",
    "            lastnode = lastnode.next\n",
    "        lastnode.next = newnode\n",
    "        \n",
    "    def print_list(self):\n",
    "        curr = self.head\n",
    "        while curr:\n",
    "            print(curr.data)\n",
    "            curr = curr.next\n",
    "            \n",
    "    def prepend(self,data):\n",
    "        newnode = node(data)\n",
    "        if self.head is None:\n",
    "            self.head = newnode\n",
    "            return\n",
    "        newnode.next = self.head\n",
    "        self.head = newnode\n",
    "        \n",
    "    def __len__(self):\n",
    "        curr = self.head\n",
    "        x = 1\n",
    "        while curr.next:\n",
    "            x += 1 \n",
    "            curr = curr.next\n",
    "        return x\n",
    "    \n",
    "    def delete_data(self,data):\n",
    "        if self.head is None:\n",
    "            return None          \n",
    "        curr = self.head\n",
    "        prev = None\n",
    "        if self.head.data == data:\n",
    "            \n",
    "            curr = curr.next\n",
    "            self.head = None\n",
    "            self.head = curr\n",
    "            return\n",
    "        while curr.next and curr.data != data:\n",
    "            prev = curr\n",
    "            curr = curr.next\n",
    "        if curr.data == data:\n",
    "            prev.next = curr.next\n",
    "            curr = None\n",
    "            return\n",
    "        else:\n",
    "            return \"Not in the list\"\n",
    "        \n",
    "    def delete_pos(self,pos):\n",
    "        if pos+1 > len(self):\n",
    "            return \"Not possible\"\n",
    "        if self.head is None:\n",
    "            return \"List is Empty\"\n",
    "        curr = self.head\n",
    "        prev = None\n",
    "        if pos ==0:\n",
    "            curr = curr.next\n",
    "            self.head = None\n",
    "            self.head = curr\n",
    "            return\n",
    "        while curr and pos != 0:\n",
    "            prev = curr\n",
    "            curr = curr.next\n",
    "            pos -= 1\n",
    "        prev.next = curr.next\n",
    "        curr = None\n",
    "    \n",
    "    def swap(self,data1,data2):\n",
    "        curr1 = self.head\n",
    "        prev1 = None\n",
    "        if self.head is None:\n",
    "            return \"0\"\n",
    "        while curr1.next and curr1.data != data1:\n",
    "            prev1 = curr1\n",
    "            curr1 = curr1.next\n",
    "        curr2 = self.head\n",
    "        prev2 = None\n",
    "        while curr2.next and curr2.data != data2:\n",
    "            prev2 = curr2\n",
    "            curr2 = curr2.next\n",
    "        if curr2.data != data2:\n",
    "            return \"swap not possible\"\n",
    "        if curr1.data != data1:\n",
    "            return \"swap is not possible with data1\"\n",
    "        if prev1:\n",
    "            prev1.next = curr2\n",
    "        if prev2 is None:\n",
    "            self.head = curr1\n",
    "        if prev2:\n",
    "            prev2.next = curr1\n",
    "        if prev1 is None:\n",
    "            self.head = curr2\n",
    "        curr1.next,curr2.next = curr2.next,curr1.next\n",
    "        \n",
    "    def reverse_list(self):\n",
    "        if self.head is None:\n",
    "            return \"Not possible\"\n",
    "        curr = self.head\n",
    "        prev = None\n",
    "        while curr:\n",
    "            x = prev\n",
    "            prev = curr\n",
    "            curr = curr.next\n",
    "            prev.next = x\n",
    "        self.head = prev\n",
    "        \n",
    "    def merge_sorted_list(self,l2):\n",
    "        p = self.head\n",
    "        q = l2.head\n",
    "        s = None\n",
    "        if p.data < q.data:\n",
    "            s = p\n",
    "            p = p.next\n",
    "        else:\n",
    "            s = q\n",
    "            q = q.next\n",
    "            \n",
    "        \n",
    "        while p and q:\n",
    "            if p.data < q.data:\n",
    "                s.next = p\n",
    "                s = p\n",
    "                p = p.next\n",
    "            else:\n",
    "                s.next = q\n",
    "                s = q\n",
    "                q = q.next\n",
    "                \n",
    "            if not p:\n",
    "                s.next = q\n",
    "            else:\n",
    "                s.next =q\n",
    "        \n",
    "    def duplicate(self):\n",
    "        curr = self.head\n",
    "        prev = None\n",
    "        q=[]\n",
    "        q.append(curr.data)\n",
    "        while curr.next:\n",
    "            prev = curr\n",
    "            curr = curr.next\n",
    "            \n",
    "            if curr.data in q:\n",
    "                print(curr.data)\n",
    "                x = curr.next\n",
    "                curr.next= None\n",
    "                curr = None\n",
    "                prev.next = x\n",
    "                curr = prev\n",
    "            else:\n",
    "                q.append(curr.data)\n",
    "                \n",
    "    def nth_to_last_node(self,pos):\n",
    "        if pos ==0:\n",
    "            return 'not possible'\n",
    "        if len(self)-pos ==0 :\n",
    "            return 'Not valid value'\n",
    "        if pos>len(self):\n",
    "            return 'Note valid value'\n",
    "        curr = self.head\n",
    "        prev = None\n",
    "        l=[]\n",
    "        l.append(curr.data)\n",
    "        while curr:\n",
    "            prev = curr\n",
    "            l.append(curr.data)\n",
    "            curr = curr.next\n",
    "            \n",
    "        return l[-pos]"
   ]
  },
  {
   "cell_type": "code",
   "execution_count": 40,
   "metadata": {},
   "outputs": [],
   "source": [
    "l1 = linkedlist()"
   ]
  },
  {
   "cell_type": "code",
   "execution_count": 41,
   "metadata": {},
   "outputs": [],
   "source": [
    "l1.append(1)\n",
    "l1.append(6)\n",
    "l1.append(1)\n",
    "l1.append(4)\n",
    "l1.append(2)\n",
    "l1.append(2)\n",
    "l1.append(4)\n"
   ]
  },
  {
   "cell_type": "code",
   "execution_count": 42,
   "metadata": {},
   "outputs": [
    {
     "name": "stdout",
     "output_type": "stream",
     "text": [
      "1\n",
      "6\n",
      "1\n",
      "4\n",
      "2\n",
      "2\n",
      "4\n"
     ]
    }
   ],
   "source": [
    "l1.print_list()"
   ]
  },
  {
   "cell_type": "code",
   "execution_count": 43,
   "metadata": {},
   "outputs": [
    {
     "name": "stdout",
     "output_type": "stream",
     "text": [
      "1\n",
      "2\n",
      "4\n"
     ]
    }
   ],
   "source": [
    "x1 = l1.duplicate()"
   ]
  },
  {
   "cell_type": "code",
   "execution_count": 44,
   "metadata": {},
   "outputs": [
    {
     "name": "stdout",
     "output_type": "stream",
     "text": [
      "1\n",
      "6\n",
      "4\n",
      "2\n"
     ]
    }
   ],
   "source": [
    "l1.print_list()"
   ]
  },
  {
   "cell_type": "code",
   "execution_count": 47,
   "metadata": {},
   "outputs": [
    {
     "data": {
      "text/plain": [
       "'Note valid value'"
      ]
     },
     "execution_count": 47,
     "metadata": {},
     "output_type": "execute_result"
    }
   ],
   "source": [
    "l1.nth_to_last_node(5)"
   ]
  },
  {
   "cell_type": "code",
   "execution_count": 46,
   "metadata": {},
   "outputs": [
    {
     "data": {
      "text/plain": [
       "4"
      ]
     },
     "execution_count": 46,
     "metadata": {},
     "output_type": "execute_result"
    }
   ],
   "source": [
    "len(l1)"
   ]
  },
  {
   "cell_type": "code",
   "execution_count": null,
   "metadata": {},
   "outputs": [],
   "source": []
  },
  {
   "cell_type": "code",
   "execution_count": null,
   "metadata": {},
   "outputs": [],
   "source": []
  }
 ],
 "metadata": {
  "kernelspec": {
   "display_name": "Python 3",
   "language": "python",
   "name": "python3"
  },
  "language_info": {
   "codemirror_mode": {
    "name": "ipython",
    "version": 3
   },
   "file_extension": ".py",
   "mimetype": "text/x-python",
   "name": "python",
   "nbconvert_exporter": "python",
   "pygments_lexer": "ipython3",
   "version": "3.6.0"
  }
 },
 "nbformat": 4,
 "nbformat_minor": 2
}
