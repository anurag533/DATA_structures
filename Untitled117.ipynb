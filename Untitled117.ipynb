{
 "cells": [
  {
   "cell_type": "code",
   "execution_count": 2,
   "metadata": {},
   "outputs": [],
   "source": [
    "class node:\n",
    "    def __init__(self,value):\n",
    "        self.value = value\n",
    "        self.right = None\n",
    "        self.left  = None\n",
    "    \n",
    "class binarytree:\n",
    "    def __init__(self,root):\n",
    "        self.root = root\n",
    "        \n",
    "    def printorder(self,traversal_type):\n",
    "        if traversal_type == \"preoreder\":\n",
    "            return self.preoredertraversal(tree.root, \"\")\n",
    "        elif traversal_type == \"inorder\":\n",
    "            return self.inordertraversal(tree.root, \"\")\n",
    "        elif traversal_type == \"postorder\":\n",
    "            return self.postordertraversal(tree.root, \"\")\n",
    "                        \n",
    "    def preoredertraversal(self,start,traversal):\n",
    "#         root->left->right\n",
    "        if start:\n",
    "            traversal += (str(start.value)+ \" - \")\n",
    "            traversal = self.preoredertraversal(start.left,traversal)\n",
    "            traversal = self.preoredertraversal(start.right,traversal)\n",
    "        return traversal\n",
    "    \n",
    "    def inordertraversal(self,start,traversal):\n",
    "#         left -> root -> right\n",
    "        if start:\n",
    "            traversal = self.inordertraversal(start.left,traversal)\n",
    "            traversal = (str(start.value)+ \" - \")\n",
    "            traversal = self.inordertraversal(start.right,traversal)\n",
    "        return traversal\n",
    "    \n",
    "    def postordertraversal(self,start,traversal):\n",
    "#         left -> right -> root\n",
    "        if start:\n",
    "            traversal = self.postordertraversal(self.left,traversal)\n",
    "            traversal = self.postordertraversal(self.right,traversal)\n",
    "            traversal += (str(start.value)+ \" - \")\n",
    "        return traversal\n",
    "    \n",
    "    def levelorder_traversal(self):"
   ]
  },
  {
   "cell_type": "code",
   "execution_count": null,
   "metadata": {},
   "outputs": [],
   "source": []
  }
 ],
 "metadata": {
  "kernelspec": {
   "display_name": "Python 3",
   "language": "python",
   "name": "python3"
  },
  "language_info": {
   "codemirror_mode": {
    "name": "ipython",
    "version": 3
   },
   "file_extension": ".py",
   "mimetype": "text/x-python",
   "name": "python",
   "nbconvert_exporter": "python",
   "pygments_lexer": "ipython3",
   "version": "3.6.0"
  }
 },
 "nbformat": 4,
 "nbformat_minor": 2
}
