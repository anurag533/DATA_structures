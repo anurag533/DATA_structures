{
 "cells": [
  {
   "cell_type": "markdown",
   "metadata": {},
   "source": [
    "# Adjacency list"
   ]
  },
  {
   "cell_type": "markdown",
   "metadata": {},
   "source": [
    "###### Graph"
   ]
  },
  {
   "cell_type": "code",
   "execution_count": 4,
   "metadata": {},
   "outputs": [],
   "source": [
    "class vertex:\n",
    "    def __init__(self,key):\n",
    "        self.id = key\n",
    "        self.connectedTo = {}\n",
    "    \n",
    "    def addnbr(self,nbr,weight = 0):\n",
    "        self.connectedTo[nbr] = weight\n",
    "    \n",
    "    def getid(self):\n",
    "        return self.id\n",
    "    \n",
    "    def getweight(self,nbr):\n",
    "        return self.connectedTo[nbr]\n",
    "    \n",
    "    def getconnection(self):\n",
    "        return self.connectedTo.keys()\n",
    "    \n",
    "    def __str__(self):\n",
    "        return str(self.id) + \"connected to\" + str([x.id for x in self.connectedTo])\n",
    "\n",
    "class graph:\n",
    "    def __init__(self):\n",
    "        self.vertlist = {}\n",
    "        self.numvert = 0\n",
    "        \n",
    "    def addverticex(self,key):\n",
    "        self.numvert += 1\n",
    "        newvert = vertex(key)\n",
    "        self.vertlist[key] = newvert\n",
    "        return newvert\n",
    "    \n",
    "    def addedge(self,f,t,cost):\n",
    "        if f not in self.vertlist:\n",
    "            nv = self.addverticex(f)\n",
    "        if t not in self.vertlist:\n",
    "            nv = self.addverticex(t)\n",
    "            \n",
    "        self.vertlist[f].addnbr(self.vertlist[t],cost)\n",
    "        "
   ]
  },
  {
   "cell_type": "code",
   "execution_count": null,
   "metadata": {},
   "outputs": [],
   "source": []
  },
  {
   "cell_type": "code",
   "execution_count": null,
   "metadata": {},
   "outputs": [],
   "source": []
  }
 ],
 "metadata": {
  "kernelspec": {
   "display_name": "Python 3",
   "language": "python",
   "name": "python3"
  },
  "language_info": {
   "codemirror_mode": {
    "name": "ipython",
    "version": 3
   },
   "file_extension": ".py",
   "mimetype": "text/x-python",
   "name": "python",
   "nbconvert_exporter": "python",
   "pygments_lexer": "ipython3",
   "version": "3.6.0"
  }
 },
 "nbformat": 4,
 "nbformat_minor": 2
}
