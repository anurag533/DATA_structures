{
 "cells": [
  {
   "cell_type": "code",
   "execution_count": 7,
   "metadata": {},
   "outputs": [
    {
     "name": "stdout",
     "output_type": "stream",
     "text": [
      "0\n",
      "[0, 0, 1, 2, 3]\n",
      "0\n",
      "[0, 1, 2, 3]\n",
      "0\n",
      "[1, 2, 3]\n",
      "1\n",
      "[2, 3]\n",
      "[2, 3]\n"
     ]
    }
   ],
   "source": [
    "nums1=[0,0,0,1,2,3]\n",
    "m=4\n",
    "for i in range(m):\n",
    "    \n",
    "    print(nums1.pop(0))\n",
    "    print(nums1)\n",
    "print(nums1)"
   ]
  },
  {
   "cell_type": "code",
   "execution_count": 19,
   "metadata": {},
   "outputs": [
    {
     "name": "stdout",
     "output_type": "stream",
     "text": [
      "[0, 1, 2, 3]\n"
     ]
    }
   ],
   "source": [
    "nums1=[1,2,3,0,0,0,0]\n",
    "m=3\n",
    "nums1.sort()\n",
    "for i in range(m):\n",
    "      nums1.pop(0)\n",
    "print(nums1)"
   ]
  },
  {
   "cell_type": "code",
   "execution_count": 28,
   "metadata": {},
   "outputs": [],
   "source": [
    "def merge(nums1, m, nums2,n):\n",
    "    c=len(nums1)\n",
    "    d=len(nums2)\n",
    "    nums1.sort()\n",
    "    if d==m:\n",
    "        for i in range(m):\n",
    "            nums1.pop(0)\n",
    "        nums1=nums1 + nums2\n",
    "        nums1.sort()\n",
    "        if c > m+n or c==m+n:\n",
    "            for i in range(c):\n",
    "                if nums1[i]==0:\n",
    "                    nums2.append(nums1[i])\n",
    "                    continue\n",
    "                if len(nums2)==2*d:\n",
    "                        pass\n",
    "                else:\n",
    "                    break\n",
    "                if nums1[0]==0:\n",
    "                     nums1.pop(0)\n",
    "                else:\n",
    "                     pass\n",
    "        return nums1\n",
    "    else:\n",
    "        return -1\n"
   ]
  },
  {
   "cell_type": "code",
   "execution_count": 30,
   "metadata": {},
   "outputs": [
    {
     "data": {
      "text/plain": [
       "[1, 2, 2, 3, 5, 6]"
      ]
     },
     "execution_count": 30,
     "metadata": {},
     "output_type": "execute_result"
    }
   ],
   "source": [
    "merge([1,2,3,0,0,0],3,[2,5,6],3)"
   ]
  },
  {
   "cell_type": "code",
   "execution_count": 119,
   "metadata": {},
   "outputs": [],
   "source": [
    "def merge(nums1,m,nums2,n):\n",
    "    c=len(nums1)\n",
    "    d=len(nums2)\n",
    "    nums1.sort()\n",
    "    if d!=m:\n",
    "        return -1\n",
    "    if d==m:\n",
    "        for i in range(m):\n",
    "             nums1.pop(0)\n",
    "        nums1=nums1 + nums2\n",
    "        nums1.sort()\n",
    "    if c > m+n or c==m+n:\n",
    "          for i in range(c):\n",
    "                if nums1[i]==0:\n",
    "                    nums2.append(nums1[i])\n",
    "                    continue\n",
    "                if len(nums2)==2*d:\n",
    "                       pass\n",
    "                else:\n",
    "                    break\n",
    "                if nums1[0]==0:\n",
    "                     nums1.pop(0)\n",
    "                else:\n",
    "                      pass\n",
    "    return nums1\n",
    "   "
   ]
  },
  {
   "cell_type": "code",
   "execution_count": 122,
   "metadata": {},
   "outputs": [
    {
     "data": {
      "text/plain": [
       "[2, 2, 3, 5, 6]"
      ]
     },
     "execution_count": 122,
     "metadata": {},
     "output_type": "execute_result"
    }
   ],
   "source": [
    "merge([1,2,3,0,0],3,[2,5,6],3)"
   ]
  },
  {
   "cell_type": "code",
   "execution_count": 115,
   "metadata": {},
   "outputs": [],
   "source": [
    "def ad(a,b):\n",
    "    c=a+b\n",
    "    print (c)\n"
   ]
  },
  {
   "cell_type": "code",
   "execution_count": 53,
   "metadata": {},
   "outputs": [
    {
     "name": "stdout",
     "output_type": "stream",
     "text": [
      "5\n"
     ]
    }
   ],
   "source": [
    "ad(2,3)"
   ]
  },
  {
   "cell_type": "code",
   "execution_count": 12,
   "metadata": {},
   "outputs": [
    {
     "name": "stdout",
     "output_type": "stream",
     "text": [
      "    *\n",
      "   ***\n",
      "  *****\n",
      " *******\n"
     ]
    }
   ],
   "source": [
    "n=4\n",
    "for i in range(n,0,-1):\n",
    "    print(\" \"*i  + \"*\"*(n+1-i)+\"*\"*(n-i)  )"
   ]
  },
  {
   "cell_type": "code",
   "execution_count": null,
   "metadata": {},
   "outputs": [],
   "source": []
  },
  {
   "cell_type": "code",
   "execution_count": null,
   "metadata": {},
   "outputs": [],
   "source": []
  }
 ],
 "metadata": {
  "kernelspec": {
   "display_name": "Python 3",
   "language": "python",
   "name": "python3"
  },
  "language_info": {
   "codemirror_mode": {
    "name": "ipython",
    "version": 3
   },
   "file_extension": ".py",
   "mimetype": "text/x-python",
   "name": "python",
   "nbconvert_exporter": "python",
   "pygments_lexer": "ipython3",
   "version": "3.6.0"
  }
 },
 "nbformat": 4,
 "nbformat_minor": 2
}
