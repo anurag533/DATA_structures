{
 "cells": [
  {
   "cell_type": "code",
   "execution_count": 1,
   "metadata": {},
   "outputs": [
    {
     "name": "stdout",
     "output_type": "stream",
     "text": [
      "pygame 1.9.6\n",
      "Hello from the pygame community. https://www.pygame.org/contribute.html\n"
     ]
    }
   ],
   "source": [
    "import pygame\n",
    "pygame.init()\n",
    "win = pygame.display.set_mode((500,500))\n",
    "pygame.display.set_caption('Game')\n",
    "\n",
    "x = 0\n",
    "y = 0\n",
    "width = 40\n",
    "height = 50\n",
    "vel = 5\n",
    "isjump = False\n",
    "jumpcount = 10\n",
    "run = True\n",
    "while run:\n",
    "    pygame.time.delay(0)\n",
    "    for event in pygame.event.get():\n",
    "        if event.type == pygame.QUIT:\n",
    "             run =  False\n",
    "    keys = pygame.key.get_pressed()\n",
    "    if keys[pygame.K_LEFT] and x > vel :\n",
    "        x -= vel\n",
    "    if keys[pygame.K_RIGHT] and x < 500 - vel - width:\n",
    "        x += vel\n",
    "    if not (isjump):\n",
    "        if keys[pygame.K_UP] and y > vel:\n",
    "            y -= vel\n",
    "        if keys[pygame.K_DOWN] and y < 500 - height - vel:\n",
    "            y += vel\n",
    "        if keys[pygame.K_SPACE] and y > vel:\n",
    "            isjump = True\n",
    "    else:\n",
    "        if jumpcount >= -10:\n",
    "            neg = 1\n",
    "            if jumpcount < 0:\n",
    "                neg = -1\n",
    "            y -= (jumpcount **2 ) * 0.5 * neg\n",
    "            jumpcount -= 1\n",
    "        else:\n",
    "            isjump = False\n",
    "            jumpcount = 10\n",
    "        \n",
    "    win.fill((0,0,0))\n",
    "    pygame.draw.rect(win, (255,0,0), (x,y,width,height))\n",
    "    pygame.display.update()\n",
    "    \n",
    "pygame.quit()"
   ]
  },
  {
   "cell_type": "code",
   "execution_count": null,
   "metadata": {},
   "outputs": [],
   "source": []
  }
 ],
 "metadata": {
  "kernelspec": {
   "display_name": "Python 3",
   "language": "python",
   "name": "python3"
  },
  "language_info": {
   "codemirror_mode": {
    "name": "ipython",
    "version": 3
   },
   "file_extension": ".py",
   "mimetype": "text/x-python",
   "name": "python",
   "nbconvert_exporter": "python",
   "pygments_lexer": "ipython3",
   "version": "3.7.6"
  }
 },
 "nbformat": 4,
 "nbformat_minor": 4
}
