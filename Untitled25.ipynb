{
 "cells": [
  {
   "cell_type": "code",
   "execution_count": 66,
   "metadata": {},
   "outputs": [
    {
     "name": "stdout",
     "output_type": "stream",
     "text": [
      "2\n",
      "2\n",
      "4\n",
      "4\n"
     ]
    }
   ],
   "source": [
    "n=[1,4,2,2,2,1]\n",
    "m=[2,2,4,4]\n",
    "x=len(n)\n",
    "y=len(m)\n",
    "if x > y:\n",
    "    m.append(0)\n",
    "    for i in range(y):\n",
    "        z=m.pop(0)\n",
    "        if z in n:\n",
    "            print(z)\n",
    "        else:\n",
    "            pass\n",
    "        \n",
    "else:\n",
    "    n.append(0)\n",
    "    for i in range(x):\n",
    "        z=n.pop(0)\n",
    "        if z in m:\n",
    "            print(z)\n",
    "        else:\n",
    "            pass\n"
   ]
  },
  {
   "cell_type": "code",
   "execution_count": 53,
   "metadata": {},
   "outputs": [
    {
     "ename": "SyntaxError",
     "evalue": "'return' outside function (<ipython-input-53-8ae2b3eff971>, line 19)",
     "output_type": "error",
     "traceback": [
      "\u001b[1;36m  File \u001b[1;32m\"<ipython-input-53-8ae2b3eff971>\"\u001b[1;36m, line \u001b[1;32m19\u001b[0m\n\u001b[1;33m    return nums1\u001b[0m\n\u001b[1;37m    ^\u001b[0m\n\u001b[1;31mSyntaxError\u001b[0m\u001b[1;31m:\u001b[0m 'return' outside function\n"
     ]
    }
   ],
   "source": [
    "nums1=[1,2,2,1]\n",
    "\n",
    "nums2=[2,2]\n",
    "x=len(nums1)\n",
    "y=len(nums2)\n",
    "if x > y:\n",
    "    nums2.append(0)\n",
    "    for i in range(y):\n",
    "        z=nums2.pop(0)\n",
    "        if z in nums1:\n",
    "            print(nums2)\n",
    "            print(z)\n",
    "            print(\"o\")\n",
    "        else:\n",
    "            pass\n",
    "        nums1.append(z)\n",
    "    nums1.pop(0)\n",
    "    nums1.pop(len(nums1)-1)\n",
    "    return nums1\n",
    "else:\n",
    "    nums1.append(0)\n",
    "    for i in range(x):\n",
    "        z=nums1.pop(0)\n",
    "        if z in nums2:\n",
    "            print(nums1)\n",
    "            print(z)\n",
    "            #print(0)\n",
    "        else:\n",
    "            pass\n",
    "        nums1.append(z)\n",
    "    nums1.pop(0)\n",
    "    nums1.pop(len(nums1)-1)\n",
    "    return nums1"
   ]
  },
  {
   "cell_type": "code",
   "execution_count": 64,
   "metadata": {},
   "outputs": [
    {
     "name": "stdout",
     "output_type": "stream",
     "text": [
      "[9, 5, 0]\n",
      "4\n",
      "[5, 0, 4]\n",
      "9\n",
      "[4, 9]\n"
     ]
    }
   ],
   "source": [
    "nums1=[4,9,5]\n",
    "nums2 = [9,4,9,8,4]\n",
    "\n",
    "x=len(nums1)\n",
    "y=len(nums2)\n",
    "if x > y:\n",
    "    nums2.append(0)\n",
    "    for i in range(y):\n",
    "        z=nums2.pop(0)\n",
    "        if z in nums1:\n",
    "            print(nums2)\n",
    "            print(z)\n",
    "            print(\"o\")\n",
    "        else:\n",
    "            pass\n",
    "        nums2.append(z)\n",
    "    nums2.pop(0)\n",
    "    nums2.pop(len(nums2)-1)\n",
    "    print(nums2)\n",
    "else:\n",
    "    nums1.append(0)\n",
    "    for i in range(x):\n",
    "        z=nums1.pop(0)\n",
    "        if z in nums2:\n",
    "            print(nums1)\n",
    "            print(z)\n",
    "            #print(0)\n",
    "        else:\n",
    "            pass\n",
    "        nums1.append(z)\n",
    "    nums1.pop(0)\n",
    "    nums1.pop(len(nums1)-1)\n",
    "    print(nums1)"
   ]
  },
  {
   "cell_type": "code",
   "execution_count": null,
   "metadata": {},
   "outputs": [],
   "source": []
  }
 ],
 "metadata": {
  "kernelspec": {
   "display_name": "Python 3",
   "language": "python",
   "name": "python3"
  },
  "language_info": {
   "codemirror_mode": {
    "name": "ipython",
    "version": 3
   },
   "file_extension": ".py",
   "mimetype": "text/x-python",
   "name": "python",
   "nbconvert_exporter": "python",
   "pygments_lexer": "ipython3",
   "version": "3.6.0"
  }
 },
 "nbformat": 4,
 "nbformat_minor": 2
}
