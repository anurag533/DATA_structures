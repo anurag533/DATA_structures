{
 "cells": [
  {
   "cell_type": "code",
   "execution_count": 121,
   "metadata": {},
   "outputs": [
    {
     "name": "stdout",
     "output_type": "stream",
     "text": [
      " -  -  *  - \n",
      "\n",
      " *  -  -  - \n",
      "\n",
      " -  -  -  * \n",
      "\n",
      " -  *  -  - \n",
      "\n"
     ]
    }
   ],
   "source": [
    "# nqueensproblem\n",
    "\n",
    "class nqueensproblem:\n",
    "    def __init__(self,numofqueens):\n",
    "        self.numofqueens=numofqueens\n",
    "        self.chessboard=[[None for i in range(numofqueens)] for j in range(numofqueens)]\n",
    "    \n",
    "    def isplace(self,rowindex,columnindex):\n",
    "        #same row\n",
    "        for j in range(columnindex):\n",
    "            if self.chessboard[rowindex][j]==1:\n",
    "                return False\n",
    "            \n",
    "        #diagonal up\n",
    "        j = columnindex\n",
    "        for i in range(rowindex,-1,-1):\n",
    "            if j<0:\n",
    "                break\n",
    "            if self.chessboard[i][j]==1:\n",
    "                return False        \n",
    "            j=j-1\n",
    "        \n",
    "        #diagonal down\n",
    "        j = columnindex\n",
    "        for i in range(rowindex,len(self.chessboard)):\n",
    "            if j<0:\n",
    "                break\n",
    "            if self.chessboard[i][j]==1:\n",
    "                return False\n",
    "            j=j-1\n",
    "        return True\n",
    "    \n",
    "    def solvequeens(self):\n",
    "        if self.solve(0):\n",
    "            self.printqueens()\n",
    "        else:\n",
    "            print('No solution possible')\n",
    "            \n",
    "    def solve(self,columnindex):\n",
    "        if columnindex==self.numofqueens:\n",
    "            return True\n",
    "        for rowindex in range(self.numofqueens):\n",
    "            if self.isplace(rowindex,columnindex):\n",
    "                self.chessboard[rowindex][columnindex]=1\n",
    "                if self.solve(columnindex+1):\n",
    "                    return True\n",
    "                \n",
    "                self.chessboard[rowindex][columnindex]=0\n",
    "        return False\n",
    "    \n",
    "    def printqueens(self):\n",
    "        for i in range(self.numofqueens):\n",
    "            for j in range(self.numofqueens):\n",
    "                if self.chessboard[i][j]==1:\n",
    "                    print(' * ', end = \"\")\n",
    "                else:\n",
    "                    print(' - ', end = \"\")\n",
    "            print('\\n')\n",
    "\n",
    "q=nqueensproblem(4)\n",
    "\n",
    "q.solvequeens()"
   ]
  },
  {
   "cell_type": "code",
   "execution_count": null,
   "metadata": {},
   "outputs": [],
   "source": []
  },
  {
   "cell_type": "code",
   "execution_count": null,
   "metadata": {},
   "outputs": [],
   "source": []
  }
 ],
 "metadata": {
  "kernelspec": {
   "display_name": "Python 3",
   "language": "python",
   "name": "python3"
  },
  "language_info": {
   "codemirror_mode": {
    "name": "ipython",
    "version": 3
   },
   "file_extension": ".py",
   "mimetype": "text/x-python",
   "name": "python",
   "nbconvert_exporter": "python",
   "pygments_lexer": "ipython3",
   "version": "3.6.0"
  }
 },
 "nbformat": 4,
 "nbformat_minor": 2
}
